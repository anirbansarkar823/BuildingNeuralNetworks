{
  "nbformat": 4,
  "nbformat_minor": 0,
  "metadata": {
    "colab": {
      "name": "Copy of Federated_Learning.ipynb",
      "provenance": [],
      "collapsed_sections": []
    },
    "kernelspec": {
      "name": "python3",
      "display_name": "Python 3"
    },
    "language_info": {
      "name": "python"
    }
  },
  "cells": [
    {
      "cell_type": "code",
      "metadata": {
        "id": "fC9emmDVrYiX"
      },
      "source": [
        "## About temporal and spatial coefficients:\n",
        "# - time is first converted to seconds, then time slot using slot-size (which was taken to be 300 s)\n",
        "# - the latitude, longitude values are converted to whole number value by multiplying required powers of 10\n",
        "\n",
        "# # Normalization - lat, long : (l - l_min); basically converting to a range [0, l_max - l_min]\n",
        "\n",
        "# # Formula for correlation:\n",
        "# dST (x, y) = α.dS (x, y) + (1 − α).dT\n",
        "\n",
        "# ** α can be set to a value a value greater than 0.5 ---> (spatial corr) > (temporal corr)\n",
        "\n",
        "# # KNN-ST algorithm:\n",
        "# Inputs: k, α and type. {α - [0,1]; type - [naive (deduced value is simply avg of k nearest neighbors), weighted (weighted avg of k n neighbors; weight is inversely prop to distance from the data point to be deduced), k - number of neighbors to consider]\n",
        "\n",
        "\n"
      ],
      "execution_count": null,
      "outputs": []
    },
    {
      "cell_type": "code",
      "metadata": {
        "id": "36Z9nqAPrfIM"
      },
      "source": [
        "# Algorithm\n",
        "# //k, α and type are input parameters.\n",
        "for each missing data-point x do\n",
        "  # //Find deduced value of x, xd\n",
        "  Get the values of the k nearest points into array S[1..k]\n",
        "  # values means?? distance or direct cordinate values?\n",
        "\n",
        "  and the associated d_ST distances into array D[1..k]; \n",
        "  # d_ST (x, y) = α.d_S (x, y) + (1 − α).d_T\n",
        "\n",
        "  x_d ← 0\n",
        "  if type = ′naive′ then\n",
        "    sum_s ← 0\n",
        "    \n",
        "    for i = 1 to k do\n",
        "      sum_s ← sum_s + S[i]\n",
        "    end for\n",
        "    xd ← sums/k # simple avg of kNN values\n",
        "\n",
        "  else #type is weighted avg\n",
        "    if type = ′weighted′ then\n",
        "      sum_s ← 0; sum_d ← 0\n",
        "      \n",
        "      for i = 1 to k do\n",
        "        sum_d ← sum_d + 1/D[i]\n",
        "      end for\n",
        "      \n",
        "      for i = 1 to k do\n",
        "        x_d ← x_d + ((1/D[i])/sum_D).S[i] # Does D and d have different significance?\n",
        "      end for\n",
        "\n",
        "    end if\n",
        "  end if\n",
        "end for"
      ],
      "execution_count": null,
      "outputs": []
    },
    {
      "cell_type": "markdown",
      "metadata": {
        "id": "7JXo-MUf4o2H"
      },
      "source": [
        "#### Performance Evaluation"
      ]
    },
    {
      "cell_type": "code",
      "metadata": {
        "id": "t17--U9YztDl"
      },
      "source": [
        "      summation{i,j,t:S(i,j,t)=0 (|S(i, j, t) − Sˆ(i, j, t)|)} \n",
        "NE = ----------------------------------------------------------\n",
        "        summation{i,j,t:S(i,j,t)=0 (|S(i, j,t)|) }\n",
        "\n",
        "\n",
        "where, \n",
        "S(i, j, t) is the actual sensed value at voxel (i, j, t)\n",
        "Sˆ(i, j, t) is the deduced value at voxel (i, j, t). \n",
        "\n",
        "When, S(i, j, t) = 0, it means value at voxel (i, j, t) is missing (and has to be deduced)"
      ],
      "execution_count": null,
      "outputs": []
    },
    {
      "cell_type": "markdown",
      "metadata": {
        "id": "i2CMzEuT4rn1"
      },
      "source": [
        "#### Loss probability"
      ]
    },
    {
      "cell_type": "code",
      "metadata": {
        "id": "j8W2h6jZ19tJ"
      },
      "source": [
        "loss probability of 0.8 represents 80% of data is missing."
      ],
      "execution_count": null,
      "outputs": []
    },
    {
      "cell_type": "code",
      "metadata": {
        "id": "RvL2Jvg74mx1"
      },
      "source": [
        "ratioS = error(KNN-S)/(error(KNN-S)+error(KNN-T)). \n",
        "\n",
        "Here,\n",
        "error(KNN-S) and error(KNN-T) represent the error arrived\n",
        "at when KNN-S and KNN-T are applied respectively. \n",
        "\n",
        "Similarly, \n",
        "ratioT = error(KNN-T)/(error(KNN-S) + error(KNN-T)).\n"
      ],
      "execution_count": null,
      "outputs": []
    },
    {
      "cell_type": "markdown",
      "metadata": {
        "id": "_nlPlEG1_r6O"
      },
      "source": [
        "#### The higher the error ratio, the lesser the correlation"
      ]
    },
    {
      "cell_type": "code",
      "metadata": {
        "id": "_E4M3ng9_zE6"
      },
      "source": [
        "## set α = 1−ratioS since α is the weight assigned to the spatial component. "
      ],
      "execution_count": null,
      "outputs": []
    },
    {
      "cell_type": "markdown",
      "metadata": {
        "id": "oufRY9dJS4pG"
      },
      "source": [
        "### More on Federated Learning\n"
      ]
    },
    {
      "cell_type": "code",
      "metadata": {
        "colab": {
          "base_uri": "https://localhost:8080/"
        },
        "id": "goIkESrz0wSD",
        "outputId": "b1570d63-7a82-488f-d2d0-2864a14d0d93"
      },
      "source": [
        "from google.colab import drive\n",
        "drive.mount('/content/drive')"
      ],
      "execution_count": 1,
      "outputs": [
        {
          "output_type": "stream",
          "name": "stdout",
          "text": [
            "Mounted at /content/drive\n"
          ]
        }
      ]
    },
    {
      "cell_type": "code",
      "metadata": {
        "id": "DNhUiqXTS7YJ"
      },
      "source": [
        "# What I understood is, basically the server has connection with multiple clients (say mobile devices).\n",
        "# The problem was earlier, client had to send their data (say heath data, messages typed on keyboard) to server so that a model can be built using clients data\n",
        "# Here, privacy and protection of data was at stake\n",
        "\n",
        "# Now using FL, the server will initiate a model (based on know parameters to consider) using some weights and biases.\n",
        "# The same parameters will be sent to all the clients.\n",
        "# On client devices, a model will be built using the received parameters and then train and update it accordingly. This process will occur on each client\n",
        "# Once trained, the learned weight and biases will be sent server.\n",
        "# On server, all the weights and biases will be aggregated (say using mean/average) and then that aggreated updated weights and biases will again be sent to each clients\n",
        "# The above process will be repeated until we reach a optimal weights and biases [Although in real life, as new data gets generated everyday on client devices, the process should take place regularly to serve clients with the best model]\n",
        "# Throughtout the process, clients' data never leave their place.\n",
        "\n"
      ],
      "execution_count": null,
      "outputs": []
    },
    {
      "cell_type": "code",
      "metadata": {
        "id": "HkB6xhA6bztz"
      },
      "source": [
        "## How different from Distributed Learnings?\n",
        "# Definitely different from distributed learnings. In distributed learning, all the high-end devices are generally on same network inside a restricted area.\n",
        "# Distributed learing is thus much much faster than FL. (one because FL devices are on different networks; second devices have very less processing power)"
      ],
      "execution_count": null,
      "outputs": []
    },
    {
      "cell_type": "code",
      "metadata": {
        "id": "WGsthg4KbPRU"
      },
      "source": [
        "# Details of FedAvg\n",
        "  # FedAvg Loss: aim is to minimize overall global loss \n",
        "  # f(w) = summation(k=1 to K){(n_k / n) * F_k(w)}\n",
        "  # K - number of clients\n",
        "  # F_k - Client k's loss function; this is getting calculated on each client's individual devices\n",
        "  # n_k - weighted by size of client k's dataset; devices with larger dataset will have more losses\n",
        "  # Algorithm: FederatedAveraging. The K clients are\n",
        "            # indexed by k; B is the local mini-batch size, E is the number\n",
        "            # of local epochs, and η is the learning rate.\n",
        "\n",
        "  # Server executes:\n",
        "    initialize w_0\n",
        "    for each round t = 1, 2, . . . do\n",
        "      m ← max(C · K, 1)\n",
        "      S_t ← (random set of m clients)\n",
        "    \n",
        "      for each client k ∈ S_t in parallel do\n",
        "        w^(k)_(t+1) ← ClientUpdate(k, w_t)\n",
        "      w_(t+1) ← summation(k=1 to K){(n_k/n) * w^(k)_(t+1)} #n_k - no. of training sample in each client K; n - total training samples;\n",
        "\n",
        "\n",
        "  # ClientUpdate(k, w): // Run on client k\n",
        "    B ← (split P_k into batches of size B) # what is p_K???\n",
        "    for each local epoch i from 1 to E do\n",
        "      for batch b ∈ B do\n",
        "        w ← w − η O l(w; b) # this seems the SGD process\n",
        "    \n",
        "    return w to server\n"
      ],
      "execution_count": null,
      "outputs": []
    },
    {
      "cell_type": "code",
      "metadata": {
        "id": "DOG11qdKixyn"
      },
      "source": [
        "# Improvements on FedAvg\n",
        "  # Problem with FedAvg: 1. assumption that all local devices will have 'E' epochs of SGD; as a result some devices takes longer time than others\n",
        "                      # 2. FedAvg ends up prefering devices with more data\n",
        "              \n",
        "  # 1st improvement: FedProx:\n",
        "                          # 1. adds a regularization term to penalize large change in weights\n",
        "\n",
        "  # and many more improvements are there\n"
      ],
      "execution_count": null,
      "outputs": []
    },
    {
      "cell_type": "code",
      "metadata": {
        "id": "OthrQIBykB1Y"
      },
      "source": [
        "# # Frameworks and datasets\n",
        "#   1. TensorFlow Federated: Machine Learning on Decentralized Data\n",
        "#   2. PyTorch: PySyft\n",
        "#   3. Flower: pip install flwr"
      ],
      "execution_count": null,
      "outputs": []
    },
    {
      "cell_type": "markdown",
      "metadata": {
        "id": "MrShdh54NF_7"
      },
      "source": [
        "# 20th Sept, 2021\n"
      ]
    },
    {
      "cell_type": "markdown",
      "metadata": {
        "id": "-47fc5iCKyjA"
      },
      "source": [
        "[Gradient Descent in LR](https://miro.medium.com/max/450/1*G3evFxIAlDchOx5Wl7bV5g.png)"
      ]
    },
    {
      "cell_type": "markdown",
      "metadata": {
        "id": "03TGv8PGJaeN"
      },
      "source": [
        "### Batched Gradient Descent\n",
        "*  In the batch gradient descent, to calculate the gradient of the cost function, we need to sum all training examples for each steps\n",
        "* If we have 3 millions samples (m training examples) then the gradient descent algorithm should sum 3 millions samples for every epoch. To move a single step, we have to calculate each with 3 million times!"
      ]
    },
    {
      "cell_type": "code",
      "metadata": {
        "id": "bWVu_jrTJZuu"
      },
      "source": [
        "def gradientDescent(X, y, theta, alpha, num_iters):\n",
        "    \"\"\"\n",
        "       Performs gradient descent to learn theta\n",
        "       theta: t0 (y-intercept), t1 (slope)\n",
        "    \"\"\"\n",
        "    m = y.size  # number of training examples\n",
        "\n",
        "    for i in range(num_iters):\n",
        "        y_hat = np.dot(X, theta)\n",
        "        theta = theta - alpha * (1.0/m) * np.dot(X.T, y_hat-y)\n",
        "    return theta"
      ],
      "execution_count": null,
      "outputs": []
    },
    {
      "cell_type": "markdown",
      "metadata": {
        "id": "1Ub4Em8qL42c"
      },
      "source": [
        "### Stochastic Gradient Descent (SGD)\n",
        "* In stochastic Gradient Descent, we use one example or one training sample at each iteration instead of using whole dataset to sum all for every steps\n",
        "* SGD is widely used for larger dataset trainings and computationally faster and can be trained in parallel"
      ]
    },
    {
      "cell_type": "code",
      "metadata": {
        "id": "AokRRH-rL_M_"
      },
      "source": [
        "def SGD(f, theta0, alpha, num_iters):\n",
        "    \"\"\" \n",
        "       Arguments:\n",
        "       f -- the function to optimize, it takes a single argument\n",
        "            and yield two outputs, a cost and the gradient\n",
        "            with respect to the arguments\n",
        "       theta0 -- the initial point to start SGD from\n",
        "       num_iters -- total iterations to run SGD for\n",
        "       Return:\n",
        "       theta -- the parameter value after SGD finishes\n",
        "    \"\"\"\n",
        "    start_iter = 0\n",
        "    theta= theta0\n",
        "    for iter in xrange(start_iter + 1, num_iters + 1):\n",
        "        _, grad = f(theta)\n",
        "        theta = theta - (alpha * grad) # there is NO dot product!\n",
        "    return theta"
      ],
      "execution_count": null,
      "outputs": []
    },
    {
      "cell_type": "markdown",
      "metadata": {
        "id": "Wbn_SmGJMdbj"
      },
      "source": [
        "### Mini-Batch Gradient Descent\n",
        "* It is similar like SGD, it uses n samples instead of 1 at each iteration."
      ]
    },
    {
      "cell_type": "markdown",
      "metadata": {
        "id": "0k1yqEjoo5Jh"
      },
      "source": [
        "# 22nd September, 2021\n",
        "#### Implementing the Algorithm using python code"
      ]
    },
    {
      "cell_type": "code",
      "metadata": {
        "id": "QueYu3Mpo8HJ"
      },
      "source": [
        "# Details of FedAvg\n",
        "  # FedAvg Loss: aim is to minimize overall global loss \n",
        "  # f(w) = summation(k=1 to K){(n_k / n) * F_k(w)}\n",
        "  # K - number of clients\n",
        "  # F_k - Client k's loss function; this is getting calculated on each client's individual devices\n",
        "  # n_k - weighted by size of client k's dataset; devices with larger dataset will have more losses\n",
        "  # Algorithm: FederatedAveraging. The K clients are\n",
        "            # indexed by k; B is the local mini-batch size, E is the number\n",
        "            # of local epochs, and η is the learning rate.\n",
        "\n",
        "K = 25 # as we have 25 clients\n",
        "clients = {} # dictionary\n",
        "\n",
        "# reading all the clients\n",
        "for st_code in range(101,126):\n",
        "    clients[st_code] = pd.read_csv(\"/content/drive/MyDrive/Colab Notebooks/dataNew/station_code\"+str(st_code)+\".csv\")\n",
        "\n",
        "\n",
        "\n",
        "# Server executes: \n",
        "def Server():\n",
        "  # initialize w_0\n",
        "  model = Sequential()\n",
        "\n",
        "  # model.add(Dense(64, kernel_initializer='zeros', bias_initializer='zeros', activation=tf.nn.relu, input_dim=6)) # first dense/hidden layer\n",
        "  model.add(Dense(64, kernel_initializer='he_uniform', bias_initializer=\"zeros\", activation=tf.nn.relu, input_dim=2))\n",
        "  model.add(Dropout(0.1))\n",
        "\n",
        "  model.add(Dense(64, kernel_initializer='he_uniform', bias_initializer=\"zeros\", activation=tf.nn.relu)) # second dense/hidden layer\n",
        "  model.add(Dropout(0.2))\n",
        "\n",
        "  model.add(Dense(1, kernel_initializer=init_mode, activation=tf.nn.softmax)) # output layer\n",
        "\n",
        "  # compile model\n",
        "  model.compile(loss='mse',\n",
        "            optimizer='SGD',\n",
        "            metrics=['mse'])\n",
        "  \n",
        "  # return model\n",
        "\n",
        "  # for each round t = 1, 2, . . . do\n",
        "  for t in range(1, 5):\n",
        "    C = np.random.random(1)[0]\n",
        "\n",
        "    # m ← max(C  K, 1)\n",
        "    m = max(int(C*K), 1) # m == random number of client selected\n",
        "    weight_t_plus_1 = [None] * m # matrix to store the weights of all client in each t-round\n",
        "    n_k = [None] * m # parameters for weighted sum \n",
        "\n",
        "\n",
        "    # S_t ← (random set of m clients)\n",
        "    S = {} # dictionary\n",
        "    m_clients = np.random.uniform(low=101, high=126, size=(m)).astype(int)\n",
        "    for client in m_clients:\n",
        "      S[client] = clients[client]\n",
        "    \n",
        "    initial_weights = model.get_weights() # setting initial weights; should be same for all clients\n",
        "\n",
        "    # for each client k ∈ S_t in parallel do\n",
        "    client_idx = 0\n",
        "    for client in S:\n",
        "      # w^(k)_(t+1) ← ClientUpdate(k, model)\n",
        "      n_k[client_idx] = Client(client, model) # pass by reference\n",
        "      weight_t_plus_1[client_idx] = model.get_weights()\n",
        "      client_idx += 1\n",
        "      \n",
        "      # setting weights back to initial weights\n",
        "      model.set_weights(initial_weights)\n",
        "\n",
        "    final_weights_t = np.array(weight_t_plus_1[0]) * (n_k[0]/ sum(n_k))\n",
        "\n",
        "    for idx in range(1, len(weight_t_plus_1)):\n",
        "      # w_(t+1) ← summation(k=1 to K){(n_k/n) * w^(k)_(t+1)} #n_k - no. of training sample in each client K; n - total training samples;\n",
        "      final_weights_t += np.array(weight_t_plus_1[0]) * (n_k[idx]/ sum(n_k))\n",
        "\n",
        "    # setting the aggregated weights\n",
        "    model.set_weights(final_weights_t)\n",
        "\n",
        "# -----------------------------------------------------------------------------------------------------------------------\n",
        "\n",
        "\n",
        "# ClientUpdate(k, w): // Run on client k\n",
        "def Client(client, model):\n",
        "  B ← (split P_k into batches of size B) # what is p_K???\n",
        "  for each local epoch i from 1 to E do\n",
        "    for batch b ∈ B do\n",
        "      w ← w − η O l(w; b) # this seems the SGD process\n",
        "\n",
        "   return w to server"
      ],
      "execution_count": null,
      "outputs": []
    },
    {
      "cell_type": "markdown",
      "metadata": {
        "id": "K7DMdbRUROCH"
      },
      "source": [
        "# 24th Sept, 2021"
      ]
    },
    {
      "cell_type": "code",
      "metadata": {
        "id": "W-DjpqINRRyk"
      },
      "source": [
        "# Details of FedAvg\n",
        "  # FedAvg Loss: aim is to minimize overall global loss \n",
        "  # f(w) = summation(k=1 to K){(n_k / n) * F_k(w)}\n",
        "  # K - number of clients\n",
        "  # F_k - Client k's loss function; this is getting calculated on each client's individual devices\n",
        "  # n_k - weighted by size of client k's dataset; devices with larger dataset will have more losses\n",
        "  # Algorithm: FederatedAveraging. The K clients are\n",
        "            # indexed by k; B is the local mini-batch size, E is the number\n",
        "            # of local epochs, and η is the learning rate.\n",
        "\n",
        "K = 25 # as we have 25 clients\n",
        "clients = {} # dictionary\n",
        "\n",
        "# reading all the clients\n",
        "for st_code in range(101,126):\n",
        "    clients[st_code] = pd.read_csv(\"/content/drive/MyDrive/Colab Notebooks/dataNew/station_code\"+str(st_code)+\".csv\")\n",
        "\n",
        "\n",
        "\n",
        "# Server executes: \n",
        "def Server():\n",
        "  # initialize w_0\n",
        "  model = Sequential()\n",
        "\n",
        "  # model.add(Dense(64, kernel_initializer='zeros', bias_initializer='zeros', activation=tf.nn.relu, input_dim=6)) # first dense/hidden layer\n",
        "  model.add(Dense(64, kernel_initializer='he_uniform', bias_initializer=\"zeros\", activation=tf.nn.relu, input_dim=2))\n",
        "  model.add(Dropout(0.1))\n",
        "\n",
        "  model.add(Dense(64, kernel_initializer='he_uniform', bias_initializer=\"zeros\", activation=tf.nn.relu)) # second dense/hidden layer\n",
        "  model.add(Dropout(0.2))\n",
        "\n",
        "  model.add(Dense(1, kernel_initializer=init_mode, activation=tf.nn.softmax)) # output layer\n",
        "\n",
        "  # initial_weights = model.get_weights() # setting initial weights; should be same for all clients\n",
        "\n",
        "\n",
        "  # for each round t = 1, 2, . . . do\n",
        "  for t in range(1, 5):\n",
        "    C = np.random.random(1)[0] # random number between 0 and 1.\n",
        "\n",
        "    # m ← max(C  K, 1)\n",
        "    m = max(int(C*K), 1) # m == random number of client selected\n",
        "    weight_t_plus_1 = [None] * m # matrix to store the weights of all client in each t-round\n",
        "    n_k = [None] * m # parameters for weighted sum \n",
        "\n",
        "\n",
        "    # S_t ← (random set of m clients)\n",
        "    # S = {} # dictionary\n",
        "    S_t = np.random.uniform(low=101, high=126, size=(m)).astype(int)\n",
        "\n",
        "    # No need for below loop, as server don't need access to client data, server only need clients' number\n",
        "    # for client in m_clients:\n",
        "    #   S[client] = clients[client]\n",
        "    \n",
        "    initial_weights = model.get_weights() # setting initial weights; should be same for all clients\n",
        "    # for t= 1 to T, initial_weights would be t-1th's final weights\n",
        "\n",
        "    # for each client k ∈ S_t in parallel do\n",
        "    client_idx = 0\n",
        "    for client in S_t:\n",
        "      # w^(k)_(t+1) ← ClientUpdate(k, model)\n",
        "      n_k[client_idx] = Client(client, model) # pass by reference\n",
        "      weight_t_plus_1[client_idx] = model.get_weights()\n",
        "      client_idx += 1\n",
        "      \n",
        "      # setting weights back to initial weights\n",
        "      model.set_weights(initial_weights)\n",
        "\n",
        "    # finding the weighted sum\n",
        "    final_weights_t = np.array(weight_t_plus_1[0]) * (n_k[0] / sum(n_k))\n",
        "\n",
        "    for idx in range(1, m):\n",
        "      # w_(t+1) ← summation(k=1 to K){(n_k/n) * w^(k)_(t+1)} #n_k - no. of training sample in each client K; n - total training samples;\n",
        "      final_weights_t += np.array(weight_t_plus_1[idx]) * (n_k[idx]/ sum(n_k))\n",
        "\n",
        "    # setting the aggregated weights\n",
        "    model.set_weights(final_weights_t)\n",
        "\n",
        "# -----------------------------------------------------------------------------------------------------------------------\n",
        "\n",
        "\n",
        "# ClientUpdate(k, w): // Run on client k\n",
        "def Client(client_idx, model):\n",
        "# B ← (split P_k into batches of size B) # what is p_K --> each clients' sample size\n",
        "  B = len(clients[client_idx]) / 1000 # so for each client the batch size would be different depending upon the total sample size\n",
        "  E = 30 + B # number of local epochs; it will also depend on sample size (indirectly)\n",
        "  learning_rate = 0.1 # initial learning rate\n",
        "  decay_rate = 0.1\n",
        "  momentum = 0.8\n",
        "\n",
        "  # define the optimizer function\n",
        "  sgd = SGD(lr = learning_rate, momentum = momentum, decay = decay_rate, nesterov = False)\n",
        "\n",
        "  # compile the model\n",
        "  model.compile(loss='mse', \n",
        "                optimizer=sgd, \n",
        "                metrics=['mse'])\n",
        "  \n",
        "\n",
        "# for each local epoch i from 1 to E do\n",
        "#   for batch b ∈ B do\n",
        "#     w ← w − η O l(w; b) # this seems the SGD process\n",
        "\n",
        "  # fitting the model: same as above two for loops\n",
        "  dataset = clients[client_idx]\n",
        "  X, y = \n",
        "  x_train, x_test, y_train, y_test = train_test_split(X, y, test_size = 0.1, random_state=1)\n",
        "  keras_model.fit(x_train, y_train, \n",
        "                  epochs = E, \n",
        "                  batch_size=B,\n",
        "                  validation_data=(x_test, y_test),\n",
        "                  verbose=True)\n",
        "\n",
        "  # return w to server\n",
        "  # in our case no need for any explicit return; as the model is pass by value\n",
        "  return dataset.shape[0] # this will return the number of total sample\n"
      ],
      "execution_count": null,
      "outputs": []
    },
    {
      "cell_type": "markdown",
      "metadata": {
        "id": "CvVvIjwV5Aet"
      },
      "source": [
        "# 29th Sept, 2021"
      ]
    },
    {
      "cell_type": "code",
      "metadata": {
        "colab": {
          "base_uri": "https://localhost:8080/"
        },
        "id": "OCWojUBdHU6w",
        "outputId": "d2a2efdb-8dfa-4917-cc4b-7a683967224a"
      },
      "source": [
        "!pip install keras"
      ],
      "execution_count": 3,
      "outputs": [
        {
          "output_type": "stream",
          "name": "stdout",
          "text": [
            "Requirement already satisfied: keras in /usr/local/lib/python3.7/dist-packages (2.6.0)\n"
          ]
        }
      ]
    },
    {
      "cell_type": "code",
      "metadata": {
        "colab": {
          "base_uri": "https://localhost:8080/"
        },
        "id": "R9YV_H0zF4S_",
        "outputId": "4204d754-aa6e-4425-ccdc-bf4151bf9e55"
      },
      "source": [
        "!pip install tensorflow"
      ],
      "execution_count": 5,
      "outputs": [
        {
          "output_type": "stream",
          "name": "stdout",
          "text": [
            "Requirement already satisfied: tensorflow in /usr/local/lib/python3.7/dist-packages (2.2.0)\n",
            "Requirement already satisfied: astunparse==1.6.3 in /usr/local/lib/python3.7/dist-packages (from tensorflow) (1.6.3)\n",
            "Requirement already satisfied: gast==0.3.3 in /usr/local/lib/python3.7/dist-packages (from tensorflow) (0.3.3)\n",
            "Requirement already satisfied: google-pasta>=0.1.8 in /usr/local/lib/python3.7/dist-packages (from tensorflow) (0.2.0)\n",
            "Requirement already satisfied: grpcio>=1.8.6 in /usr/local/lib/python3.7/dist-packages (from tensorflow) (1.40.0)\n",
            "Requirement already satisfied: scipy==1.4.1 in /usr/local/lib/python3.7/dist-packages (from tensorflow) (1.4.1)\n",
            "Requirement already satisfied: opt-einsum>=2.3.2 in /usr/local/lib/python3.7/dist-packages (from tensorflow) (3.3.0)\n",
            "Requirement already satisfied: wheel>=0.26 in /usr/local/lib/python3.7/dist-packages (from tensorflow) (0.37.0)\n",
            "Requirement already satisfied: six>=1.12.0 in /usr/local/lib/python3.7/dist-packages (from tensorflow) (1.15.0)\n",
            "Requirement already satisfied: h5py<2.11.0,>=2.10.0 in /usr/local/lib/python3.7/dist-packages (from tensorflow) (2.10.0)\n",
            "Requirement already satisfied: tensorboard<2.3.0,>=2.2.0 in /usr/local/lib/python3.7/dist-packages (from tensorflow) (2.2.2)\n",
            "Requirement already satisfied: keras-preprocessing>=1.1.0 in /usr/local/lib/python3.7/dist-packages (from tensorflow) (1.1.2)\n",
            "Requirement already satisfied: tensorflow-estimator<2.3.0,>=2.2.0 in /usr/local/lib/python3.7/dist-packages (from tensorflow) (2.2.0)\n",
            "Requirement already satisfied: numpy<2.0,>=1.16.0 in /usr/local/lib/python3.7/dist-packages (from tensorflow) (1.19.5)\n",
            "Requirement already satisfied: protobuf>=3.8.0 in /usr/local/lib/python3.7/dist-packages (from tensorflow) (3.17.3)\n",
            "Requirement already satisfied: absl-py>=0.7.0 in /usr/local/lib/python3.7/dist-packages (from tensorflow) (0.12.0)\n",
            "Requirement already satisfied: wrapt>=1.11.1 in /usr/local/lib/python3.7/dist-packages (from tensorflow) (1.12.1)\n",
            "Requirement already satisfied: termcolor>=1.1.0 in /usr/local/lib/python3.7/dist-packages (from tensorflow) (1.1.0)\n",
            "Requirement already satisfied: requests<3,>=2.21.0 in /usr/local/lib/python3.7/dist-packages (from tensorboard<2.3.0,>=2.2.0->tensorflow) (2.23.0)\n",
            "Requirement already satisfied: google-auth-oauthlib<0.5,>=0.4.1 in /usr/local/lib/python3.7/dist-packages (from tensorboard<2.3.0,>=2.2.0->tensorflow) (0.4.6)\n",
            "Requirement already satisfied: markdown>=2.6.8 in /usr/local/lib/python3.7/dist-packages (from tensorboard<2.3.0,>=2.2.0->tensorflow) (3.3.4)\n",
            "Requirement already satisfied: tensorboard-plugin-wit>=1.6.0 in /usr/local/lib/python3.7/dist-packages (from tensorboard<2.3.0,>=2.2.0->tensorflow) (1.8.0)\n",
            "Requirement already satisfied: werkzeug>=0.11.15 in /usr/local/lib/python3.7/dist-packages (from tensorboard<2.3.0,>=2.2.0->tensorflow) (1.0.1)\n",
            "Requirement already satisfied: google-auth<2,>=1.6.3 in /usr/local/lib/python3.7/dist-packages (from tensorboard<2.3.0,>=2.2.0->tensorflow) (1.35.0)\n",
            "Requirement already satisfied: setuptools>=41.0.0 in /usr/local/lib/python3.7/dist-packages (from tensorboard<2.3.0,>=2.2.0->tensorflow) (57.4.0)\n",
            "Requirement already satisfied: pyasn1-modules>=0.2.1 in /usr/local/lib/python3.7/dist-packages (from google-auth<2,>=1.6.3->tensorboard<2.3.0,>=2.2.0->tensorflow) (0.2.8)\n",
            "Requirement already satisfied: rsa<5,>=3.1.4 in /usr/local/lib/python3.7/dist-packages (from google-auth<2,>=1.6.3->tensorboard<2.3.0,>=2.2.0->tensorflow) (4.7.2)\n",
            "Requirement already satisfied: cachetools<5.0,>=2.0.0 in /usr/local/lib/python3.7/dist-packages (from google-auth<2,>=1.6.3->tensorboard<2.3.0,>=2.2.0->tensorflow) (4.2.2)\n",
            "Requirement already satisfied: requests-oauthlib>=0.7.0 in /usr/local/lib/python3.7/dist-packages (from google-auth-oauthlib<0.5,>=0.4.1->tensorboard<2.3.0,>=2.2.0->tensorflow) (1.3.0)\n",
            "Requirement already satisfied: importlib-metadata in /usr/local/lib/python3.7/dist-packages (from markdown>=2.6.8->tensorboard<2.3.0,>=2.2.0->tensorflow) (4.8.1)\n",
            "Requirement already satisfied: pyasn1<0.5.0,>=0.4.6 in /usr/local/lib/python3.7/dist-packages (from pyasn1-modules>=0.2.1->google-auth<2,>=1.6.3->tensorboard<2.3.0,>=2.2.0->tensorflow) (0.4.8)\n",
            "Requirement already satisfied: chardet<4,>=3.0.2 in /usr/local/lib/python3.7/dist-packages (from requests<3,>=2.21.0->tensorboard<2.3.0,>=2.2.0->tensorflow) (3.0.4)\n",
            "Requirement already satisfied: certifi>=2017.4.17 in /usr/local/lib/python3.7/dist-packages (from requests<3,>=2.21.0->tensorboard<2.3.0,>=2.2.0->tensorflow) (2021.5.30)\n",
            "Requirement already satisfied: urllib3!=1.25.0,!=1.25.1,<1.26,>=1.21.1 in /usr/local/lib/python3.7/dist-packages (from requests<3,>=2.21.0->tensorboard<2.3.0,>=2.2.0->tensorflow) (1.24.3)\n",
            "Requirement already satisfied: idna<3,>=2.5 in /usr/local/lib/python3.7/dist-packages (from requests<3,>=2.21.0->tensorboard<2.3.0,>=2.2.0->tensorflow) (2.10)\n",
            "Requirement already satisfied: oauthlib>=3.0.0 in /usr/local/lib/python3.7/dist-packages (from requests-oauthlib>=0.7.0->google-auth-oauthlib<0.5,>=0.4.1->tensorboard<2.3.0,>=2.2.0->tensorflow) (3.1.1)\n",
            "Requirement already satisfied: typing-extensions>=3.6.4 in /usr/local/lib/python3.7/dist-packages (from importlib-metadata->markdown>=2.6.8->tensorboard<2.3.0,>=2.2.0->tensorflow) (3.7.4.3)\n",
            "Requirement already satisfied: zipp>=0.5 in /usr/local/lib/python3.7/dist-packages (from importlib-metadata->markdown>=2.6.8->tensorboard<2.3.0,>=2.2.0->tensorflow) (3.5.0)\n"
          ]
        }
      ]
    },
    {
      "cell_type": "code",
      "metadata": {
        "colab": {
          "base_uri": "https://localhost:8080/"
        },
        "id": "212em6QbH-ev",
        "outputId": "799475b1-25e2-431b-9f19-3bd3851c9456"
      },
      "source": [
        "print(tf.__version__)\n",
        "print(tf.keras.__version__)"
      ],
      "execution_count": 2,
      "outputs": [
        {
          "output_type": "stream",
          "name": "stdout",
          "text": [
            "2.2.0\n",
            "2.3.0-tf\n"
          ]
        }
      ]
    },
    {
      "cell_type": "code",
      "metadata": {
        "id": "_yh8HC4cIMKM"
      },
      "source": [
        "import tensorflow as tf"
      ],
      "execution_count": 5,
      "outputs": []
    },
    {
      "cell_type": "code",
      "metadata": {
        "id": "TwbzH9KNx4_Q"
      },
      "source": [
        "from tensorflow.keras import layers\n",
        "from tensorflow.keras import initializers\n",
        "import numpy as np\n",
        "import pandas as pd\n",
        "from sklearn.model_selection import train_test_split\n",
        "\n",
        "import tensorflow as tf\n",
        "import keras\n",
        "from keras import layers\n",
        "from keras import models\n",
        "from keras import utils\n",
        "from keras.layers import Dense\n",
        "from keras.models import Sequential\n",
        "from keras.layers import Flatten\n",
        "from keras.layers import Dropout\n",
        "from keras.layers import Activation\n",
        "from keras.regularizers import l2\n",
        "from tensorflow.keras.optimizers import SGD # from keras.optimizers import SGD\n",
        "from tensorflow.keras.optimizers import RMSprop # instead of from keras.optimizers import RMSprop\n",
        "from keras import datasets\n",
        "\n",
        "from keras.callbacks import LearningRateScheduler\n",
        "from keras.callbacks import History\n",
        "\n",
        "from keras import losses\n",
        "from sklearn.utils import shuffle\n",
        "\n",
        "print(tf.__version__)\n",
        "print(tf.keras.__version__)"
      ],
      "execution_count": null,
      "outputs": []
    },
    {
      "cell_type": "code",
      "metadata": {
        "colab": {
          "base_uri": "https://localhost:8080/"
        },
        "id": "H8qYD1UjIo75",
        "outputId": "a9517ddd-abb0-41d3-a662-61c09c07a61f"
      },
      "source": [
        "from tensorflow.keras import layers\n",
        "from tensorflow.keras import initializers\n",
        "import numpy as np\n",
        "import pandas as pd\n",
        "from sklearn.model_selection import train_test_split\n",
        "\n",
        "import tensorflow as tf\n",
        "# import keras\n",
        "from tensorflow.keras import layers\n",
        "from tensorflow.keras import models\n",
        "from tensorflow.keras import utils\n",
        "from tensorflow.keras.layers import Dense\n",
        "from tensorflow.keras.models import Sequential\n",
        "from tensorflow.keras.layers import Flatten\n",
        "from tensorflow.keras.layers import Dropout\n",
        "from tensorflow.keras.layers import Activation\n",
        "from tensorflow.keras.regularizers import l2\n",
        "from tensorflow.keras.optimizers import SGD # from keras.optimizers import SGD\n",
        "from tensorflow.keras.optimizers import RMSprop # instead of from keras.optimizers import RMSprop\n",
        "# from keras import datasets\n",
        "\n",
        "# from keras.callbacks import LearningRateScheduler\n",
        "# from keras.callbacks import History\n",
        "\n",
        "from tensorflow.keras import losses\n",
        "from sklearn.utils import shuffle\n",
        "\n",
        "print(tf.__version__)\n",
        "print(tf.keras.__version__)"
      ],
      "execution_count": 7,
      "outputs": [
        {
          "output_type": "stream",
          "name": "stdout",
          "text": [
            "2.2.0\n",
            "2.3.0-tf\n"
          ]
        }
      ]
    },
    {
      "cell_type": "code",
      "metadata": {
        "id": "p00oZ-Qk5HOE"
      },
      "source": [
        "# Details of FedAvg\n",
        "  # FedAvg Loss: aim is to minimize overall global loss \n",
        "  # f(w) = summation(k=1 to K){(n_k / n) * F_k(w)}\n",
        "  # K - number of clients\n",
        "  # F_k - Client k's loss function; this is getting calculated on each client's individual devices\n",
        "  # n_k - weighted by size of client k's dataset; devices with larger dataset will have more losses\n",
        "  # Algorithm: FederatedAveraging. The K clients are\n",
        "            # indexed by k; B is the local mini-batch size, E is the number\n",
        "            # of local epochs, and η is the learning rate.\n",
        "\n",
        "K = 25 # as we have 25 clients\n",
        "clients = {} # dictionary\n",
        "\n",
        "# reading all the clients\n",
        "for st_code in range(101,126):\n",
        "    clients[st_code] = pd.read_csv(\"/content/drive/MyDrive/Colab Notebooks/dataNew/station_code\"+str(st_code)+\".csv\", index_col = 0)\n"
      ],
      "execution_count": 63,
      "outputs": []
    },
    {
      "cell_type": "code",
      "metadata": {
        "colab": {
          "base_uri": "https://localhost:8080/"
        },
        "id": "SU3e68dW_CFB",
        "outputId": "4cdbeddc-5b85-49fc-beee-bcc79ada4e99"
      },
      "source": [
        "# import pandas as pd\n",
        "# df = pd.DataFrame({'datetime':pd.date_range('2020-01-01 07:00',periods=6)})\n",
        "# print(\"DataFrame is:\\n\", df)\n",
        "# for d in df['datetime']:\n",
        "#    df['date'] = d.date()\n",
        "#    df['time'] = d.time()\n",
        "# print(df)"
      ],
      "execution_count": 37,
      "outputs": [
        {
          "output_type": "stream",
          "name": "stdout",
          "text": [
            "DataFrame is:\n",
            "              datetime\n",
            "0 2020-01-01 07:00:00\n",
            "1 2020-01-02 07:00:00\n",
            "2 2020-01-03 07:00:00\n",
            "3 2020-01-04 07:00:00\n",
            "4 2020-01-05 07:00:00\n",
            "5 2020-01-06 07:00:00\n",
            "             datetime        date      time\n",
            "0 2020-01-01 07:00:00  2020-01-06  07:00:00\n",
            "1 2020-01-02 07:00:00  2020-01-06  07:00:00\n",
            "2 2020-01-03 07:00:00  2020-01-06  07:00:00\n",
            "3 2020-01-04 07:00:00  2020-01-06  07:00:00\n",
            "4 2020-01-05 07:00:00  2020-01-06  07:00:00\n",
            "5 2020-01-06 07:00:00  2020-01-06  07:00:00\n"
          ]
        }
      ]
    },
    {
      "cell_type": "code",
      "metadata": {
        "id": "YA-3FZ4O-qVr"
      },
      "source": [
        "# Updating time column\n",
        "for station_id in range(101,126):\n",
        "  clients[station_id]['Measurement date'] = pd.to_datetime(clients[station_id]['Measurement date']) #changing the data type of column\n",
        "  for dt in clients[station_id]['Measurement date']:\n",
        "    clients[station_id]['date'], clients[station_id]['time'] = dt.date(), dt.time()"
      ],
      "execution_count": 45,
      "outputs": []
    },
    {
      "cell_type": "code",
      "metadata": {
        "colab": {
          "base_uri": "https://localhost:8080/",
          "height": 306
        },
        "id": "wMVOeiOa5hAq",
        "outputId": "69ba1246-df24-4abb-da28-6b0f0ecccbc4"
      },
      "source": [
        "clients[101].head()"
      ],
      "execution_count": 46,
      "outputs": [
        {
          "output_type": "execute_result",
          "data": {
            "text/html": [
              "<div>\n",
              "<style scoped>\n",
              "    .dataframe tbody tr th:only-of-type {\n",
              "        vertical-align: middle;\n",
              "    }\n",
              "\n",
              "    .dataframe tbody tr th {\n",
              "        vertical-align: top;\n",
              "    }\n",
              "\n",
              "    .dataframe thead th {\n",
              "        text-align: right;\n",
              "    }\n",
              "</style>\n",
              "<table border=\"1\" class=\"dataframe\">\n",
              "  <thead>\n",
              "    <tr style=\"text-align: right;\">\n",
              "      <th></th>\n",
              "      <th>Measurement date</th>\n",
              "      <th>Station code</th>\n",
              "      <th>Address</th>\n",
              "      <th>Latitude</th>\n",
              "      <th>Longitude</th>\n",
              "      <th>SO2</th>\n",
              "      <th>NO2</th>\n",
              "      <th>O3</th>\n",
              "      <th>CO</th>\n",
              "      <th>PM10</th>\n",
              "      <th>PM2.5</th>\n",
              "      <th>date</th>\n",
              "      <th>time</th>\n",
              "      <th>day</th>\n",
              "      <th>month</th>\n",
              "      <th>year</th>\n",
              "    </tr>\n",
              "  </thead>\n",
              "  <tbody>\n",
              "    <tr>\n",
              "      <th>0</th>\n",
              "      <td>2017-01-01 00:00:00</td>\n",
              "      <td>101</td>\n",
              "      <td>19, Jong-ro 35ga-gil, Jongno-gu, Seoul, Republ...</td>\n",
              "      <td>37.572016</td>\n",
              "      <td>127.005007</td>\n",
              "      <td>0.004</td>\n",
              "      <td>0.059</td>\n",
              "      <td>0.002</td>\n",
              "      <td>1.2</td>\n",
              "      <td>73.0</td>\n",
              "      <td>57.0</td>\n",
              "      <td>2019-12-31</td>\n",
              "      <td>23:00:00</td>\n",
              "      <td>1</td>\n",
              "      <td>1</td>\n",
              "      <td>2017</td>\n",
              "    </tr>\n",
              "    <tr>\n",
              "      <th>1</th>\n",
              "      <td>2017-01-01 01:00:00</td>\n",
              "      <td>101</td>\n",
              "      <td>19, Jong-ro 35ga-gil, Jongno-gu, Seoul, Republ...</td>\n",
              "      <td>37.572016</td>\n",
              "      <td>127.005007</td>\n",
              "      <td>0.004</td>\n",
              "      <td>0.058</td>\n",
              "      <td>0.002</td>\n",
              "      <td>1.2</td>\n",
              "      <td>71.0</td>\n",
              "      <td>59.0</td>\n",
              "      <td>2019-12-31</td>\n",
              "      <td>23:00:00</td>\n",
              "      <td>1</td>\n",
              "      <td>1</td>\n",
              "      <td>2017</td>\n",
              "    </tr>\n",
              "    <tr>\n",
              "      <th>2</th>\n",
              "      <td>2017-01-01 02:00:00</td>\n",
              "      <td>101</td>\n",
              "      <td>19, Jong-ro 35ga-gil, Jongno-gu, Seoul, Republ...</td>\n",
              "      <td>37.572016</td>\n",
              "      <td>127.005007</td>\n",
              "      <td>0.004</td>\n",
              "      <td>0.056</td>\n",
              "      <td>0.002</td>\n",
              "      <td>1.2</td>\n",
              "      <td>70.0</td>\n",
              "      <td>59.0</td>\n",
              "      <td>2019-12-31</td>\n",
              "      <td>23:00:00</td>\n",
              "      <td>1</td>\n",
              "      <td>1</td>\n",
              "      <td>2017</td>\n",
              "    </tr>\n",
              "    <tr>\n",
              "      <th>3</th>\n",
              "      <td>2017-01-01 03:00:00</td>\n",
              "      <td>101</td>\n",
              "      <td>19, Jong-ro 35ga-gil, Jongno-gu, Seoul, Republ...</td>\n",
              "      <td>37.572016</td>\n",
              "      <td>127.005007</td>\n",
              "      <td>0.004</td>\n",
              "      <td>0.056</td>\n",
              "      <td>0.002</td>\n",
              "      <td>1.2</td>\n",
              "      <td>70.0</td>\n",
              "      <td>58.0</td>\n",
              "      <td>2019-12-31</td>\n",
              "      <td>23:00:00</td>\n",
              "      <td>1</td>\n",
              "      <td>1</td>\n",
              "      <td>2017</td>\n",
              "    </tr>\n",
              "    <tr>\n",
              "      <th>4</th>\n",
              "      <td>2017-01-01 04:00:00</td>\n",
              "      <td>101</td>\n",
              "      <td>19, Jong-ro 35ga-gil, Jongno-gu, Seoul, Republ...</td>\n",
              "      <td>37.572016</td>\n",
              "      <td>127.005007</td>\n",
              "      <td>0.003</td>\n",
              "      <td>0.051</td>\n",
              "      <td>0.002</td>\n",
              "      <td>1.2</td>\n",
              "      <td>69.0</td>\n",
              "      <td>61.0</td>\n",
              "      <td>2019-12-31</td>\n",
              "      <td>23:00:00</td>\n",
              "      <td>1</td>\n",
              "      <td>1</td>\n",
              "      <td>2017</td>\n",
              "    </tr>\n",
              "  </tbody>\n",
              "</table>\n",
              "</div>"
            ],
            "text/plain": [
              "     Measurement date  Station code  ... month  year\n",
              "0 2017-01-01 00:00:00           101  ...     1  2017\n",
              "1 2017-01-01 01:00:00           101  ...     1  2017\n",
              "2 2017-01-01 02:00:00           101  ...     1  2017\n",
              "3 2017-01-01 03:00:00           101  ...     1  2017\n",
              "4 2017-01-01 04:00:00           101  ...     1  2017\n",
              "\n",
              "[5 rows x 16 columns]"
            ]
          },
          "metadata": {},
          "execution_count": 46
        }
      ]
    },
    {
      "cell_type": "code",
      "metadata": {
        "colab": {
          "base_uri": "https://localhost:8080/"
        },
        "id": "PKDm8GjQ6U1U",
        "outputId": "f3ed32d3-3520-4509-e4ec-317d353b78ca"
      },
      "source": [
        "clients[101].columns"
      ],
      "execution_count": 9,
      "outputs": [
        {
          "output_type": "execute_result",
          "data": {
            "text/plain": [
              "Index(['Measurement date', 'Station code', 'Address', 'Latitude', 'Longitude',\n",
              "       'SO2', 'NO2', 'O3', 'CO', 'PM10', 'PM2.5', 'date', 'time', 'day',\n",
              "       'month', 'year'],\n",
              "      dtype='object')"
            ]
          },
          "metadata": {},
          "execution_count": 9
        }
      ]
    },
    {
      "cell_type": "code",
      "metadata": {
        "colab": {
          "base_uri": "https://localhost:8080/"
        },
        "id": "gjpBpzc47tpH",
        "outputId": "9451b49e-1985-4207-e061-2899c980ee43"
      },
      "source": [
        "clients[101].info()"
      ],
      "execution_count": 47,
      "outputs": [
        {
          "output_type": "stream",
          "name": "stdout",
          "text": [
            "<class 'pandas.core.frame.DataFrame'>\n",
            "Int64Index: 25905 entries, 0 to 25904\n",
            "Data columns (total 16 columns):\n",
            " #   Column            Non-Null Count  Dtype         \n",
            "---  ------            --------------  -----         \n",
            " 0   Measurement date  25905 non-null  datetime64[ns]\n",
            " 1   Station code      25905 non-null  int64         \n",
            " 2   Address           25905 non-null  object        \n",
            " 3   Latitude          25905 non-null  float64       \n",
            " 4   Longitude         25905 non-null  float64       \n",
            " 5   SO2               25905 non-null  float64       \n",
            " 6   NO2               25905 non-null  float64       \n",
            " 7   O3                25905 non-null  float64       \n",
            " 8   CO                25905 non-null  float64       \n",
            " 9   PM10              25905 non-null  float64       \n",
            " 10  PM2.5             25905 non-null  float64       \n",
            " 11  date              25905 non-null  object        \n",
            " 12  time              25905 non-null  object        \n",
            " 13  day               25905 non-null  int64         \n",
            " 14  month             25905 non-null  int64         \n",
            " 15  year              25905 non-null  int64         \n",
            "dtypes: datetime64[ns](1), float64(8), int64(4), object(3)\n",
            "memory usage: 3.4+ MB\n"
          ]
        }
      ]
    },
    {
      "cell_type": "code",
      "metadata": {
        "id": "1jcFFQn157jC"
      },
      "source": [
        "# taking required featuring and dropping rest\n",
        "for station_id in range(101,126):\n",
        "  clients[station_id] = clients[station_id][['Latitude', 'Longitude','day', 'month', 'year','CO']].copy()"
      ],
      "execution_count": 64,
      "outputs": []
    },
    {
      "cell_type": "code",
      "metadata": {
        "colab": {
          "base_uri": "https://localhost:8080/"
        },
        "id": "eiyUXIeW9W3D",
        "outputId": "e0aebc73-e3e2-481d-ade9-b18554c23ebe"
      },
      "source": [
        "t = pd.to_datetime(\"2017-04-21 05:00\")\n",
        "type(t.month)\n",
        "# t.day\n",
        "# type(t.year)\n",
        "# t.time()"
      ],
      "execution_count": 49,
      "outputs": [
        {
          "output_type": "execute_result",
          "data": {
            "text/plain": [
              "int"
            ]
          },
          "metadata": {},
          "execution_count": 49
        }
      ]
    },
    {
      "cell_type": "code",
      "metadata": {
        "colab": {
          "base_uri": "https://localhost:8080/",
          "height": 419
        },
        "id": "weiHreju7P5S",
        "outputId": "40564bcd-9c2b-451d-c238-2685033e0d18"
      },
      "source": [
        "clients[101]"
      ],
      "execution_count": 50,
      "outputs": [
        {
          "output_type": "execute_result",
          "data": {
            "text/html": [
              "<div>\n",
              "<style scoped>\n",
              "    .dataframe tbody tr th:only-of-type {\n",
              "        vertical-align: middle;\n",
              "    }\n",
              "\n",
              "    .dataframe tbody tr th {\n",
              "        vertical-align: top;\n",
              "    }\n",
              "\n",
              "    .dataframe thead th {\n",
              "        text-align: right;\n",
              "    }\n",
              "</style>\n",
              "<table border=\"1\" class=\"dataframe\">\n",
              "  <thead>\n",
              "    <tr style=\"text-align: right;\">\n",
              "      <th></th>\n",
              "      <th>Latitude</th>\n",
              "      <th>Longitude</th>\n",
              "      <th>time</th>\n",
              "      <th>date</th>\n",
              "      <th>CO</th>\n",
              "    </tr>\n",
              "  </thead>\n",
              "  <tbody>\n",
              "    <tr>\n",
              "      <th>0</th>\n",
              "      <td>37.572016</td>\n",
              "      <td>127.005007</td>\n",
              "      <td>23:00:00</td>\n",
              "      <td>2019-12-31</td>\n",
              "      <td>1.2</td>\n",
              "    </tr>\n",
              "    <tr>\n",
              "      <th>1</th>\n",
              "      <td>37.572016</td>\n",
              "      <td>127.005007</td>\n",
              "      <td>23:00:00</td>\n",
              "      <td>2019-12-31</td>\n",
              "      <td>1.2</td>\n",
              "    </tr>\n",
              "    <tr>\n",
              "      <th>2</th>\n",
              "      <td>37.572016</td>\n",
              "      <td>127.005007</td>\n",
              "      <td>23:00:00</td>\n",
              "      <td>2019-12-31</td>\n",
              "      <td>1.2</td>\n",
              "    </tr>\n",
              "    <tr>\n",
              "      <th>3</th>\n",
              "      <td>37.572016</td>\n",
              "      <td>127.005007</td>\n",
              "      <td>23:00:00</td>\n",
              "      <td>2019-12-31</td>\n",
              "      <td>1.2</td>\n",
              "    </tr>\n",
              "    <tr>\n",
              "      <th>4</th>\n",
              "      <td>37.572016</td>\n",
              "      <td>127.005007</td>\n",
              "      <td>23:00:00</td>\n",
              "      <td>2019-12-31</td>\n",
              "      <td>1.2</td>\n",
              "    </tr>\n",
              "    <tr>\n",
              "      <th>...</th>\n",
              "      <td>...</td>\n",
              "      <td>...</td>\n",
              "      <td>...</td>\n",
              "      <td>...</td>\n",
              "      <td>...</td>\n",
              "    </tr>\n",
              "    <tr>\n",
              "      <th>25900</th>\n",
              "      <td>37.572016</td>\n",
              "      <td>127.005007</td>\n",
              "      <td>23:00:00</td>\n",
              "      <td>2019-12-31</td>\n",
              "      <td>0.5</td>\n",
              "    </tr>\n",
              "    <tr>\n",
              "      <th>25901</th>\n",
              "      <td>37.572016</td>\n",
              "      <td>127.005007</td>\n",
              "      <td>23:00:00</td>\n",
              "      <td>2019-12-31</td>\n",
              "      <td>0.4</td>\n",
              "    </tr>\n",
              "    <tr>\n",
              "      <th>25902</th>\n",
              "      <td>37.572016</td>\n",
              "      <td>127.005007</td>\n",
              "      <td>23:00:00</td>\n",
              "      <td>2019-12-31</td>\n",
              "      <td>0.4</td>\n",
              "    </tr>\n",
              "    <tr>\n",
              "      <th>25903</th>\n",
              "      <td>37.572016</td>\n",
              "      <td>127.005007</td>\n",
              "      <td>23:00:00</td>\n",
              "      <td>2019-12-31</td>\n",
              "      <td>0.5</td>\n",
              "    </tr>\n",
              "    <tr>\n",
              "      <th>25904</th>\n",
              "      <td>37.572016</td>\n",
              "      <td>127.005007</td>\n",
              "      <td>23:00:00</td>\n",
              "      <td>2019-12-31</td>\n",
              "      <td>0.5</td>\n",
              "    </tr>\n",
              "  </tbody>\n",
              "</table>\n",
              "<p>25905 rows × 5 columns</p>\n",
              "</div>"
            ],
            "text/plain": [
              "        Latitude   Longitude      time        date   CO\n",
              "0      37.572016  127.005007  23:00:00  2019-12-31  1.2\n",
              "1      37.572016  127.005007  23:00:00  2019-12-31  1.2\n",
              "2      37.572016  127.005007  23:00:00  2019-12-31  1.2\n",
              "3      37.572016  127.005007  23:00:00  2019-12-31  1.2\n",
              "4      37.572016  127.005007  23:00:00  2019-12-31  1.2\n",
              "...          ...         ...       ...         ...  ...\n",
              "25900  37.572016  127.005007  23:00:00  2019-12-31  0.5\n",
              "25901  37.572016  127.005007  23:00:00  2019-12-31  0.4\n",
              "25902  37.572016  127.005007  23:00:00  2019-12-31  0.4\n",
              "25903  37.572016  127.005007  23:00:00  2019-12-31  0.5\n",
              "25904  37.572016  127.005007  23:00:00  2019-12-31  0.5\n",
              "\n",
              "[25905 rows x 5 columns]"
            ]
          },
          "metadata": {},
          "execution_count": 50
        }
      ]
    },
    {
      "cell_type": "code",
      "metadata": {
        "id": "5Qupnipw5C8m"
      },
      "source": [
        "# ClientUpdate(k, w): // Run on client k\n",
        "def Client(client_idx, model):\n",
        "# B ← (split P_k into batches of size B) # what is p_K --> each clients' sample size\n",
        "  B = len(clients[client_idx]) / 1000 # so for each client the batch size would be different depending upon the total sample size\n",
        "  E = 30 + B # number of local epochs; it will also depend on sample size (indirectly)\n",
        "  learning_rate = 0.1 # initial learning rate\n",
        "  decay_rate = 0.1\n",
        "  momentum = 0.8\n",
        "\n",
        "  # define the optimizer function\n",
        "  sgd = SGD(lr = learning_rate, momentum = momentum, decay = decay_rate, nesterov = False)\n",
        "\n",
        "  # compile the model\n",
        "  model.compile(loss='mse', \n",
        "                optimizer=sgd, \n",
        "                metrics=['mse'])\n",
        "  \n",
        "\n",
        "# for each local epoch i from 1 to E do\n",
        "#   for batch b ∈ B do\n",
        "#     w ← w − η O l(w; b) # this seems the SGD process\n",
        "\n",
        "  # fitting the model: same as above two for loops\n",
        "  dataset = clients[client_idx]\n",
        "  X, y = dataset[['Latitude', 'Longitude','day', 'month', 'year']].copy(),  dataset['CO']\n",
        "\n",
        "  x_train, x_test, y_train, y_test = train_test_split(X, y, test_size = 0.1, random_state=1)\n",
        "\n",
        "  model.fit(x_train, y_train, \n",
        "                  epochs = E, \n",
        "                  batch_size=B,\n",
        "                  validation_data=(x_test, y_test),\n",
        "                  verbose=True)\n",
        "\n",
        "  # return w to server\n",
        "  # in our case no need for any explicit return; as the model is pass by value\n",
        "  return dataset.shape[0] # this will return the number of total sample\n"
      ],
      "execution_count": 68,
      "outputs": []
    },
    {
      "cell_type": "code",
      "metadata": {
        "id": "Dzusaow2CDN4"
      },
      "source": [
        "# Server executes: \n",
        "def Server():\n",
        "  # initialize w_0\n",
        "  model = Sequential()\n",
        "\n",
        "  # model.add(Dense(64, kernel_initializer='zeros', bias_initializer='zeros', activation=tf.nn.relu, input_dim=6)) # first dense/hidden layer\n",
        "  model.add(Dense(64, kernel_initializer='he_uniform', bias_initializer=\"zeros\", activation=tf.nn.relu, input_dim=2))\n",
        "  model.add(Dropout(0.1))\n",
        "\n",
        "  model.add(Dense(64, kernel_initializer='he_uniform', bias_initializer=\"zeros\", activation=tf.nn.relu)) # second dense/hidden layer\n",
        "  model.add(Dropout(0.2))\n",
        "\n",
        "  model.add(Dense(1, kernel_initializer= 'he_uniform', activation=tf.nn.softmax)) # output layer\n",
        "\n",
        "  # initial_weights = model.get_weights() # setting initial weights; should be same for all clients\n",
        "\n",
        "\n",
        "  # for each round t = 1, 2, . . . do\n",
        "  for t in range(1, 5):\n",
        "    C = np.random.random(1)[0] # random number between 0 and 1.\n",
        "\n",
        "    # m ← max(C  K, 1)\n",
        "    m = max(int(C*K), 1) # m == random number of client selected\n",
        "    weight_t_plus_1 = [None] * m # matrix to store the weights of all client in each t-round\n",
        "    n_k = [None] * m # parameters for weighted sum \n",
        "\n",
        "\n",
        "    # S_t ← (random set of m clients)\n",
        "    # S = {} # dictionary\n",
        "    S_t = np.random.uniform(low=101, high=126, size=(m)).astype(int)\n",
        "\n",
        "    # No need for below loop, as server don't need access to client data, server only need clients' number\n",
        "    # for client in m_clients:\n",
        "    #   S[client] = clients[client]\n",
        "    \n",
        "    initial_weights = model.get_weights() # setting initial weights; should be same for all clients\n",
        "    # for t= 1 to T, initial_weights would be t-1th's final weights\n",
        "\n",
        "    # for each client k ∈ S_t in parallel do\n",
        "    client_idx = 0\n",
        "    for client in S_t:\n",
        "      # w^(k)_(t+1) ← ClientUpdate(k, model)\n",
        "      n_k[client_idx] = Client(client, model) # pass by reference\n",
        "      weight_t_plus_1[client_idx] = model.get_weights()\n",
        "      client_idx += 1\n",
        "      \n",
        "      # setting weights back to initial weights\n",
        "      model.set_weights(initial_weights)\n",
        "\n",
        "    # finding the weighted sum\n",
        "    final_weights_t = np.array(weight_t_plus_1[0]) * (n_k[0] / sum(n_k))\n",
        "\n",
        "    for idx in range(1, m):\n",
        "      # w_(t+1) ← summation(k=1 to K){(n_k/n) * w^(k)_(t+1)} #n_k - no. of training sample in each client K; n - total training samples;\n",
        "      final_weights_t += np.array(weight_t_plus_1[idx]) * (n_k[idx]/ sum(n_k))\n",
        "\n",
        "    # setting the aggregated weights\n",
        "    model.set_weights(final_weights_t)\n",
        "\n",
        "  print(model.get_weights())"
      ],
      "execution_count": 69,
      "outputs": []
    },
    {
      "cell_type": "code",
      "metadata": {
        "colab": {
          "base_uri": "https://localhost:8080/",
          "height": 340
        },
        "id": "a5VgIsXuD3ZJ",
        "outputId": "e175b940-7f9b-4605-dbd7-3148da055226"
      },
      "source": [
        "Server()"
      ],
      "execution_count": 70,
      "outputs": [
        {
          "output_type": "stream",
          "name": "stderr",
          "text": [
            "/usr/local/lib/python3.7/dist-packages/keras/optimizer_v2/optimizer_v2.py:356: UserWarning: The `lr` argument is deprecated, use `learning_rate` instead.\n",
            "  \"The `lr` argument is deprecated, use `learning_rate` instead.\")\n"
          ]
        },
        {
          "output_type": "error",
          "ename": "TypeError",
          "evalue": "ignored",
          "traceback": [
            "\u001b[0;31m---------------------------------------------------------------------------\u001b[0m",
            "\u001b[0;31mTypeError\u001b[0m                                 Traceback (most recent call last)",
            "\u001b[0;32m<ipython-input-70-ea80530cd932>\u001b[0m in \u001b[0;36m<module>\u001b[0;34m()\u001b[0m\n\u001b[0;32m----> 1\u001b[0;31m \u001b[0mServer\u001b[0m\u001b[0;34m(\u001b[0m\u001b[0;34m)\u001b[0m\u001b[0;34m\u001b[0m\u001b[0;34m\u001b[0m\u001b[0m\n\u001b[0m",
            "\u001b[0;32m<ipython-input-69-fe6b2f8c59e8>\u001b[0m in \u001b[0;36mServer\u001b[0;34m()\u001b[0m\n\u001b[1;32m     41\u001b[0m     \u001b[0;32mfor\u001b[0m \u001b[0mclient\u001b[0m \u001b[0;32min\u001b[0m \u001b[0mS_t\u001b[0m\u001b[0;34m:\u001b[0m\u001b[0;34m\u001b[0m\u001b[0;34m\u001b[0m\u001b[0m\n\u001b[1;32m     42\u001b[0m       \u001b[0;31m# w^(k)_(t+1) ← ClientUpdate(k, model)\u001b[0m\u001b[0;34m\u001b[0m\u001b[0;34m\u001b[0m\u001b[0;34m\u001b[0m\u001b[0m\n\u001b[0;32m---> 43\u001b[0;31m       \u001b[0mn_k\u001b[0m\u001b[0;34m[\u001b[0m\u001b[0mclient_idx\u001b[0m\u001b[0;34m]\u001b[0m \u001b[0;34m=\u001b[0m \u001b[0mClient\u001b[0m\u001b[0;34m(\u001b[0m\u001b[0mclient\u001b[0m\u001b[0;34m,\u001b[0m \u001b[0mmodel\u001b[0m\u001b[0;34m)\u001b[0m \u001b[0;31m# pass by reference\u001b[0m\u001b[0;34m\u001b[0m\u001b[0;34m\u001b[0m\u001b[0m\n\u001b[0m\u001b[1;32m     44\u001b[0m       \u001b[0mweight_t_plus_1\u001b[0m\u001b[0;34m[\u001b[0m\u001b[0mclient_idx\u001b[0m\u001b[0;34m]\u001b[0m \u001b[0;34m=\u001b[0m \u001b[0mmodel\u001b[0m\u001b[0;34m.\u001b[0m\u001b[0mget_weights\u001b[0m\u001b[0;34m(\u001b[0m\u001b[0;34m)\u001b[0m\u001b[0;34m\u001b[0m\u001b[0;34m\u001b[0m\u001b[0m\n\u001b[1;32m     45\u001b[0m       \u001b[0mclient_idx\u001b[0m \u001b[0;34m+=\u001b[0m \u001b[0;36m1\u001b[0m\u001b[0;34m\u001b[0m\u001b[0;34m\u001b[0m\u001b[0m\n",
            "\u001b[0;32m<ipython-input-68-7d15f1f5bb57>\u001b[0m in \u001b[0;36mClient\u001b[0;34m(client_idx, model)\u001b[0m\n\u001b[1;32m     31\u001b[0m                   \u001b[0mbatch_size\u001b[0m\u001b[0;34m=\u001b[0m\u001b[0mB\u001b[0m\u001b[0;34m,\u001b[0m\u001b[0;34m\u001b[0m\u001b[0;34m\u001b[0m\u001b[0m\n\u001b[1;32m     32\u001b[0m                   \u001b[0mvalidation_data\u001b[0m\u001b[0;34m=\u001b[0m\u001b[0;34m(\u001b[0m\u001b[0mx_test\u001b[0m\u001b[0;34m,\u001b[0m \u001b[0my_test\u001b[0m\u001b[0;34m)\u001b[0m\u001b[0;34m,\u001b[0m\u001b[0;34m\u001b[0m\u001b[0;34m\u001b[0m\u001b[0m\n\u001b[0;32m---> 33\u001b[0;31m                   verbose=True)\n\u001b[0m\u001b[1;32m     34\u001b[0m \u001b[0;34m\u001b[0m\u001b[0m\n\u001b[1;32m     35\u001b[0m   \u001b[0;31m# return w to server\u001b[0m\u001b[0;34m\u001b[0m\u001b[0;34m\u001b[0m\u001b[0;34m\u001b[0m\u001b[0m\n",
            "\u001b[0;32m/usr/local/lib/python3.7/dist-packages/keras/engine/training.py\u001b[0m in \u001b[0;36mfit\u001b[0;34m(self, x, y, batch_size, epochs, verbose, callbacks, validation_split, validation_data, shuffle, class_weight, sample_weight, initial_epoch, steps_per_epoch, validation_steps, validation_batch_size, validation_freq, max_queue_size, workers, use_multiprocessing)\u001b[0m\n\u001b[1;32m   1146\u001b[0m           \u001b[0muse_multiprocessing\u001b[0m\u001b[0;34m=\u001b[0m\u001b[0muse_multiprocessing\u001b[0m\u001b[0;34m,\u001b[0m\u001b[0;34m\u001b[0m\u001b[0;34m\u001b[0m\u001b[0m\n\u001b[1;32m   1147\u001b[0m           \u001b[0mmodel\u001b[0m\u001b[0;34m=\u001b[0m\u001b[0mself\u001b[0m\u001b[0;34m,\u001b[0m\u001b[0;34m\u001b[0m\u001b[0;34m\u001b[0m\u001b[0m\n\u001b[0;32m-> 1148\u001b[0;31m           steps_per_execution=self._steps_per_execution)\n\u001b[0m\u001b[1;32m   1149\u001b[0m \u001b[0;34m\u001b[0m\u001b[0m\n\u001b[1;32m   1150\u001b[0m       \u001b[0;31m# Container that configures and calls `tf.keras.Callback`s.\u001b[0m\u001b[0;34m\u001b[0m\u001b[0;34m\u001b[0m\u001b[0;34m\u001b[0m\u001b[0m\n",
            "\u001b[0;32m/usr/local/lib/python3.7/dist-packages/keras/engine/data_adapter.py\u001b[0m in \u001b[0;36mget_data_handler\u001b[0;34m(*args, **kwargs)\u001b[0m\n\u001b[1;32m   1381\u001b[0m   \u001b[0;32mif\u001b[0m \u001b[0mgetattr\u001b[0m\u001b[0;34m(\u001b[0m\u001b[0mkwargs\u001b[0m\u001b[0;34m[\u001b[0m\u001b[0;34m\"model\"\u001b[0m\u001b[0;34m]\u001b[0m\u001b[0;34m,\u001b[0m \u001b[0;34m\"_cluster_coordinator\"\u001b[0m\u001b[0;34m,\u001b[0m \u001b[0;32mNone\u001b[0m\u001b[0;34m)\u001b[0m\u001b[0;34m:\u001b[0m\u001b[0;34m\u001b[0m\u001b[0;34m\u001b[0m\u001b[0m\n\u001b[1;32m   1382\u001b[0m     \u001b[0;32mreturn\u001b[0m \u001b[0m_ClusterCoordinatorDataHandler\u001b[0m\u001b[0;34m(\u001b[0m\u001b[0;34m*\u001b[0m\u001b[0margs\u001b[0m\u001b[0;34m,\u001b[0m \u001b[0;34m**\u001b[0m\u001b[0mkwargs\u001b[0m\u001b[0;34m)\u001b[0m\u001b[0;34m\u001b[0m\u001b[0;34m\u001b[0m\u001b[0m\n\u001b[0;32m-> 1383\u001b[0;31m   \u001b[0;32mreturn\u001b[0m \u001b[0mDataHandler\u001b[0m\u001b[0;34m(\u001b[0m\u001b[0;34m*\u001b[0m\u001b[0margs\u001b[0m\u001b[0;34m,\u001b[0m \u001b[0;34m**\u001b[0m\u001b[0mkwargs\u001b[0m\u001b[0;34m)\u001b[0m\u001b[0;34m\u001b[0m\u001b[0;34m\u001b[0m\u001b[0m\n\u001b[0m\u001b[1;32m   1384\u001b[0m \u001b[0;34m\u001b[0m\u001b[0m\n\u001b[1;32m   1385\u001b[0m \u001b[0;34m\u001b[0m\u001b[0m\n",
            "\u001b[0;32m/usr/local/lib/python3.7/dist-packages/keras/engine/data_adapter.py\u001b[0m in \u001b[0;36m__init__\u001b[0;34m(self, x, y, sample_weight, batch_size, steps_per_epoch, initial_epoch, epochs, shuffle, class_weight, max_queue_size, workers, use_multiprocessing, model, steps_per_execution, distribute)\u001b[0m\n\u001b[1;32m   1148\u001b[0m         \u001b[0muse_multiprocessing\u001b[0m\u001b[0;34m=\u001b[0m\u001b[0muse_multiprocessing\u001b[0m\u001b[0;34m,\u001b[0m\u001b[0;34m\u001b[0m\u001b[0;34m\u001b[0m\u001b[0m\n\u001b[1;32m   1149\u001b[0m         \u001b[0mdistribution_strategy\u001b[0m\u001b[0;34m=\u001b[0m\u001b[0mtf\u001b[0m\u001b[0;34m.\u001b[0m\u001b[0mdistribute\u001b[0m\u001b[0;34m.\u001b[0m\u001b[0mget_strategy\u001b[0m\u001b[0;34m(\u001b[0m\u001b[0;34m)\u001b[0m\u001b[0;34m,\u001b[0m\u001b[0;34m\u001b[0m\u001b[0;34m\u001b[0m\u001b[0m\n\u001b[0;32m-> 1150\u001b[0;31m         model=model)\n\u001b[0m\u001b[1;32m   1151\u001b[0m \u001b[0;34m\u001b[0m\u001b[0m\n\u001b[1;32m   1152\u001b[0m     \u001b[0mstrategy\u001b[0m \u001b[0;34m=\u001b[0m \u001b[0mtf\u001b[0m\u001b[0;34m.\u001b[0m\u001b[0mdistribute\u001b[0m\u001b[0;34m.\u001b[0m\u001b[0mget_strategy\u001b[0m\u001b[0;34m(\u001b[0m\u001b[0;34m)\u001b[0m\u001b[0;34m\u001b[0m\u001b[0;34m\u001b[0m\u001b[0m\n",
            "\u001b[0;32m/usr/local/lib/python3.7/dist-packages/keras/engine/data_adapter.py\u001b[0m in \u001b[0;36m__init__\u001b[0;34m(self, x, y, sample_weights, sample_weight_modes, batch_size, epochs, steps, shuffle, **kwargs)\u001b[0m\n\u001b[1;32m    269\u001b[0m     \u001b[0mindices_dataset\u001b[0m \u001b[0;34m=\u001b[0m \u001b[0mtf\u001b[0m\u001b[0;34m.\u001b[0m\u001b[0mdata\u001b[0m\u001b[0;34m.\u001b[0m\u001b[0mDataset\u001b[0m\u001b[0;34m.\u001b[0m\u001b[0mrange\u001b[0m\u001b[0;34m(\u001b[0m\u001b[0;36m1\u001b[0m\u001b[0;34m)\u001b[0m\u001b[0;34m\u001b[0m\u001b[0;34m\u001b[0m\u001b[0m\n\u001b[1;32m    270\u001b[0m     \u001b[0;32mif\u001b[0m \u001b[0mshuffle\u001b[0m \u001b[0;34m!=\u001b[0m \u001b[0;34m\"batch\"\u001b[0m\u001b[0;34m:\u001b[0m\u001b[0;34m\u001b[0m\u001b[0;34m\u001b[0m\u001b[0m\n\u001b[0;32m--> 271\u001b[0;31m       \u001b[0mindices_dataset\u001b[0m \u001b[0;34m=\u001b[0m \u001b[0mindices_dataset\u001b[0m\u001b[0;34m.\u001b[0m\u001b[0mrepeat\u001b[0m\u001b[0;34m(\u001b[0m\u001b[0mepochs\u001b[0m\u001b[0;34m)\u001b[0m\u001b[0;34m\u001b[0m\u001b[0;34m\u001b[0m\u001b[0m\n\u001b[0m\u001b[1;32m    272\u001b[0m \u001b[0;34m\u001b[0m\u001b[0m\n\u001b[1;32m    273\u001b[0m     \u001b[0;32mdef\u001b[0m \u001b[0mpermutation\u001b[0m\u001b[0;34m(\u001b[0m\u001b[0m_\u001b[0m\u001b[0;34m)\u001b[0m\u001b[0;34m:\u001b[0m\u001b[0;34m\u001b[0m\u001b[0;34m\u001b[0m\u001b[0m\n",
            "\u001b[0;32m/usr/local/lib/python3.7/dist-packages/tensorflow/python/data/ops/dataset_ops.py\u001b[0m in \u001b[0;36mrepeat\u001b[0;34m(self, count)\u001b[0m\n\u001b[1;32m   1260\u001b[0m       \u001b[0mDataset\u001b[0m\u001b[0;34m:\u001b[0m \u001b[0mA\u001b[0m\u001b[0;31m \u001b[0m\u001b[0;31m`\u001b[0m\u001b[0mDataset\u001b[0m\u001b[0;31m`\u001b[0m\u001b[0;34m.\u001b[0m\u001b[0;34m\u001b[0m\u001b[0;34m\u001b[0m\u001b[0m\n\u001b[1;32m   1261\u001b[0m     \"\"\"\n\u001b[0;32m-> 1262\u001b[0;31m     \u001b[0;32mreturn\u001b[0m \u001b[0mRepeatDataset\u001b[0m\u001b[0;34m(\u001b[0m\u001b[0mself\u001b[0m\u001b[0;34m,\u001b[0m \u001b[0mcount\u001b[0m\u001b[0;34m)\u001b[0m\u001b[0;34m\u001b[0m\u001b[0;34m\u001b[0m\u001b[0m\n\u001b[0m\u001b[1;32m   1263\u001b[0m \u001b[0;34m\u001b[0m\u001b[0m\n\u001b[1;32m   1264\u001b[0m   \u001b[0;32mdef\u001b[0m \u001b[0menumerate\u001b[0m\u001b[0;34m(\u001b[0m\u001b[0mself\u001b[0m\u001b[0;34m,\u001b[0m \u001b[0mstart\u001b[0m\u001b[0;34m=\u001b[0m\u001b[0;36m0\u001b[0m\u001b[0;34m)\u001b[0m\u001b[0;34m:\u001b[0m\u001b[0;34m\u001b[0m\u001b[0;34m\u001b[0m\u001b[0m\n",
            "\u001b[0;32m/usr/local/lib/python3.7/dist-packages/tensorflow/python/data/ops/dataset_ops.py\u001b[0m in \u001b[0;36m__init__\u001b[0;34m(self, input_dataset, count)\u001b[0m\n\u001b[1;32m   4408\u001b[0m     \u001b[0;32melse\u001b[0m\u001b[0;34m:\u001b[0m\u001b[0;34m\u001b[0m\u001b[0;34m\u001b[0m\u001b[0m\n\u001b[1;32m   4409\u001b[0m       self._count = ops.convert_to_tensor(\n\u001b[0;32m-> 4410\u001b[0;31m           count, dtype=dtypes.int64, name=\"count\")\n\u001b[0m\u001b[1;32m   4411\u001b[0m     variant_tensor = gen_dataset_ops.repeat_dataset(\n\u001b[1;32m   4412\u001b[0m         \u001b[0minput_dataset\u001b[0m\u001b[0;34m.\u001b[0m\u001b[0m_variant_tensor\u001b[0m\u001b[0;34m,\u001b[0m  \u001b[0;31m# pylint: disable=protected-access\u001b[0m\u001b[0;34m\u001b[0m\u001b[0;34m\u001b[0m\u001b[0m\n",
            "\u001b[0;32m/usr/local/lib/python3.7/dist-packages/tensorflow/python/profiler/trace.py\u001b[0m in \u001b[0;36mwrapped\u001b[0;34m(*args, **kwargs)\u001b[0m\n\u001b[1;32m    161\u001b[0m         \u001b[0;32mwith\u001b[0m \u001b[0mTrace\u001b[0m\u001b[0;34m(\u001b[0m\u001b[0mtrace_name\u001b[0m\u001b[0;34m,\u001b[0m \u001b[0;34m**\u001b[0m\u001b[0mtrace_kwargs\u001b[0m\u001b[0;34m)\u001b[0m\u001b[0;34m:\u001b[0m\u001b[0;34m\u001b[0m\u001b[0;34m\u001b[0m\u001b[0m\n\u001b[1;32m    162\u001b[0m           \u001b[0;32mreturn\u001b[0m \u001b[0mfunc\u001b[0m\u001b[0;34m(\u001b[0m\u001b[0;34m*\u001b[0m\u001b[0margs\u001b[0m\u001b[0;34m,\u001b[0m \u001b[0;34m**\u001b[0m\u001b[0mkwargs\u001b[0m\u001b[0;34m)\u001b[0m\u001b[0;34m\u001b[0m\u001b[0;34m\u001b[0m\u001b[0m\n\u001b[0;32m--> 163\u001b[0;31m       \u001b[0;32mreturn\u001b[0m \u001b[0mfunc\u001b[0m\u001b[0;34m(\u001b[0m\u001b[0;34m*\u001b[0m\u001b[0margs\u001b[0m\u001b[0;34m,\u001b[0m \u001b[0;34m**\u001b[0m\u001b[0mkwargs\u001b[0m\u001b[0;34m)\u001b[0m\u001b[0;34m\u001b[0m\u001b[0;34m\u001b[0m\u001b[0m\n\u001b[0m\u001b[1;32m    164\u001b[0m \u001b[0;34m\u001b[0m\u001b[0m\n\u001b[1;32m    165\u001b[0m     \u001b[0;32mreturn\u001b[0m \u001b[0mwrapped\u001b[0m\u001b[0;34m\u001b[0m\u001b[0;34m\u001b[0m\u001b[0m\n",
            "\u001b[0;32m/usr/local/lib/python3.7/dist-packages/tensorflow/python/framework/ops.py\u001b[0m in \u001b[0;36mconvert_to_tensor\u001b[0;34m(value, dtype, name, as_ref, preferred_dtype, dtype_hint, ctx, accepted_result_types)\u001b[0m\n\u001b[1;32m   1564\u001b[0m \u001b[0;34m\u001b[0m\u001b[0m\n\u001b[1;32m   1565\u001b[0m     \u001b[0;32mif\u001b[0m \u001b[0mret\u001b[0m \u001b[0;32mis\u001b[0m \u001b[0;32mNone\u001b[0m\u001b[0;34m:\u001b[0m\u001b[0;34m\u001b[0m\u001b[0;34m\u001b[0m\u001b[0m\n\u001b[0;32m-> 1566\u001b[0;31m       \u001b[0mret\u001b[0m \u001b[0;34m=\u001b[0m \u001b[0mconversion_func\u001b[0m\u001b[0;34m(\u001b[0m\u001b[0mvalue\u001b[0m\u001b[0;34m,\u001b[0m \u001b[0mdtype\u001b[0m\u001b[0;34m=\u001b[0m\u001b[0mdtype\u001b[0m\u001b[0;34m,\u001b[0m \u001b[0mname\u001b[0m\u001b[0;34m=\u001b[0m\u001b[0mname\u001b[0m\u001b[0;34m,\u001b[0m \u001b[0mas_ref\u001b[0m\u001b[0;34m=\u001b[0m\u001b[0mas_ref\u001b[0m\u001b[0;34m)\u001b[0m\u001b[0;34m\u001b[0m\u001b[0;34m\u001b[0m\u001b[0m\n\u001b[0m\u001b[1;32m   1567\u001b[0m \u001b[0;34m\u001b[0m\u001b[0m\n\u001b[1;32m   1568\u001b[0m     \u001b[0;32mif\u001b[0m \u001b[0mret\u001b[0m \u001b[0;32mis\u001b[0m \u001b[0mNotImplemented\u001b[0m\u001b[0;34m:\u001b[0m\u001b[0;34m\u001b[0m\u001b[0;34m\u001b[0m\u001b[0m\n",
            "\u001b[0;32m/usr/local/lib/python3.7/dist-packages/tensorflow/python/framework/tensor_conversion_registry.py\u001b[0m in \u001b[0;36m_default_conversion_function\u001b[0;34m(***failed resolving arguments***)\u001b[0m\n\u001b[1;32m     50\u001b[0m \u001b[0;32mdef\u001b[0m \u001b[0m_default_conversion_function\u001b[0m\u001b[0;34m(\u001b[0m\u001b[0mvalue\u001b[0m\u001b[0;34m,\u001b[0m \u001b[0mdtype\u001b[0m\u001b[0;34m,\u001b[0m \u001b[0mname\u001b[0m\u001b[0;34m,\u001b[0m \u001b[0mas_ref\u001b[0m\u001b[0;34m)\u001b[0m\u001b[0;34m:\u001b[0m\u001b[0;34m\u001b[0m\u001b[0;34m\u001b[0m\u001b[0m\n\u001b[1;32m     51\u001b[0m   \u001b[0;32mdel\u001b[0m \u001b[0mas_ref\u001b[0m  \u001b[0;31m# Unused.\u001b[0m\u001b[0;34m\u001b[0m\u001b[0;34m\u001b[0m\u001b[0m\n\u001b[0;32m---> 52\u001b[0;31m   \u001b[0;32mreturn\u001b[0m \u001b[0mconstant_op\u001b[0m\u001b[0;34m.\u001b[0m\u001b[0mconstant\u001b[0m\u001b[0;34m(\u001b[0m\u001b[0mvalue\u001b[0m\u001b[0;34m,\u001b[0m \u001b[0mdtype\u001b[0m\u001b[0;34m,\u001b[0m \u001b[0mname\u001b[0m\u001b[0;34m=\u001b[0m\u001b[0mname\u001b[0m\u001b[0;34m)\u001b[0m\u001b[0;34m\u001b[0m\u001b[0;34m\u001b[0m\u001b[0m\n\u001b[0m\u001b[1;32m     53\u001b[0m \u001b[0;34m\u001b[0m\u001b[0m\n\u001b[1;32m     54\u001b[0m \u001b[0;34m\u001b[0m\u001b[0m\n",
            "\u001b[0;32m/usr/local/lib/python3.7/dist-packages/tensorflow/python/framework/constant_op.py\u001b[0m in \u001b[0;36mconstant\u001b[0;34m(value, dtype, shape, name)\u001b[0m\n\u001b[1;32m    270\u001b[0m   \"\"\"\n\u001b[1;32m    271\u001b[0m   return _constant_impl(value, dtype, shape, name, verify_shape=False,\n\u001b[0;32m--> 272\u001b[0;31m                         allow_broadcast=True)\n\u001b[0m\u001b[1;32m    273\u001b[0m \u001b[0;34m\u001b[0m\u001b[0m\n\u001b[1;32m    274\u001b[0m \u001b[0;34m\u001b[0m\u001b[0m\n",
            "\u001b[0;32m/usr/local/lib/python3.7/dist-packages/tensorflow/python/framework/constant_op.py\u001b[0m in \u001b[0;36m_constant_impl\u001b[0;34m(value, dtype, shape, name, verify_shape, allow_broadcast)\u001b[0m\n\u001b[1;32m    281\u001b[0m       \u001b[0;32mwith\u001b[0m \u001b[0mtrace\u001b[0m\u001b[0;34m.\u001b[0m\u001b[0mTrace\u001b[0m\u001b[0;34m(\u001b[0m\u001b[0;34m\"tf.constant\"\u001b[0m\u001b[0;34m)\u001b[0m\u001b[0;34m:\u001b[0m\u001b[0;34m\u001b[0m\u001b[0;34m\u001b[0m\u001b[0m\n\u001b[1;32m    282\u001b[0m         \u001b[0;32mreturn\u001b[0m \u001b[0m_constant_eager_impl\u001b[0m\u001b[0;34m(\u001b[0m\u001b[0mctx\u001b[0m\u001b[0;34m,\u001b[0m \u001b[0mvalue\u001b[0m\u001b[0;34m,\u001b[0m \u001b[0mdtype\u001b[0m\u001b[0;34m,\u001b[0m \u001b[0mshape\u001b[0m\u001b[0;34m,\u001b[0m \u001b[0mverify_shape\u001b[0m\u001b[0;34m)\u001b[0m\u001b[0;34m\u001b[0m\u001b[0;34m\u001b[0m\u001b[0m\n\u001b[0;32m--> 283\u001b[0;31m     \u001b[0;32mreturn\u001b[0m \u001b[0m_constant_eager_impl\u001b[0m\u001b[0;34m(\u001b[0m\u001b[0mctx\u001b[0m\u001b[0;34m,\u001b[0m \u001b[0mvalue\u001b[0m\u001b[0;34m,\u001b[0m \u001b[0mdtype\u001b[0m\u001b[0;34m,\u001b[0m \u001b[0mshape\u001b[0m\u001b[0;34m,\u001b[0m \u001b[0mverify_shape\u001b[0m\u001b[0;34m)\u001b[0m\u001b[0;34m\u001b[0m\u001b[0;34m\u001b[0m\u001b[0m\n\u001b[0m\u001b[1;32m    284\u001b[0m \u001b[0;34m\u001b[0m\u001b[0m\n\u001b[1;32m    285\u001b[0m   \u001b[0mg\u001b[0m \u001b[0;34m=\u001b[0m \u001b[0mops\u001b[0m\u001b[0;34m.\u001b[0m\u001b[0mget_default_graph\u001b[0m\u001b[0;34m(\u001b[0m\u001b[0;34m)\u001b[0m\u001b[0;34m\u001b[0m\u001b[0;34m\u001b[0m\u001b[0m\n",
            "\u001b[0;32m/usr/local/lib/python3.7/dist-packages/tensorflow/python/framework/constant_op.py\u001b[0m in \u001b[0;36m_constant_eager_impl\u001b[0;34m(ctx, value, dtype, shape, verify_shape)\u001b[0m\n\u001b[1;32m    306\u001b[0m \u001b[0;32mdef\u001b[0m \u001b[0m_constant_eager_impl\u001b[0m\u001b[0;34m(\u001b[0m\u001b[0mctx\u001b[0m\u001b[0;34m,\u001b[0m \u001b[0mvalue\u001b[0m\u001b[0;34m,\u001b[0m \u001b[0mdtype\u001b[0m\u001b[0;34m,\u001b[0m \u001b[0mshape\u001b[0m\u001b[0;34m,\u001b[0m \u001b[0mverify_shape\u001b[0m\u001b[0;34m)\u001b[0m\u001b[0;34m:\u001b[0m\u001b[0;34m\u001b[0m\u001b[0;34m\u001b[0m\u001b[0m\n\u001b[1;32m    307\u001b[0m   \u001b[0;34m\"\"\"Creates a constant on the current device.\"\"\"\u001b[0m\u001b[0;34m\u001b[0m\u001b[0;34m\u001b[0m\u001b[0m\n\u001b[0;32m--> 308\u001b[0;31m   \u001b[0mt\u001b[0m \u001b[0;34m=\u001b[0m \u001b[0mconvert_to_eager_tensor\u001b[0m\u001b[0;34m(\u001b[0m\u001b[0mvalue\u001b[0m\u001b[0;34m,\u001b[0m \u001b[0mctx\u001b[0m\u001b[0;34m,\u001b[0m \u001b[0mdtype\u001b[0m\u001b[0;34m)\u001b[0m\u001b[0;34m\u001b[0m\u001b[0;34m\u001b[0m\u001b[0m\n\u001b[0m\u001b[1;32m    309\u001b[0m   \u001b[0;32mif\u001b[0m \u001b[0mshape\u001b[0m \u001b[0;32mis\u001b[0m \u001b[0;32mNone\u001b[0m\u001b[0;34m:\u001b[0m\u001b[0;34m\u001b[0m\u001b[0;34m\u001b[0m\u001b[0m\n\u001b[1;32m    310\u001b[0m     \u001b[0;32mreturn\u001b[0m \u001b[0mt\u001b[0m\u001b[0;34m\u001b[0m\u001b[0;34m\u001b[0m\u001b[0m\n",
            "\u001b[0;32m/usr/local/lib/python3.7/dist-packages/tensorflow/python/framework/constant_op.py\u001b[0m in \u001b[0;36mconvert_to_eager_tensor\u001b[0;34m(value, ctx, dtype)\u001b[0m\n\u001b[1;32m    104\u001b[0m       \u001b[0mdtype\u001b[0m \u001b[0;34m=\u001b[0m \u001b[0mdtypes\u001b[0m\u001b[0;34m.\u001b[0m\u001b[0mas_dtype\u001b[0m\u001b[0;34m(\u001b[0m\u001b[0mdtype\u001b[0m\u001b[0;34m)\u001b[0m\u001b[0;34m.\u001b[0m\u001b[0mas_datatype_enum\u001b[0m\u001b[0;34m\u001b[0m\u001b[0;34m\u001b[0m\u001b[0m\n\u001b[1;32m    105\u001b[0m   \u001b[0mctx\u001b[0m\u001b[0;34m.\u001b[0m\u001b[0mensure_initialized\u001b[0m\u001b[0;34m(\u001b[0m\u001b[0;34m)\u001b[0m\u001b[0;34m\u001b[0m\u001b[0;34m\u001b[0m\u001b[0m\n\u001b[0;32m--> 106\u001b[0;31m   \u001b[0;32mreturn\u001b[0m \u001b[0mops\u001b[0m\u001b[0;34m.\u001b[0m\u001b[0mEagerTensor\u001b[0m\u001b[0;34m(\u001b[0m\u001b[0mvalue\u001b[0m\u001b[0;34m,\u001b[0m \u001b[0mctx\u001b[0m\u001b[0;34m.\u001b[0m\u001b[0mdevice_name\u001b[0m\u001b[0;34m,\u001b[0m \u001b[0mdtype\u001b[0m\u001b[0;34m)\u001b[0m\u001b[0;34m\u001b[0m\u001b[0;34m\u001b[0m\u001b[0m\n\u001b[0m\u001b[1;32m    107\u001b[0m \u001b[0;34m\u001b[0m\u001b[0m\n\u001b[1;32m    108\u001b[0m \u001b[0;34m\u001b[0m\u001b[0m\n",
            "\u001b[0;31mTypeError\u001b[0m: Cannot convert 55.903999999999996 to EagerTensor of dtype int64"
          ]
        }
      ]
    },
    {
      "cell_type": "markdown",
      "metadata": {
        "id": "k5fhoAZTImJO"
      },
      "source": [
        "# 30th sept, 2021"
      ]
    },
    {
      "cell_type": "code",
      "metadata": {
        "id": "xHHvWNJmI3dc"
      },
      "source": [
        "# Details of FedAvg\n",
        "  # FedAvg Loss: aim is to minimize overall global loss \n",
        "  # f(w) = summation(k=1 to K){(n_k / n) * F_k(w)}\n",
        "  # K - number of clients\n",
        "  # F_k - Client k's loss function; this is getting calculated on each client's individual devices\n",
        "  # n_k - weighted by size of client k's dataset; devices with larger dataset will have more losses\n",
        "  # Algorithm: FederatedAveraging. The K clients are\n",
        "            # indexed by k; B is the local mini-batch size, E is the number\n",
        "            # of local epochs, and η is the learning rate.\n",
        "\n",
        "K = 25 # as we have 25 clients\n",
        "clients = {} # dictionary\n",
        "\n",
        "# reading all the clients\n",
        "for st_code in range(101,126):\n",
        "    clients[st_code] = pd.read_csv(\"/content/drive/MyDrive/Colab Notebooks/dataNew/station_code\"+str(st_code)+\".csv\", index_col = 0)\n"
      ],
      "execution_count": 8,
      "outputs": []
    },
    {
      "cell_type": "code",
      "metadata": {
        "id": "5csCtyMFJEzK"
      },
      "source": [
        "# taking required featuring and dropping rest\n",
        "for station_id in range(101,126):\n",
        "  clients[station_id] = clients[station_id][['Latitude', 'Longitude','day', 'month', 'year','CO']].copy()"
      ],
      "execution_count": 9,
      "outputs": []
    },
    {
      "cell_type": "code",
      "metadata": {
        "id": "YD5vv7FZJVYo"
      },
      "source": [
        "# ClientUpdate(k, w): // Run on client k\n",
        "def Client(client_idx, model):\n",
        "# B ← (split P_k into batches of size B) # what is p_K --> each clients' sample size\n",
        "  B = 1 #int(len(clients[client_idx]) * 0.1) # so for each client the batch size would be different depending upon the total sample size\n",
        "  E = 1 #30 + B # number of local epochs; it will also depend on sample size (indirectly)\n",
        "  learning_rate = 0.1 # initial learning rate\n",
        "  decay_rate = 0.1\n",
        "  momentum = 0.8\n",
        "\n",
        "  # define the optimizer function\n",
        "  sgd = SGD(lr = learning_rate, momentum = momentum, decay = decay_rate, nesterov = False)\n",
        "\n",
        "  # compile the model\n",
        "  model.compile(loss='mse', \n",
        "                optimizer=sgd, \n",
        "                metrics=['mse'])\n",
        "  \n",
        "\n",
        "# for each local epoch i from 1 to E do\n",
        "#   for batch b ∈ B do\n",
        "#     w ← w − η O l(w; b) # this seems the SGD process\n",
        "\n",
        "  # fitting the model: same as above two for loops\n",
        "  dataset = clients[client_idx]\n",
        "  \n",
        "  X, y = dataset[['Latitude', 'Longitude','day', 'month', 'year']].copy(),  dataset['CO']\n",
        "\n",
        "  x_train, x_test, y_train, y_test = train_test_split(X, y, test_size = 0.1, random_state=1)\n",
        "\n",
        "  try:\n",
        "    model.fit(x_train, y_train, \n",
        "                    epochs = E, \n",
        "                    batch_size=B,\n",
        "                    validation_data=(x_test, y_test),\n",
        "                    verbose=True)\n",
        "  except Exception as e:\n",
        "    print(e)\n",
        "    print(\"tata bye bye\")\n",
        "\n",
        "  # return w to server\n",
        "  # in our case no need for any explicit return; as the model is pass by value\n",
        "  return dataset.shape[0] # this will return the number of total sample\n"
      ],
      "execution_count": 30,
      "outputs": []
    },
    {
      "cell_type": "code",
      "metadata": {
        "id": "kz0H0x_qJeC0"
      },
      "source": [
        "# Server executes: \n",
        "def Server():\n",
        "  # initialize w_0\n",
        "  model = Sequential()\n",
        "\n",
        "  # model.add(Dense(64, kernel_initializer='zeros', bias_initializer='zeros', activation=tf.nn.relu, input_dim=6)) # first dense/hidden layer\n",
        "  model.add(Dense(64, kernel_initializer='he_uniform', bias_initializer=\"zeros\", activation=tf.nn.relu, input_dim=5))\n",
        "  model.add(Dropout(0.1))\n",
        "\n",
        "  model.add(Dense(64, kernel_initializer='he_uniform', bias_initializer=\"zeros\", activation=tf.nn.relu)) # second dense/hidden layer\n",
        "  model.add(Dropout(0.2))\n",
        "\n",
        "  model.add(Dense(1, kernel_initializer= 'he_uniform', activation=tf.nn.softmax)) # output layer\n",
        "\n",
        "  # initial_weights = model.get_weights() # setting initial weights; should be same for all clients\n",
        "\n",
        "\n",
        "  # for each round t = 1, 2, . . . do\n",
        "  for t in range(1, 5):\n",
        "    C = np.random.random(1)[0] # random number between 0 and 1.\n",
        "\n",
        "    # m ← max(C  K, 1)\n",
        "    m = max(int(C*K), 1) # m == random number of client selected\n",
        "    weight_t_plus_1 = [None] * m # matrix to store the weights of all client in each t-round\n",
        "    n_k = [None] * m # parameters for weighted sum \n",
        "\n",
        "\n",
        "    # S_t ← (random set of m clients)\n",
        "    # S = {} # dictionary\n",
        "    S_t = np.random.uniform(low=101, high=126, size=(m)).astype(int)\n",
        "\n",
        "    # No need for below loop, as server don't need access to client data, server only need clients' number\n",
        "    # for client in m_clients:\n",
        "    #   S[client] = clients[client]\n",
        "    \n",
        "    initial_weights = model.get_weights() # setting initial weights; should be same for all clients\n",
        "    # for t= 1 to T, initial_weights would be t-1th's final weights\n",
        "\n",
        "    # for each client k ∈ S_t in parallel do\n",
        "    client_idx = 0\n",
        "    for client in S_t:\n",
        "      # w^(k)_(t+1) ← ClientUpdate(k, model)\n",
        "      n_k[client_idx] = Client(client, model) # pass by reference\n",
        "      weight_t_plus_1[client_idx] = model.get_weights()\n",
        "      client_idx += 1\n",
        "      \n",
        "      # setting weights back to initial weights\n",
        "      model.set_weights(initial_weights)\n",
        "\n",
        "    # finding the weighted sum\n",
        "    final_weights_t = np.array(weight_t_plus_1[0]) * (n_k[0] / sum(n_k))\n",
        "\n",
        "    for idx in range(1, m):\n",
        "      # w_(t+1) ← summation(k=1 to K){(n_k/n) * w^(k)_(t+1)} #n_k - no. of training sample in each client K; n - total training samples;\n",
        "      final_weights_t += np.array(weight_t_plus_1[idx]) * (n_k[idx]/ sum(n_k))\n",
        "\n",
        "    # setting the aggregated weights\n",
        "    model.set_weights(final_weights_t)\n",
        "\n",
        "  print(model.get_weights())"
      ],
      "execution_count": 31,
      "outputs": []
    },
    {
      "cell_type": "code",
      "metadata": {
        "colab": {
          "base_uri": "https://localhost:8080/"
        },
        "id": "tWLrXbwwJfj3",
        "outputId": "111a81a2-caea-468f-aca0-4a4608622d57"
      },
      "source": [
        "Server()"
      ],
      "execution_count": 32,
      "outputs": [
        {
          "output_type": "stream",
          "name": "stdout",
          "text": [
            "23301/23301 [==============================] - 33s 1ms/step - loss: 0.3399 - mse: 0.3399 - val_loss: 0.3364 - val_mse: 0.3364\n",
            "23302/23302 [==============================] - 33s 1ms/step - loss: 0.3376 - mse: 0.3376 - val_loss: 0.3389 - val_mse: 0.3389\n",
            "23314/23314 [==============================] - 33s 1ms/step - loss: 0.5524 - mse: 0.5524 - val_loss: 0.6012 - val_mse: 0.6012\n",
            "23304/23304 [==============================] - 33s 1ms/step - loss: 0.3933 - mse: 0.3933 - val_loss: 0.9745 - val_mse: 0.9745\n",
            "23314/23314 [==============================] - 33s 1ms/step - loss: 0.4206 - mse: 0.4206 - val_loss: 0.2606 - val_mse: 0.2606\n",
            "23313/23313 [==============================] - 32s 1ms/step - loss: 0.2881 - mse: 0.2881 - val_loss: 0.2845 - val_mse: 0.2845\n"
          ]
        },
        {
          "output_type": "stream",
          "name": "stderr",
          "text": [
            "/usr/local/lib/python3.7/dist-packages/ipykernel_launcher.py:51: VisibleDeprecationWarning: Creating an ndarray from ragged nested sequences (which is a list-or-tuple of lists-or-tuples-or ndarrays with different lengths or shapes) is deprecated. If you meant to do this, you must specify 'dtype=object' when creating the ndarray\n",
            "/usr/local/lib/python3.7/dist-packages/ipykernel_launcher.py:55: VisibleDeprecationWarning: Creating an ndarray from ragged nested sequences (which is a list-or-tuple of lists-or-tuples-or ndarrays with different lengths or shapes) is deprecated. If you meant to do this, you must specify 'dtype=object' when creating the ndarray\n"
          ]
        },
        {
          "output_type": "stream",
          "name": "stdout",
          "text": [
            "23314/23314 [==============================] - 33s 1ms/step - loss: 0.4206 - mse: 0.4206 - val_loss: 0.2606 - val_mse: 0.2606\n",
            "23314/23314 [==============================] - 33s 1ms/step - loss: 0.2256 - mse: 0.2256 - val_loss: 0.2113 - val_mse: 0.2113\n",
            "23314/23314 [==============================] - 32s 1ms/step - loss: 0.3443 - mse: 0.3443 - val_loss: 0.3190 - val_mse: 0.3190\n",
            "23313/23313 [==============================] - 32s 1ms/step - loss: 0.5111 - mse: 0.5111 - val_loss: 0.3152 - val_mse: 0.3152\n",
            "23314/23314 [==============================] - 32s 1ms/step - loss: 0.3930 - mse: 0.3930 - val_loss: 0.3842 - val_mse: 0.3842\n",
            "23302/23302 [==============================] - 32s 1ms/step - loss: 0.3376 - mse: 0.3376 - val_loss: 0.3389 - val_mse: 0.3389\n",
            "23315/23315 [==============================] - 32s 1ms/step - loss: 0.3479 - mse: 0.3479 - val_loss: 0.3512 - val_mse: 0.3512\n",
            "23301/23301 [==============================] - 33s 1ms/step - loss: 0.3824 - mse: 0.3824 - val_loss: 0.4156 - val_mse: 0.4156\n",
            "23315/23315 [==============================] - 33s 1ms/step - loss: 0.3479 - mse: 0.3479 - val_loss: 0.3512 - val_mse: 0.3512\n"
          ]
        },
        {
          "output_type": "stream",
          "name": "stderr",
          "text": [
            "/usr/local/lib/python3.7/dist-packages/ipykernel_launcher.py:51: VisibleDeprecationWarning: Creating an ndarray from ragged nested sequences (which is a list-or-tuple of lists-or-tuples-or ndarrays with different lengths or shapes) is deprecated. If you meant to do this, you must specify 'dtype=object' when creating the ndarray\n",
            "/usr/local/lib/python3.7/dist-packages/ipykernel_launcher.py:55: VisibleDeprecationWarning: Creating an ndarray from ragged nested sequences (which is a list-or-tuple of lists-or-tuples-or ndarrays with different lengths or shapes) is deprecated. If you meant to do this, you must specify 'dtype=object' when creating the ndarray\n"
          ]
        },
        {
          "output_type": "stream",
          "name": "stdout",
          "text": [
            "23314/23314 [==============================] - 32s 1ms/step - loss: 0.3116 - mse: 0.3116 - val_loss: 0.3112 - val_mse: 0.3112\n"
          ]
        },
        {
          "output_type": "stream",
          "name": "stderr",
          "text": [
            "/usr/local/lib/python3.7/dist-packages/ipykernel_launcher.py:51: VisibleDeprecationWarning: Creating an ndarray from ragged nested sequences (which is a list-or-tuple of lists-or-tuples-or ndarrays with different lengths or shapes) is deprecated. If you meant to do this, you must specify 'dtype=object' when creating the ndarray\n"
          ]
        },
        {
          "output_type": "stream",
          "name": "stdout",
          "text": [
            "23314/23314 [==============================] - 35s 1ms/step - loss: 0.5400 - mse: 0.5400 - val_loss: 0.4168 - val_mse: 0.4168\n",
            "23304/23304 [==============================] - 32s 1ms/step - loss: 0.3652 - mse: 0.3652 - val_loss: 0.3627 - val_mse: 0.3627\n",
            "23314/23314 [==============================] - 32s 1ms/step - loss: 0.5400 - mse: 0.5400 - val_loss: 0.4168 - val_mse: 0.4168\n",
            "23313/23313 [==============================] - 32s 1ms/step - loss: 0.4570 - mse: 0.4570 - val_loss: 0.4444 - val_mse: 0.4444\n",
            "23306/23306 [==============================] - 32s 1ms/step - loss: 0.3423 - mse: 0.3423 - val_loss: 0.3435 - val_mse: 0.3435\n",
            "23313/23313 [==============================] - 33s 1ms/step - loss: 0.3061 - mse: 0.3061 - val_loss: 0.3069 - val_mse: 0.3069\n",
            "23304/23304 [==============================] - 32s 1ms/step - loss: 0.3933 - mse: 0.3933 - val_loss: 0.9745 - val_mse: 0.9745\n",
            "23301/23301 [==============================] - 32s 1ms/step - loss: 0.3399 - mse: 0.3399 - val_loss: 0.3364 - val_mse: 0.3364\n",
            "23302/23302 [==============================] - 32s 1ms/step - loss: 0.9834 - mse: 0.9834 - val_loss: 0.3988 - val_mse: 0.3988\n",
            "23302/23302 [==============================] - 32s 1ms/step - loss: 0.4489 - mse: 0.4489 - val_loss: 0.4407 - val_mse: 0.4407\n",
            "23314/23314 [==============================] - 32s 1ms/step - loss: 0.3108 - mse: 0.3108 - val_loss: 0.2886 - val_mse: 0.2886\n",
            "23302/23302 [==============================] - 32s 1ms/step - loss: 0.9835 - mse: 0.9835 - val_loss: 0.3988 - val_mse: 0.3988\n",
            "23304/23304 [==============================] - 34s 1ms/step - loss: 0.3390 - mse: 0.3390 - val_loss: 0.2539 - val_mse: 0.2539\n",
            "23304/23304 [==============================] - 34s 1ms/step - loss: 0.3652 - mse: 0.3652 - val_loss: 0.3627 - val_mse: 0.3627\n",
            "[array([[ 0.0295527 , -0.43153632, -1.0120856 ,  0.4206719 , -0.78356445,\n",
            "         0.14967419, -0.77407444, -0.36710086, -0.25374302,  0.54434896,\n",
            "        -0.79312646, -0.3338157 ,  0.33476248,  0.8420848 , -0.5089249 ,\n",
            "        -0.8590388 , -0.62872815,  0.49792752, -0.5522457 ,  0.4819902 ,\n",
            "        -0.44485623, -0.93704003, -0.48539302,  0.5956849 ,  0.8955226 ,\n",
            "         0.345595  ,  0.6276988 , -0.42286006,  0.27601048,  0.6049513 ,\n",
            "         0.21005717,  0.21745253, -0.01700377,  0.6455648 , -0.7325022 ,\n",
            "        -0.89201105,  1.08498   , -0.14738518,  0.6248628 ,  0.00579417,\n",
            "         0.8656816 ,  0.58497524, -0.14197862,  0.10778463, -0.9511553 ,\n",
            "        -0.4644429 ,  0.33470455, -0.5785874 ,  0.8554375 , -0.32098034,\n",
            "        -0.31035256, -0.2865097 ,  0.17293882,  0.05194187, -0.4393062 ,\n",
            "         0.38800004,  0.94354594,  0.87638146,  1.0749007 ,  0.22020268,\n",
            "         0.99262106,  1.0752933 ,  0.8177295 , -0.7680415 ],\n",
            "       [-0.9962705 , -0.05083679,  0.23881006,  0.2844478 , -0.28963986,\n",
            "        -0.7854208 ,  0.8074674 , -0.16545036,  0.71704364,  0.30990365,\n",
            "         0.85809773,  0.5573617 , -0.7493705 , -0.2501158 ,  0.660242  ,\n",
            "         0.5005355 ,  0.5254358 , -0.0709728 ,  1.0335681 , -0.10360636,\n",
            "        -0.31516474, -0.612215  , -1.0460714 , -0.7649987 , -1.0593262 ,\n",
            "        -1.0637425 , -0.94282395,  0.06720722,  0.98003435,  0.18180251,\n",
            "         0.45126012,  0.85826296, -0.9072106 , -0.9340978 ,  0.56827587,\n",
            "        -0.29744694,  0.00277007, -0.13520326, -0.99454534,  0.44245893,\n",
            "        -0.7148873 , -0.30932775, -0.43300664, -0.24252221,  0.9993806 ,\n",
            "        -1.0206692 , -0.9040746 , -0.949261  , -0.94088674,  0.14657271,\n",
            "         1.0600992 ,  0.19767116, -0.19858871,  0.5027901 , -0.42919534,\n",
            "         0.48244622, -1.0030129 , -0.44788104, -0.83784795, -0.14708197,\n",
            "        -0.86571145, -0.92394555,  0.6797247 ,  1.0520123 ],\n",
            "       [ 0.68992805, -0.5075432 ,  0.16805792,  0.7587879 , -0.5400968 ,\n",
            "         0.73131025, -0.3672181 ,  0.4903028 , -0.44897413, -0.36348435,\n",
            "        -0.9174546 ,  1.0605513 , -0.7589658 ,  0.03100849, -1.0518042 ,\n",
            "        -0.8109273 ,  0.9495428 , -0.73821163, -0.7465876 , -0.10804322,\n",
            "        -0.13818665,  1.0133233 ,  0.7258749 ,  1.0852528 ,  0.6415628 ,\n",
            "         0.52585346,  0.875495  , -0.40109015,  0.33754587,  0.1684022 ,\n",
            "         0.5298484 , -0.01556468,  0.776454  , -0.7307502 ,  0.387812  ,\n",
            "        -1.0035769 , -0.79348814, -0.7087741 , -0.1248482 , -1.0259436 ,\n",
            "         0.07471205,  0.33498812, -0.6057444 ,  0.34839997, -0.38455433,\n",
            "        -0.961268  , -0.05103302, -0.896699  , -0.41796038,  0.86124384,\n",
            "         0.26198566,  0.79987323,  0.44639885, -0.28988332, -0.05269277,\n",
            "        -0.68189394, -0.03038562,  1.020385  , -0.73073566, -0.11266417,\n",
            "        -0.12299643,  0.29746345,  0.54213786,  0.96401614],\n",
            "       [-0.54215306, -0.9115856 , -0.5927067 , -0.04375242, -0.827438  ,\n",
            "        -1.0081058 , -0.43369773, -0.8844101 ,  0.29063782, -1.0742309 ,\n",
            "        -0.9816311 ,  0.5069052 , -0.59865683,  0.57279533,  1.0479252 ,\n",
            "         0.32499373, -0.18062462,  0.62179875, -0.45471656, -0.5429183 ,\n",
            "         0.59785557,  0.4285395 , -0.68994254, -0.39604   , -0.587963  ,\n",
            "         0.80746764, -0.7180204 ,  0.18823026,  0.62944365,  0.89627194,\n",
            "        -0.8484048 , -1.0622686 ,  1.0576947 ,  0.7425656 , -0.8979142 ,\n",
            "         0.2772169 ,  0.0888455 ,  0.8896736 ,  0.760393  , -0.3889378 ,\n",
            "         0.20255755,  0.17251301,  0.95555353, -0.35021612, -0.5143894 ,\n",
            "         0.5826019 , -0.34439224,  0.8205315 ,  0.41089645, -1.0142785 ,\n",
            "        -0.93552405, -0.39082384, -0.44423264, -0.94744277, -0.6734553 ,\n",
            "        -0.31301397,  0.8754902 ,  0.13416396,  0.907504  ,  0.47314024,\n",
            "        -0.97245353,  0.3908249 ,  0.9913297 ,  0.57010543],\n",
            "       [-0.8619703 ,  1.0843251 ,  0.7968937 , -0.2299952 ,  0.41324806,\n",
            "         0.894873  , -0.3064355 ,  0.4707148 ,  0.24279816,  0.80857664,\n",
            "        -0.9693264 , -1.0518951 ,  0.49928486, -0.37213108, -0.02247453,\n",
            "         0.26674685,  0.08599269, -0.6124217 , -0.43298447, -0.43340784,\n",
            "        -0.54699683,  0.82324445,  0.21460545, -1.0922542 , -0.74962974,\n",
            "         0.41992784, -0.70426065,  0.62626415, -0.6984438 , -0.22764623,\n",
            "         0.01302218, -0.69726586,  0.19504464, -0.6509382 , -0.8961563 ,\n",
            "         0.9100809 , -0.7222174 ,  0.622896  ,  0.5284008 ,  0.09882213,\n",
            "        -1.0939329 , -0.9405598 , -0.63841075,  0.03622878,  0.30939922,\n",
            "        -1.0847049 ,  0.28395224, -0.9678397 ,  0.5331284 ,  0.08080971,\n",
            "         0.71959835,  0.33095765,  0.02912772,  0.26088488, -0.6691454 ,\n",
            "        -0.27817824, -0.72804284, -0.08355594, -0.9923654 ,  0.426523  ,\n",
            "        -0.7223819 ,  0.74550927,  0.7065181 , -0.4299522 ]],\n",
            "      dtype=float32), array([0., 0., 0., 0., 0., 0., 0., 0., 0., 0., 0., 0., 0., 0., 0., 0., 0.,\n",
            "       0., 0., 0., 0., 0., 0., 0., 0., 0., 0., 0., 0., 0., 0., 0., 0., 0.,\n",
            "       0., 0., 0., 0., 0., 0., 0., 0., 0., 0., 0., 0., 0., 0., 0., 0., 0.,\n",
            "       0., 0., 0., 0., 0., 0., 0., 0., 0., 0., 0., 0., 0.], dtype=float32), array([[-0.03100726,  0.18161847,  0.26863757, ..., -0.20508713,\n",
            "        -0.02996547,  0.14246382],\n",
            "       [-0.07618615, -0.20090887, -0.2637707 , ..., -0.21601346,\n",
            "         0.257937  ,  0.02640983],\n",
            "       [-0.10199104, -0.17659736,  0.00212958, ...,  0.00201607,\n",
            "         0.13975912, -0.25820717],\n",
            "       ...,\n",
            "       [ 0.09965354, -0.14139558,  0.13976812, ...,  0.10637818,\n",
            "        -0.10210321, -0.1630171 ],\n",
            "       [ 0.26732507,  0.19971313,  0.02183694, ...,  0.25747138,\n",
            "        -0.06585272,  0.17879696],\n",
            "       [ 0.08850325,  0.18789999, -0.02746212, ..., -0.11515959,\n",
            "         0.28482664,  0.0590461 ]], dtype=float32), array([0., 0., 0., 0., 0., 0., 0., 0., 0., 0., 0., 0., 0., 0., 0., 0., 0.,\n",
            "       0., 0., 0., 0., 0., 0., 0., 0., 0., 0., 0., 0., 0., 0., 0., 0., 0.,\n",
            "       0., 0., 0., 0., 0., 0., 0., 0., 0., 0., 0., 0., 0., 0., 0., 0., 0.,\n",
            "       0., 0., 0., 0., 0., 0., 0., 0., 0., 0., 0., 0., 0.], dtype=float32), array([[-0.06776723],\n",
            "       [-0.01573512],\n",
            "       [ 0.18200642],\n",
            "       [ 0.02115402],\n",
            "       [-0.06747543],\n",
            "       [ 0.03603474],\n",
            "       [-0.2672569 ],\n",
            "       [-0.13388331],\n",
            "       [ 0.09493386],\n",
            "       [ 0.25389308],\n",
            "       [ 0.29139715],\n",
            "       [-0.1143079 ],\n",
            "       [ 0.24190749],\n",
            "       [-0.25066662],\n",
            "       [-0.2789299 ],\n",
            "       [ 0.06888565],\n",
            "       [ 0.09283019],\n",
            "       [ 0.15079878],\n",
            "       [-0.15158306],\n",
            "       [ 0.05220288],\n",
            "       [ 0.18375456],\n",
            "       [-0.1454015 ],\n",
            "       [-0.05960379],\n",
            "       [-0.2852277 ],\n",
            "       [-0.25751856],\n",
            "       [ 0.22172485],\n",
            "       [ 0.26261687],\n",
            "       [ 0.18419178],\n",
            "       [ 0.04686114],\n",
            "       [-0.16431658],\n",
            "       [-0.10077702],\n",
            "       [ 0.1879015 ],\n",
            "       [ 0.17921613],\n",
            "       [-0.13552222],\n",
            "       [-0.29001608],\n",
            "       [ 0.26794744],\n",
            "       [ 0.24949166],\n",
            "       [ 0.26213053],\n",
            "       [-0.23373218],\n",
            "       [-0.16337064],\n",
            "       [-0.12335316],\n",
            "       [ 0.01076377],\n",
            "       [-0.24601254],\n",
            "       [-0.25131738],\n",
            "       [-0.03737268],\n",
            "       [-0.22699387],\n",
            "       [ 0.22059335],\n",
            "       [-0.07574771],\n",
            "       [ 0.26809672],\n",
            "       [ 0.21584171],\n",
            "       [-0.07555098],\n",
            "       [ 0.217445  ],\n",
            "       [ 0.2602603 ],\n",
            "       [ 0.20795187],\n",
            "       [-0.30205834],\n",
            "       [ 0.13898942],\n",
            "       [ 0.28087202],\n",
            "       [-0.00737172],\n",
            "       [ 0.01454353],\n",
            "       [-0.25350162],\n",
            "       [ 0.26506907],\n",
            "       [-0.00825417],\n",
            "       [ 0.14791417],\n",
            "       [-0.02230784]], dtype=float32), array([0.], dtype=float32)]\n"
          ]
        },
        {
          "output_type": "stream",
          "name": "stderr",
          "text": [
            "/usr/local/lib/python3.7/dist-packages/ipykernel_launcher.py:51: VisibleDeprecationWarning: Creating an ndarray from ragged nested sequences (which is a list-or-tuple of lists-or-tuples-or ndarrays with different lengths or shapes) is deprecated. If you meant to do this, you must specify 'dtype=object' when creating the ndarray\n",
            "/usr/local/lib/python3.7/dist-packages/ipykernel_launcher.py:55: VisibleDeprecationWarning: Creating an ndarray from ragged nested sequences (which is a list-or-tuple of lists-or-tuples-or ndarrays with different lengths or shapes) is deprecated. If you meant to do this, you must specify 'dtype=object' when creating the ndarray\n"
          ]
        }
      ]
    },
    {
      "cell_type": "markdown",
      "metadata": {
        "id": "EizJ6Dty6ux7"
      },
      "source": [
        "# Trial for FL"
      ]
    },
    {
      "cell_type": "code",
      "metadata": {
        "id": "nHK9VB1f-olk",
        "colab": {
          "base_uri": "https://localhost:8080/"
        },
        "outputId": "4e461cd7-83a6-4473-843b-5feae35159f6"
      },
      "source": [
        "# ## generating random number between start to end\n",
        "# import numpy as np\n",
        " \n",
        "# start = 101   # inclusive\n",
        "# end = 125    # exclusive\n",
        "\n",
        "# n = 12\n",
        "\n",
        "# x = np.random.uniform(low=101, high=126, size=(m)).astype(int)\n",
        "# print(x)"
      ],
      "execution_count": null,
      "outputs": [
        {
          "output_type": "stream",
          "name": "stdout",
          "text": [
            "[118 108 113 118 101 105 116 124 119 105 103 111]\n"
          ]
        }
      ]
    },
    {
      "cell_type": "code",
      "metadata": {
        "id": "4nQD9MQx6-ay"
      },
      "source": [
        "from tensorflow.keras import layers\n",
        "from tensorflow.keras import initializers\n",
        "import numpy as np\n",
        "import pandas as pd\n",
        "\n",
        "import matplotlib.pyplot as plt\n",
        "import tensorflow as tf\n",
        "from tensorflow.keras.layers import Activation\n",
        "from tensorflow.keras.layers import Dense\n",
        "from tensorflow.keras.models import Sequential\n",
        "from tensorflow.keras.callbacks import Callback\n",
        "from tensorflow.keras.optimizers import Adam"
      ],
      "execution_count": null,
      "outputs": []
    },
    {
      "cell_type": "code",
      "metadata": {
        "id": "DkeRI8uH_XYc",
        "colab": {
          "base_uri": "https://localhost:8080/"
        },
        "outputId": "247356cf-316b-47e2-ae80-6a36e5134c72"
      },
      "source": [
        "## clients\n",
        "clients = []\n",
        "\n",
        "for i in range(10): # number of clients = 10\n",
        "  client = []\n",
        "  client.append(np.random.uniform(low=1, high=12, size=(5)).astype(int))\n",
        "  client.append(2*client[0] + 5)\n",
        "  clients.append(client)\n",
        "\n",
        "weight_t_plus_1 = [None] * 10 #10 represents the number of clients\n",
        "\n",
        "clients"
      ],
      "execution_count": null,
      "outputs": [
        {
          "output_type": "execute_result",
          "data": {
            "text/plain": [
              "[[array([10,  5,  9,  1,  6]), array([25, 15, 23,  7, 17])],\n",
              " [array([ 4,  3,  3, 11,  6]), array([13, 11, 11, 27, 17])],\n",
              " [array([ 3,  3, 10,  9,  7]), array([11, 11, 25, 23, 19])],\n",
              " [array([ 6,  8,  9,  3, 11]), array([17, 21, 23, 11, 27])],\n",
              " [array([11,  4,  3,  7, 11]), array([27, 13, 11, 19, 27])],\n",
              " [array([ 8, 11,  9,  8,  1]), array([21, 27, 23, 21,  7])],\n",
              " [array([5, 9, 8, 1, 7]), array([15, 23, 21,  7, 19])],\n",
              " [array([ 2,  5, 11,  4,  8]), array([ 9, 15, 27, 13, 21])],\n",
              " [array([3, 7, 8, 1, 6]), array([11, 19, 21,  7, 17])],\n",
              " [array([2, 6, 6, 3, 2]), array([ 9, 17, 17, 11,  9])]]"
            ]
          },
          "metadata": {},
          "execution_count": 12
        }
      ]
    },
    {
      "cell_type": "code",
      "metadata": {
        "id": "AgC00t626zmA"
      },
      "source": [
        "def client(X, y, model):\n",
        "  adam = Adam(learning_rate = 0.01)\n",
        "  model.compile(optimizer = adam,\n",
        "              loss = 'mse',\n",
        "              metrics = ['mse'])\n",
        "  print(\"Before Training\")\n",
        "  print(model.get_weights())\n",
        "  print()\n",
        "  model.fit(X, y, epochs = 10, verbose=False)\n",
        "  print(\"After Training\")\n",
        "  print(model.get_weights())\n",
        "  print()\n",
        "\n",
        "  return model"
      ],
      "execution_count": null,
      "outputs": []
    },
    {
      "cell_type": "code",
      "metadata": {
        "id": "12GC6RQd7Msi"
      },
      "source": [
        "def server():\n",
        "  # Defining the architecture of NN model\n",
        "  model = Sequential()\n",
        "\n",
        "  model.add(Dense(5, input_dim = 1, activation = 'linear'))\n",
        "  # model.add(Dense(5,  activation = 'linear'))\n",
        "  print(\"initial weight :\", model.get_weights())\n",
        "  print()\n",
        "\n",
        "  # defining weight matrix for t+1th roung\n",
        "  # weight_t_plus_1 = [None] * 10 #10 represents the number of clients\n",
        "\n",
        "\n",
        "\n",
        "  import numpy as np\n",
        "\n",
        "  # update\n",
        "  initial_weights = model.get_weights() # setting initial weights\n",
        "\n",
        "  for i in range(10):\n",
        "    client(clients[i][0], clients[i][1], model) # pass by reference\n",
        "    print(str(i),\"th model's weights\", model.get_weights())\n",
        "    \n",
        "    weight_t_plus_1[i] = model.get_weights()\n",
        "\n",
        "    print()\n",
        "\n",
        "    # setting weights back to initial weights\n",
        "    model.set_weights(initial_weights)\n",
        "    \n"
      ],
      "execution_count": null,
      "outputs": []
    },
    {
      "cell_type": "code",
      "metadata": {
        "id": "JbQdwcBz7ULp"
      },
      "source": [
        "## Server running\n",
        "server()"
      ],
      "execution_count": null,
      "outputs": []
    },
    {
      "cell_type": "code",
      "metadata": {
        "id": "ddvyRRMb7fpX"
      },
      "source": [
        "## adding/ all the weights\n",
        "weights = np.array(weight_t_plus_1[0])\n",
        "\n",
        "for i in range(1,10):\n",
        "  weights += np.array(weight_t_plus_1[i])\n",
        "weights"
      ],
      "execution_count": null,
      "outputs": []
    },
    {
      "cell_type": "code",
      "metadata": {
        "colab": {
          "base_uri": "https://localhost:8080/"
        },
        "id": "tXTQltLx8QJz",
        "outputId": "a57a8501-d700-409e-f518-3efb5887d918"
      },
      "source": [
        "# checking whether we can add the elements\n",
        "a = 0\n",
        "for i in range(10):\n",
        "  a += weight_t_plus_1[i][0][0][1]\n",
        "a"
      ],
      "execution_count": null,
      "outputs": [
        {
          "output_type": "execute_result",
          "data": {
            "text/plain": [
              "-6.675058722496033"
            ]
          },
          "metadata": {},
          "execution_count": 10
        }
      ]
    },
    {
      "cell_type": "code",
      "metadata": {
        "id": "AGDSctyf8jwG"
      },
      "source": [
        "# checking if 0.5 gets multiplied will all the numbers\n",
        "np.array(weight_t_plus_1[1])* 0.5"
      ],
      "execution_count": null,
      "outputs": []
    }
  ]
}