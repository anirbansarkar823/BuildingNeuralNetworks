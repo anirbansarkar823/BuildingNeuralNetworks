{
  "nbformat": 4,
  "nbformat_minor": 0,
  "metadata": {
    "colab": {
      "name": "Copy of Federated_Learning.ipynb",
      "provenance": [],
      "collapsed_sections": [
        "MrShdh54NF_7",
        "0k1yqEjoo5Jh",
        "K7DMdbRUROCH",
        "CvVvIjwV5Aet",
        "k5fhoAZTImJO",
        "inWQ-3OqkxG2",
        "Pt4LmYyAuO7q",
        "EizJ6Dty6ux7"
      ]
    },
    "kernelspec": {
      "name": "python3",
      "display_name": "Python 3"
    },
    "language_info": {
      "name": "python"
    }
  },
  "cells": [
    {
      "cell_type": "code",
      "metadata": {
        "id": "fC9emmDVrYiX"
      },
      "source": [
        "## About temporal and spatial coefficients:\n",
        "# - time is first converted to seconds, then time slot using slot-size (which was taken to be 300 s)\n",
        "# - the latitude, longitude values are converted to whole number value by multiplying required powers of 10\n",
        "\n",
        "# # Normalization - lat, long : (l - l_min); basically converting to a range [0, l_max - l_min]\n",
        "\n",
        "# # Formula for correlation:\n",
        "# dST (x, y) = α.dS (x, y) + (1 − α).dT\n",
        "\n",
        "# ** α can be set to a value a value greater than 0.5 ---> (spatial corr) > (temporal corr)\n",
        "\n",
        "# # KNN-ST algorithm:\n",
        "# Inputs: k, α and type. {α - [0,1]; type - [naive (deduced value is simply avg of k nearest neighbors), weighted (weighted avg of k n neighbors; weight is inversely prop to distance from the data point to be deduced), k - number of neighbors to consider]\n",
        "\n",
        "\n"
      ],
      "execution_count": null,
      "outputs": []
    },
    {
      "cell_type": "code",
      "metadata": {
        "id": "36Z9nqAPrfIM"
      },
      "source": [
        "# Algorithm\n",
        "# //k, α and type are input parameters.\n",
        "for each missing data-point x do\n",
        "  # //Find deduced value of x, xd\n",
        "  Get the values of the k nearest points into array S[1..k]\n",
        "  # values means?? distance or direct cordinate values?\n",
        "\n",
        "  and the associated d_ST distances into array D[1..k]; \n",
        "  # d_ST (x, y) = α.d_S (x, y) + (1 − α).d_T\n",
        "\n",
        "  x_d ← 0\n",
        "  if type = ′naive′ then\n",
        "    sum_s ← 0\n",
        "    \n",
        "    for i = 1 to k do\n",
        "      sum_s ← sum_s + S[i]\n",
        "    end for\n",
        "    xd ← sums/k # simple avg of kNN values\n",
        "\n",
        "  else #type is weighted avg\n",
        "    if type = ′weighted′ then\n",
        "      sum_s ← 0; sum_d ← 0\n",
        "      \n",
        "      for i = 1 to k do\n",
        "        sum_d ← sum_d + 1/D[i]\n",
        "      end for\n",
        "      \n",
        "      for i = 1 to k do\n",
        "        x_d ← x_d + ((1/D[i])/sum_D).S[i] # Does D and d have different significance?\n",
        "      end for\n",
        "\n",
        "    end if\n",
        "  end if\n",
        "end for"
      ],
      "execution_count": null,
      "outputs": []
    },
    {
      "cell_type": "markdown",
      "metadata": {
        "id": "7JXo-MUf4o2H"
      },
      "source": [
        "#### Performance Evaluation"
      ]
    },
    {
      "cell_type": "code",
      "metadata": {
        "id": "t17--U9YztDl"
      },
      "source": [
        "      summation{i,j,t:S(i,j,t)=0 (|S(i, j, t) − Sˆ(i, j, t)|)} \n",
        "NE = ----------------------------------------------------------\n",
        "        summation{i,j,t:S(i,j,t)=0 (|S(i, j,t)|) }\n",
        "\n",
        "\n",
        "where, \n",
        "S(i, j, t) is the actual sensed value at voxel (i, j, t)\n",
        "Sˆ(i, j, t) is the deduced value at voxel (i, j, t). \n",
        "\n",
        "When, S(i, j, t) = 0, it means value at voxel (i, j, t) is missing (and has to be deduced)"
      ],
      "execution_count": null,
      "outputs": []
    },
    {
      "cell_type": "markdown",
      "metadata": {
        "id": "i2CMzEuT4rn1"
      },
      "source": [
        "#### Loss probability"
      ]
    },
    {
      "cell_type": "code",
      "metadata": {
        "id": "j8W2h6jZ19tJ"
      },
      "source": [
        "loss probability of 0.8 represents 80% of data is missing."
      ],
      "execution_count": null,
      "outputs": []
    },
    {
      "cell_type": "code",
      "metadata": {
        "id": "RvL2Jvg74mx1"
      },
      "source": [
        "ratioS = error(KNN-S)/(error(KNN-S)+error(KNN-T)). \n",
        "\n",
        "Here,\n",
        "error(KNN-S) and error(KNN-T) represent the error arrived\n",
        "at when KNN-S and KNN-T are applied respectively. \n",
        "\n",
        "Similarly, \n",
        "ratioT = error(KNN-T)/(error(KNN-S) + error(KNN-T)).\n"
      ],
      "execution_count": null,
      "outputs": []
    },
    {
      "cell_type": "markdown",
      "metadata": {
        "id": "_nlPlEG1_r6O"
      },
      "source": [
        "#### The higher the error ratio, the lesser the correlation"
      ]
    },
    {
      "cell_type": "code",
      "metadata": {
        "id": "_E4M3ng9_zE6"
      },
      "source": [
        "## set α = 1−ratioS since α is the weight assigned to the spatial component. "
      ],
      "execution_count": null,
      "outputs": []
    },
    {
      "cell_type": "markdown",
      "metadata": {
        "id": "oufRY9dJS4pG"
      },
      "source": [
        "### More on Federated Learning\n"
      ]
    },
    {
      "cell_type": "code",
      "metadata": {
        "colab": {
          "base_uri": "https://localhost:8080/"
        },
        "id": "goIkESrz0wSD",
        "outputId": "b1570d63-7a82-488f-d2d0-2864a14d0d93"
      },
      "source": [
        ""
      ],
      "execution_count": null,
      "outputs": [
        {
          "output_type": "stream",
          "name": "stdout",
          "text": [
            "Mounted at /content/drive\n"
          ]
        }
      ]
    },
    {
      "cell_type": "code",
      "metadata": {
        "id": "DNhUiqXTS7YJ"
      },
      "source": [
        "# What I understood is, basically the server has connection with multiple clients (say mobile devices).\n",
        "# The problem was earlier, client had to send their data (say heath data, messages typed on keyboard) to server so that a model can be built using clients data\n",
        "# Here, privacy and protection of data was at stake\n",
        "\n",
        "# Now using FL, the server will initiate a model (based on know parameters to consider) using some weights and biases.\n",
        "# The same parameters will be sent to all the clients.\n",
        "# On client devices, a model will be built using the received parameters and then train and update it accordingly. This process will occur on each client\n",
        "# Once trained, the learned weight and biases will be sent server.\n",
        "# On server, all the weights and biases will be aggregated (say using mean/average) and then that aggreated updated weights and biases will again be sent to each clients\n",
        "# The above process will be repeated until we reach a optimal weights and biases [Although in real life, as new data gets generated everyday on client devices, the process should take place regularly to serve clients with the best model]\n",
        "# Throughtout the process, clients' data never leave their place.\n",
        "\n"
      ],
      "execution_count": null,
      "outputs": []
    },
    {
      "cell_type": "code",
      "metadata": {
        "id": "HkB6xhA6bztz"
      },
      "source": [
        "## How different from Distributed Learnings?\n",
        "# Definitely different from distributed learnings. In distributed learning, all the high-end devices are generally on same network inside a restricted area.\n",
        "# Distributed learing is thus much much faster than FL. (one because FL devices are on different networks; second devices have very less processing power)"
      ],
      "execution_count": null,
      "outputs": []
    },
    {
      "cell_type": "code",
      "metadata": {
        "id": "WGsthg4KbPRU"
      },
      "source": [
        "# Details of FedAvg\n",
        "  # FedAvg Loss: aim is to minimize overall global loss \n",
        "  # f(w) = summation(k=1 to K){(n_k / n) * F_k(w)}\n",
        "  # K - number of clients\n",
        "  # F_k - Client k's loss function; this is getting calculated on each client's individual devices\n",
        "  # n_k - weighted by size of client k's dataset; devices with larger dataset will have more losses\n",
        "  # Algorithm: FederatedAveraging. The K clients are\n",
        "            # indexed by k; B is the local mini-batch size, E is the number\n",
        "            # of local epochs, and η is the learning rate.\n",
        "\n",
        "  # Server executes:\n",
        "    initialize w_0\n",
        "    for each round t = 1, 2, . . . do\n",
        "      m ← max(C · K, 1)\n",
        "      S_t ← (random set of m clients)\n",
        "    \n",
        "      for each client k ∈ S_t in parallel do\n",
        "        w^(k)_(t+1) ← ClientUpdate(k, w_t)\n",
        "      w_(t+1) ← summation(k=1 to K){(n_k/n) * w^(k)_(t+1)} #n_k - no. of training sample in each client K; n - total training samples;\n",
        "\n",
        "\n",
        "  # ClientUpdate(k, w): // Run on client k\n",
        "    B ← (split P_k into batches of size B) # what is p_K???\n",
        "    for each local epoch i from 1 to E do\n",
        "      for batch b ∈ B do\n",
        "        w ← w − η O l(w; b) # this seems the SGD process\n",
        "    \n",
        "    return w to server\n"
      ],
      "execution_count": null,
      "outputs": []
    },
    {
      "cell_type": "code",
      "metadata": {
        "id": "DOG11qdKixyn"
      },
      "source": [
        "# Improvements on FedAvg\n",
        "  # Problem with FedAvg: 1. assumption that all local devices will have 'E' epochs of SGD; as a result some devices takes longer time than others\n",
        "                      # 2. FedAvg ends up prefering devices with more data\n",
        "              \n",
        "  # 1st improvement: FedProx:\n",
        "                          # 1. adds a regularization term to penalize large change in weights\n",
        "\n",
        "  # and many more improvements are there\n"
      ],
      "execution_count": null,
      "outputs": []
    },
    {
      "cell_type": "code",
      "metadata": {
        "id": "OthrQIBykB1Y"
      },
      "source": [
        "# # Frameworks and datasets\n",
        "#   1. TensorFlow Federated: Machine Learning on Decentralized Data\n",
        "#   2. PyTorch: PySyft\n",
        "#   3. Flower: pip install flwr"
      ],
      "execution_count": null,
      "outputs": []
    },
    {
      "cell_type": "markdown",
      "metadata": {
        "id": "MrShdh54NF_7"
      },
      "source": [
        "# 20th Sept, 2021\n"
      ]
    },
    {
      "cell_type": "markdown",
      "metadata": {
        "id": "-47fc5iCKyjA"
      },
      "source": [
        "[Gradient Descent in LR](https://miro.medium.com/max/450/1*G3evFxIAlDchOx5Wl7bV5g.png)"
      ]
    },
    {
      "cell_type": "markdown",
      "metadata": {
        "id": "03TGv8PGJaeN"
      },
      "source": [
        "### Batched Gradient Descent\n",
        "*  In the batch gradient descent, to calculate the gradient of the cost function, we need to sum all training examples for each steps\n",
        "* If we have 3 millions samples (m training examples) then the gradient descent algorithm should sum 3 millions samples for every epoch. To move a single step, we have to calculate each with 3 million times!"
      ]
    },
    {
      "cell_type": "code",
      "metadata": {
        "id": "bWVu_jrTJZuu"
      },
      "source": [
        "def gradientDescent(X, y, theta, alpha, num_iters):\n",
        "    \"\"\"\n",
        "       Performs gradient descent to learn theta\n",
        "       theta: t0 (y-intercept), t1 (slope)\n",
        "    \"\"\"\n",
        "    m = y.size  # number of training examples\n",
        "\n",
        "    for i in range(num_iters):\n",
        "        y_hat = np.dot(X, theta)\n",
        "        theta = theta - alpha * (1.0/m) * np.dot(X.T, y_hat-y)\n",
        "    return theta"
      ],
      "execution_count": null,
      "outputs": []
    },
    {
      "cell_type": "markdown",
      "metadata": {
        "id": "1Ub4Em8qL42c"
      },
      "source": [
        "### Stochastic Gradient Descent (SGD)\n",
        "* In stochastic Gradient Descent, we use one example or one training sample at each iteration instead of using whole dataset to sum all for every steps\n",
        "* SGD is widely used for larger dataset trainings and computationally faster and can be trained in parallel"
      ]
    },
    {
      "cell_type": "code",
      "metadata": {
        "id": "AokRRH-rL_M_"
      },
      "source": [
        "def SGD(f, theta0, alpha, num_iters):\n",
        "    \"\"\" \n",
        "       Arguments:\n",
        "       f -- the function to optimize, it takes a single argument\n",
        "            and yield two outputs, a cost and the gradient\n",
        "            with respect to the arguments\n",
        "       theta0 -- the initial point to start SGD from\n",
        "       num_iters -- total iterations to run SGD for\n",
        "       Return:\n",
        "       theta -- the parameter value after SGD finishes\n",
        "    \"\"\"\n",
        "    start_iter = 0\n",
        "    theta= theta0\n",
        "    for iter in xrange(start_iter + 1, num_iters + 1):\n",
        "        _, grad = f(theta)\n",
        "        theta = theta - (alpha * grad) # there is NO dot product!\n",
        "    return theta"
      ],
      "execution_count": null,
      "outputs": []
    },
    {
      "cell_type": "markdown",
      "metadata": {
        "id": "Wbn_SmGJMdbj"
      },
      "source": [
        "### Mini-Batch Gradient Descent\n",
        "* It is similar like SGD, it uses n samples instead of 1 at each iteration."
      ]
    },
    {
      "cell_type": "markdown",
      "metadata": {
        "id": "0k1yqEjoo5Jh"
      },
      "source": [
        "# 22nd September, 2021\n",
        "#### Implementing the Algorithm using python code"
      ]
    },
    {
      "cell_type": "code",
      "metadata": {
        "id": "QueYu3Mpo8HJ"
      },
      "source": [
        "# Details of FedAvg\n",
        "  # FedAvg Loss: aim is to minimize overall global loss \n",
        "  # f(w) = summation(k=1 to K){(n_k / n) * F_k(w)}\n",
        "  # K - number of clients\n",
        "  # F_k - Client k's loss function; this is getting calculated on each client's individual devices\n",
        "  # n_k - weighted by size of client k's dataset; devices with larger dataset will have more losses\n",
        "  # Algorithm: FederatedAveraging. The K clients are\n",
        "            # indexed by k; B is the local mini-batch size, E is the number\n",
        "            # of local epochs, and η is the learning rate.\n",
        "\n",
        "K = 25 # as we have 25 clients\n",
        "clients = {} # dictionary\n",
        "\n",
        "# reading all the clients\n",
        "for st_code in range(101,126):\n",
        "    clients[st_code] = pd.read_csv(\"/content/drive/MyDrive/Colab Notebooks/dataNew/station_code\"+str(st_code)+\".csv\")\n",
        "\n",
        "\n",
        "\n",
        "# Server executes: \n",
        "def Server():\n",
        "  # initialize w_0\n",
        "  model = Sequential()\n",
        "\n",
        "  # model.add(Dense(64, kernel_initializer='zeros', bias_initializer='zeros', activation=tf.nn.relu, input_dim=6)) # first dense/hidden layer\n",
        "  model.add(Dense(64, kernel_initializer='he_uniform', bias_initializer=\"zeros\", activation=tf.nn.relu, input_dim=2))\n",
        "  model.add(Dropout(0.1))\n",
        "\n",
        "  model.add(Dense(64, kernel_initializer='he_uniform', bias_initializer=\"zeros\", activation=tf.nn.relu)) # second dense/hidden layer\n",
        "  model.add(Dropout(0.2))\n",
        "\n",
        "  model.add(Dense(1, kernel_initializer=init_mode, activation=tf.nn.softmax)) # output layer\n",
        "\n",
        "  # compile model\n",
        "  model.compile(loss='mse',\n",
        "            optimizer='SGD',\n",
        "            metrics=['mse'])\n",
        "  \n",
        "  # return model\n",
        "\n",
        "  # for each round t = 1, 2, . . . do\n",
        "  for t in range(1, 5):\n",
        "    C = np.random.random(1)[0]\n",
        "\n",
        "    # m ← max(C  K, 1)\n",
        "    m = max(int(C*K), 1) # m == random number of client selected\n",
        "    weight_t_plus_1 = [None] * m # matrix to store the weights of all client in each t-round\n",
        "    n_k = [None] * m # parameters for weighted sum \n",
        "\n",
        "\n",
        "    # S_t ← (random set of m clients)\n",
        "    S = {} # dictionary\n",
        "    m_clients = np.random.uniform(low=101, high=126, size=(m)).astype(int)\n",
        "    for client in m_clients:\n",
        "      S[client] = clients[client]\n",
        "    \n",
        "    initial_weights = model.get_weights() # setting initial weights; should be same for all clients\n",
        "\n",
        "    # for each client k ∈ S_t in parallel do\n",
        "    client_idx = 0\n",
        "    for client in S:\n",
        "      # w^(k)_(t+1) ← ClientUpdate(k, model)\n",
        "      n_k[client_idx] = Client(client, model) # pass by reference\n",
        "      weight_t_plus_1[client_idx] = model.get_weights()\n",
        "      client_idx += 1\n",
        "      \n",
        "      # setting weights back to initial weights\n",
        "      model.set_weights(initial_weights)\n",
        "\n",
        "    final_weights_t = np.array(weight_t_plus_1[0]) * (n_k[0]/ sum(n_k))\n",
        "\n",
        "    for idx in range(1, len(weight_t_plus_1)):\n",
        "      # w_(t+1) ← summation(k=1 to K){(n_k/n) * w^(k)_(t+1)} #n_k - no. of training sample in each client K; n - total training samples;\n",
        "      final_weights_t += np.array(weight_t_plus_1[0]) * (n_k[idx]/ sum(n_k))\n",
        "\n",
        "    # setting the aggregated weights\n",
        "    model.set_weights(final_weights_t)\n",
        "\n",
        "# -----------------------------------------------------------------------------------------------------------------------\n",
        "\n",
        "\n",
        "# ClientUpdate(k, w): // Run on client k\n",
        "def Client(client, model):\n",
        "  B ← (split P_k into batches of size B) # what is p_K???\n",
        "  for each local epoch i from 1 to E do\n",
        "    for batch b ∈ B do\n",
        "      w ← w − η O l(w; b) # this seems the SGD process\n",
        "\n",
        "   return w to server"
      ],
      "execution_count": null,
      "outputs": []
    },
    {
      "cell_type": "markdown",
      "metadata": {
        "id": "K7DMdbRUROCH"
      },
      "source": [
        "# 24th Sept, 2021"
      ]
    },
    {
      "cell_type": "code",
      "metadata": {
        "id": "W-DjpqINRRyk"
      },
      "source": [
        "# Details of FedAvg\n",
        "  # FedAvg Loss: aim is to minimize overall global loss \n",
        "  # f(w) = summation(k=1 to K){(n_k / n) * F_k(w)}\n",
        "  # K - number of clients\n",
        "  # F_k - Client k's loss function; this is getting calculated on each client's individual devices\n",
        "  # n_k - weighted by size of client k's dataset; devices with larger dataset will have more losses\n",
        "  # Algorithm: FederatedAveraging. The K clients are\n",
        "            # indexed by k; B is the local mini-batch size, E is the number\n",
        "            # of local epochs, and η is the learning rate.\n",
        "\n",
        "K = 25 # as we have 25 clients\n",
        "clients = {} # dictionary\n",
        "\n",
        "# reading all the clients\n",
        "for st_code in range(101,126):\n",
        "    clients[st_code] = pd.read_csv(\"/content/drive/MyDrive/Colab Notebooks/dataNew/station_code\"+str(st_code)+\".csv\")\n",
        "\n",
        "\n",
        "\n",
        "# Server executes: \n",
        "def Server():\n",
        "  # initialize w_0\n",
        "  model = Sequential()\n",
        "\n",
        "  # model.add(Dense(64, kernel_initializer='zeros', bias_initializer='zeros', activation=tf.nn.relu, input_dim=6)) # first dense/hidden layer\n",
        "  model.add(Dense(64, kernel_initializer='he_uniform', bias_initializer=\"zeros\", activation=tf.nn.relu, input_dim=2))\n",
        "  model.add(Dropout(0.1))\n",
        "\n",
        "  model.add(Dense(64, kernel_initializer='he_uniform', bias_initializer=\"zeros\", activation=tf.nn.relu)) # second dense/hidden layer\n",
        "  model.add(Dropout(0.2))\n",
        "\n",
        "  model.add(Dense(1, kernel_initializer=init_mode, activation=tf.nn.softmax)) # output layer\n",
        "\n",
        "  # initial_weights = model.get_weights() # setting initial weights; should be same for all clients\n",
        "\n",
        "\n",
        "  # for each round t = 1, 2, . . . do\n",
        "  for t in range(1, 5):\n",
        "    C = np.random.random(1)[0] # random number between 0 and 1.\n",
        "\n",
        "    # m ← max(C  K, 1)\n",
        "    m = max(int(C*K), 1) # m == random number of client selected\n",
        "    weight_t_plus_1 = [None] * m # matrix to store the weights of all client in each t-round\n",
        "    n_k = [None] * m # parameters for weighted sum \n",
        "\n",
        "\n",
        "    # S_t ← (random set of m clients)\n",
        "    # S = {} # dictionary\n",
        "    S_t = np.random.uniform(low=101, high=126, size=(m)).astype(int)\n",
        "\n",
        "    # No need for below loop, as server don't need access to client data, server only need clients' number\n",
        "    # for client in m_clients:\n",
        "    #   S[client] = clients[client]\n",
        "    \n",
        "    initial_weights = model.get_weights() # setting initial weights; should be same for all clients\n",
        "    # for t= 1 to T, initial_weights would be t-1th's final weights\n",
        "\n",
        "    # for each client k ∈ S_t in parallel do\n",
        "    client_idx = 0\n",
        "    for client in S_t:\n",
        "      # w^(k)_(t+1) ← ClientUpdate(k, model)\n",
        "      n_k[client_idx] = Client(client, model) # pass by reference\n",
        "      weight_t_plus_1[client_idx] = model.get_weights()\n",
        "      client_idx += 1\n",
        "      \n",
        "      # setting weights back to initial weights\n",
        "      model.set_weights(initial_weights)\n",
        "\n",
        "    # finding the weighted sum\n",
        "    final_weights_t = np.array(weight_t_plus_1[0]) * (n_k[0] / sum(n_k))\n",
        "\n",
        "    for idx in range(1, m):\n",
        "      # w_(t+1) ← summation(k=1 to K){(n_k/n) * w^(k)_(t+1)} #n_k - no. of training sample in each client K; n - total training samples;\n",
        "      final_weights_t += np.array(weight_t_plus_1[idx]) * (n_k[idx]/ sum(n_k))\n",
        "\n",
        "    # setting the aggregated weights\n",
        "    model.set_weights(final_weights_t)\n",
        "\n",
        "# -----------------------------------------------------------------------------------------------------------------------\n",
        "\n",
        "\n",
        "# ClientUpdate(k, w): // Run on client k\n",
        "def Client(client_idx, model):\n",
        "# B ← (split P_k into batches of size B) # what is p_K --> each clients' sample size\n",
        "  B = len(clients[client_idx]) / 1000 # so for each client the batch size would be different depending upon the total sample size\n",
        "  E = 30 + B # number of local epochs; it will also depend on sample size (indirectly)\n",
        "  learning_rate = 0.1 # initial learning rate\n",
        "  decay_rate = 0.1\n",
        "  momentum = 0.8\n",
        "\n",
        "  # define the optimizer function\n",
        "  sgd = SGD(lr = learning_rate, momentum = momentum, decay = decay_rate, nesterov = False)\n",
        "\n",
        "  # compile the model\n",
        "  model.compile(loss='mse', \n",
        "                optimizer=sgd, \n",
        "                metrics=['mse'])\n",
        "  \n",
        "\n",
        "# for each local epoch i from 1 to E do\n",
        "#   for batch b ∈ B do\n",
        "#     w ← w − η O l(w; b) # this seems the SGD process\n",
        "\n",
        "  # fitting the model: same as above two for loops\n",
        "  dataset = clients[client_idx]\n",
        "  X, y = \n",
        "  x_train, x_test, y_train, y_test = train_test_split(X, y, test_size = 0.1, random_state=1)\n",
        "  keras_model.fit(x_train, y_train, \n",
        "                  epochs = E, \n",
        "                  batch_size=B,\n",
        "                  validation_data=(x_test, y_test),\n",
        "                  verbose=True)\n",
        "\n",
        "  # return w to server\n",
        "  # in our case no need for any explicit return; as the model is pass by value\n",
        "  return dataset.shape[0] # this will return the number of total sample\n"
      ],
      "execution_count": null,
      "outputs": []
    },
    {
      "cell_type": "markdown",
      "metadata": {
        "id": "CvVvIjwV5Aet"
      },
      "source": [
        "# 29th Sept, 2021"
      ]
    },
    {
      "cell_type": "code",
      "metadata": {
        "colab": {
          "base_uri": "https://localhost:8080/"
        },
        "id": "OCWojUBdHU6w",
        "outputId": "d2a2efdb-8dfa-4917-cc4b-7a683967224a"
      },
      "source": [
        "!pip install keras"
      ],
      "execution_count": null,
      "outputs": [
        {
          "output_type": "stream",
          "name": "stdout",
          "text": [
            "Requirement already satisfied: keras in /usr/local/lib/python3.7/dist-packages (2.6.0)\n"
          ]
        }
      ]
    },
    {
      "cell_type": "code",
      "metadata": {
        "colab": {
          "base_uri": "https://localhost:8080/"
        },
        "id": "R9YV_H0zF4S_",
        "outputId": "4204d754-aa6e-4425-ccdc-bf4151bf9e55"
      },
      "source": [
        "!pip install tensorflow"
      ],
      "execution_count": null,
      "outputs": [
        {
          "output_type": "stream",
          "name": "stdout",
          "text": [
            "Requirement already satisfied: tensorflow in /usr/local/lib/python3.7/dist-packages (2.2.0)\n",
            "Requirement already satisfied: astunparse==1.6.3 in /usr/local/lib/python3.7/dist-packages (from tensorflow) (1.6.3)\n",
            "Requirement already satisfied: gast==0.3.3 in /usr/local/lib/python3.7/dist-packages (from tensorflow) (0.3.3)\n",
            "Requirement already satisfied: google-pasta>=0.1.8 in /usr/local/lib/python3.7/dist-packages (from tensorflow) (0.2.0)\n",
            "Requirement already satisfied: grpcio>=1.8.6 in /usr/local/lib/python3.7/dist-packages (from tensorflow) (1.40.0)\n",
            "Requirement already satisfied: scipy==1.4.1 in /usr/local/lib/python3.7/dist-packages (from tensorflow) (1.4.1)\n",
            "Requirement already satisfied: opt-einsum>=2.3.2 in /usr/local/lib/python3.7/dist-packages (from tensorflow) (3.3.0)\n",
            "Requirement already satisfied: wheel>=0.26 in /usr/local/lib/python3.7/dist-packages (from tensorflow) (0.37.0)\n",
            "Requirement already satisfied: six>=1.12.0 in /usr/local/lib/python3.7/dist-packages (from tensorflow) (1.15.0)\n",
            "Requirement already satisfied: h5py<2.11.0,>=2.10.0 in /usr/local/lib/python3.7/dist-packages (from tensorflow) (2.10.0)\n",
            "Requirement already satisfied: tensorboard<2.3.0,>=2.2.0 in /usr/local/lib/python3.7/dist-packages (from tensorflow) (2.2.2)\n",
            "Requirement already satisfied: keras-preprocessing>=1.1.0 in /usr/local/lib/python3.7/dist-packages (from tensorflow) (1.1.2)\n",
            "Requirement already satisfied: tensorflow-estimator<2.3.0,>=2.2.0 in /usr/local/lib/python3.7/dist-packages (from tensorflow) (2.2.0)\n",
            "Requirement already satisfied: numpy<2.0,>=1.16.0 in /usr/local/lib/python3.7/dist-packages (from tensorflow) (1.19.5)\n",
            "Requirement already satisfied: protobuf>=3.8.0 in /usr/local/lib/python3.7/dist-packages (from tensorflow) (3.17.3)\n",
            "Requirement already satisfied: absl-py>=0.7.0 in /usr/local/lib/python3.7/dist-packages (from tensorflow) (0.12.0)\n",
            "Requirement already satisfied: wrapt>=1.11.1 in /usr/local/lib/python3.7/dist-packages (from tensorflow) (1.12.1)\n",
            "Requirement already satisfied: termcolor>=1.1.0 in /usr/local/lib/python3.7/dist-packages (from tensorflow) (1.1.0)\n",
            "Requirement already satisfied: requests<3,>=2.21.0 in /usr/local/lib/python3.7/dist-packages (from tensorboard<2.3.0,>=2.2.0->tensorflow) (2.23.0)\n",
            "Requirement already satisfied: google-auth-oauthlib<0.5,>=0.4.1 in /usr/local/lib/python3.7/dist-packages (from tensorboard<2.3.0,>=2.2.0->tensorflow) (0.4.6)\n",
            "Requirement already satisfied: markdown>=2.6.8 in /usr/local/lib/python3.7/dist-packages (from tensorboard<2.3.0,>=2.2.0->tensorflow) (3.3.4)\n",
            "Requirement already satisfied: tensorboard-plugin-wit>=1.6.0 in /usr/local/lib/python3.7/dist-packages (from tensorboard<2.3.0,>=2.2.0->tensorflow) (1.8.0)\n",
            "Requirement already satisfied: werkzeug>=0.11.15 in /usr/local/lib/python3.7/dist-packages (from tensorboard<2.3.0,>=2.2.0->tensorflow) (1.0.1)\n",
            "Requirement already satisfied: google-auth<2,>=1.6.3 in /usr/local/lib/python3.7/dist-packages (from tensorboard<2.3.0,>=2.2.0->tensorflow) (1.35.0)\n",
            "Requirement already satisfied: setuptools>=41.0.0 in /usr/local/lib/python3.7/dist-packages (from tensorboard<2.3.0,>=2.2.0->tensorflow) (57.4.0)\n",
            "Requirement already satisfied: pyasn1-modules>=0.2.1 in /usr/local/lib/python3.7/dist-packages (from google-auth<2,>=1.6.3->tensorboard<2.3.0,>=2.2.0->tensorflow) (0.2.8)\n",
            "Requirement already satisfied: rsa<5,>=3.1.4 in /usr/local/lib/python3.7/dist-packages (from google-auth<2,>=1.6.3->tensorboard<2.3.0,>=2.2.0->tensorflow) (4.7.2)\n",
            "Requirement already satisfied: cachetools<5.0,>=2.0.0 in /usr/local/lib/python3.7/dist-packages (from google-auth<2,>=1.6.3->tensorboard<2.3.0,>=2.2.0->tensorflow) (4.2.2)\n",
            "Requirement already satisfied: requests-oauthlib>=0.7.0 in /usr/local/lib/python3.7/dist-packages (from google-auth-oauthlib<0.5,>=0.4.1->tensorboard<2.3.0,>=2.2.0->tensorflow) (1.3.0)\n",
            "Requirement already satisfied: importlib-metadata in /usr/local/lib/python3.7/dist-packages (from markdown>=2.6.8->tensorboard<2.3.0,>=2.2.0->tensorflow) (4.8.1)\n",
            "Requirement already satisfied: pyasn1<0.5.0,>=0.4.6 in /usr/local/lib/python3.7/dist-packages (from pyasn1-modules>=0.2.1->google-auth<2,>=1.6.3->tensorboard<2.3.0,>=2.2.0->tensorflow) (0.4.8)\n",
            "Requirement already satisfied: chardet<4,>=3.0.2 in /usr/local/lib/python3.7/dist-packages (from requests<3,>=2.21.0->tensorboard<2.3.0,>=2.2.0->tensorflow) (3.0.4)\n",
            "Requirement already satisfied: certifi>=2017.4.17 in /usr/local/lib/python3.7/dist-packages (from requests<3,>=2.21.0->tensorboard<2.3.0,>=2.2.0->tensorflow) (2021.5.30)\n",
            "Requirement already satisfied: urllib3!=1.25.0,!=1.25.1,<1.26,>=1.21.1 in /usr/local/lib/python3.7/dist-packages (from requests<3,>=2.21.0->tensorboard<2.3.0,>=2.2.0->tensorflow) (1.24.3)\n",
            "Requirement already satisfied: idna<3,>=2.5 in /usr/local/lib/python3.7/dist-packages (from requests<3,>=2.21.0->tensorboard<2.3.0,>=2.2.0->tensorflow) (2.10)\n",
            "Requirement already satisfied: oauthlib>=3.0.0 in /usr/local/lib/python3.7/dist-packages (from requests-oauthlib>=0.7.0->google-auth-oauthlib<0.5,>=0.4.1->tensorboard<2.3.0,>=2.2.0->tensorflow) (3.1.1)\n",
            "Requirement already satisfied: typing-extensions>=3.6.4 in /usr/local/lib/python3.7/dist-packages (from importlib-metadata->markdown>=2.6.8->tensorboard<2.3.0,>=2.2.0->tensorflow) (3.7.4.3)\n",
            "Requirement already satisfied: zipp>=0.5 in /usr/local/lib/python3.7/dist-packages (from importlib-metadata->markdown>=2.6.8->tensorboard<2.3.0,>=2.2.0->tensorflow) (3.5.0)\n"
          ]
        }
      ]
    },
    {
      "cell_type": "code",
      "metadata": {
        "colab": {
          "base_uri": "https://localhost:8080/"
        },
        "id": "212em6QbH-ev",
        "outputId": "799475b1-25e2-431b-9f19-3bd3851c9456"
      },
      "source": [
        "print(tf.__version__)\n",
        "print(tf.keras.__version__)"
      ],
      "execution_count": null,
      "outputs": [
        {
          "output_type": "stream",
          "name": "stdout",
          "text": [
            "2.2.0\n",
            "2.3.0-tf\n"
          ]
        }
      ]
    },
    {
      "cell_type": "code",
      "metadata": {
        "id": "_yh8HC4cIMKM"
      },
      "source": [
        "import tensorflow as tf"
      ],
      "execution_count": null,
      "outputs": []
    },
    {
      "cell_type": "code",
      "metadata": {
        "id": "TwbzH9KNx4_Q"
      },
      "source": [
        "from tensorflow.keras import layers\n",
        "from tensorflow.keras import initializers\n",
        "import numpy as np\n",
        "import pandas as pd\n",
        "from sklearn.model_selection import train_test_split\n",
        "\n",
        "import tensorflow as tf\n",
        "import keras\n",
        "from keras import layers\n",
        "from keras import models\n",
        "from keras import utils\n",
        "from keras.layers import Dense\n",
        "from keras.models import Sequential\n",
        "from keras.layers import Flatten\n",
        "from keras.layers import Dropout\n",
        "from keras.layers import Activation\n",
        "from keras.regularizers import l2\n",
        "from tensorflow.keras.optimizers import SGD # from keras.optimizers import SGD\n",
        "from tensorflow.keras.optimizers import RMSprop # instead of from keras.optimizers import RMSprop\n",
        "from keras import datasets\n",
        "\n",
        "from keras.callbacks import LearningRateScheduler\n",
        "from keras.callbacks import History\n",
        "\n",
        "from keras import losses\n",
        "from sklearn.utils import shuffle\n",
        "\n",
        "print(tf.__version__)\n",
        "print(tf.keras.__version__)"
      ],
      "execution_count": null,
      "outputs": []
    },
    {
      "cell_type": "code",
      "metadata": {
        "colab": {
          "base_uri": "https://localhost:8080/"
        },
        "id": "H8qYD1UjIo75",
        "outputId": "a9517ddd-abb0-41d3-a662-61c09c07a61f"
      },
      "source": [
        "from tensorflow.keras import layers\n",
        "from tensorflow.keras import initializers\n",
        "import numpy as np\n",
        "import pandas as pd\n",
        "from sklearn.model_selection import train_test_split\n",
        "\n",
        "import tensorflow as tf\n",
        "# import keras\n",
        "from tensorflow.keras import layers\n",
        "from tensorflow.keras import models\n",
        "from tensorflow.keras import utils\n",
        "from tensorflow.keras.layers import Dense\n",
        "from tensorflow.keras.models import Sequential\n",
        "from tensorflow.keras.layers import Flatten\n",
        "from tensorflow.keras.layers import Dropout\n",
        "from tensorflow.keras.layers import Activation\n",
        "from tensorflow.keras.regularizers import l2\n",
        "from tensorflow.keras.optimizers import SGD # from keras.optimizers import SGD\n",
        "from tensorflow.keras.optimizers import RMSprop # instead of from keras.optimizers import RMSprop\n",
        "# from keras import datasets\n",
        "\n",
        "# from keras.callbacks import LearningRateScheduler\n",
        "# from keras.callbacks import History\n",
        "\n",
        "from tensorflow.keras import losses\n",
        "from sklearn.utils import shuffle\n",
        "\n",
        "print(tf.__version__)\n",
        "print(tf.keras.__version__)"
      ],
      "execution_count": null,
      "outputs": [
        {
          "output_type": "stream",
          "name": "stdout",
          "text": [
            "2.2.0\n",
            "2.3.0-tf\n"
          ]
        }
      ]
    },
    {
      "cell_type": "code",
      "metadata": {
        "id": "p00oZ-Qk5HOE"
      },
      "source": [
        "# Details of FedAvg\n",
        "  # FedAvg Loss: aim is to minimize overall global loss \n",
        "  # f(w) = summation(k=1 to K){(n_k / n) * F_k(w)}\n",
        "  # K - number of clients\n",
        "  # F_k - Client k's loss function; this is getting calculated on each client's individual devices\n",
        "  # n_k - weighted by size of client k's dataset; devices with larger dataset will have more losses\n",
        "  # Algorithm: FederatedAveraging. The K clients are\n",
        "            # indexed by k; B is the local mini-batch size, E is the number\n",
        "            # of local epochs, and η is the learning rate.\n",
        "\n",
        "K = 25 # as we have 25 clients\n",
        "clients = {} # dictionary\n",
        "\n",
        "# reading all the clients\n",
        "for st_code in range(101,126):\n",
        "    clients[st_code] = pd.read_csv(\"/content/drive/MyDrive/Colab Notebooks/dataNew/station_code\"+str(st_code)+\".csv\", index_col = 0)\n"
      ],
      "execution_count": null,
      "outputs": []
    },
    {
      "cell_type": "code",
      "metadata": {
        "colab": {
          "base_uri": "https://localhost:8080/"
        },
        "id": "IDanqfTg6RMd",
        "outputId": "9aa4273b-fe5a-480c-a281-2e61c2a992e2"
      },
      "source": [
        "4//2\n"
      ],
      "execution_count": null,
      "outputs": [
        {
          "output_type": "execute_result",
          "data": {
            "text/plain": [
              "2"
            ]
          },
          "metadata": {},
          "execution_count": 2
        }
      ]
    },
    {
      "cell_type": "code",
      "metadata": {
        "colab": {
          "base_uri": "https://localhost:8080/"
        },
        "id": "SU3e68dW_CFB",
        "outputId": "4cdbeddc-5b85-49fc-beee-bcc79ada4e99"
      },
      "source": [
        "# import pandas as pd\n",
        "# df = pd.DataFrame({'datetime':pd.date_range('2020-01-01 07:00',periods=6)})\n",
        "# print(\"DataFrame is:\\n\", df)\n",
        "# for d in df['datetime']:\n",
        "#    df['date'] = d.date()\n",
        "#    df['time'] = d.time()\n",
        "# print(df)"
      ],
      "execution_count": null,
      "outputs": [
        {
          "output_type": "stream",
          "name": "stdout",
          "text": [
            "DataFrame is:\n",
            "              datetime\n",
            "0 2020-01-01 07:00:00\n",
            "1 2020-01-02 07:00:00\n",
            "2 2020-01-03 07:00:00\n",
            "3 2020-01-04 07:00:00\n",
            "4 2020-01-05 07:00:00\n",
            "5 2020-01-06 07:00:00\n",
            "             datetime        date      time\n",
            "0 2020-01-01 07:00:00  2020-01-06  07:00:00\n",
            "1 2020-01-02 07:00:00  2020-01-06  07:00:00\n",
            "2 2020-01-03 07:00:00  2020-01-06  07:00:00\n",
            "3 2020-01-04 07:00:00  2020-01-06  07:00:00\n",
            "4 2020-01-05 07:00:00  2020-01-06  07:00:00\n",
            "5 2020-01-06 07:00:00  2020-01-06  07:00:00\n"
          ]
        }
      ]
    },
    {
      "cell_type": "code",
      "metadata": {
        "id": "YA-3FZ4O-qVr"
      },
      "source": [
        "# Updating time column\n",
        "for station_id in range(101,126):\n",
        "  clients[station_id]['Measurement date'] = pd.to_datetime(clients[station_id]['Measurement date']) #changing the data type of column\n",
        "  for dt in clients[station_id]['Measurement date']:\n",
        "    clients[station_id]['date'], clients[station_id]['time'] = dt.date(), dt.time()"
      ],
      "execution_count": null,
      "outputs": []
    },
    {
      "cell_type": "code",
      "metadata": {
        "colab": {
          "base_uri": "https://localhost:8080/",
          "height": 306
        },
        "id": "wMVOeiOa5hAq",
        "outputId": "69ba1246-df24-4abb-da28-6b0f0ecccbc4"
      },
      "source": [
        "clients[101].head()"
      ],
      "execution_count": null,
      "outputs": [
        {
          "output_type": "execute_result",
          "data": {
            "text/html": [
              "<div>\n",
              "<style scoped>\n",
              "    .dataframe tbody tr th:only-of-type {\n",
              "        vertical-align: middle;\n",
              "    }\n",
              "\n",
              "    .dataframe tbody tr th {\n",
              "        vertical-align: top;\n",
              "    }\n",
              "\n",
              "    .dataframe thead th {\n",
              "        text-align: right;\n",
              "    }\n",
              "</style>\n",
              "<table border=\"1\" class=\"dataframe\">\n",
              "  <thead>\n",
              "    <tr style=\"text-align: right;\">\n",
              "      <th></th>\n",
              "      <th>Measurement date</th>\n",
              "      <th>Station code</th>\n",
              "      <th>Address</th>\n",
              "      <th>Latitude</th>\n",
              "      <th>Longitude</th>\n",
              "      <th>SO2</th>\n",
              "      <th>NO2</th>\n",
              "      <th>O3</th>\n",
              "      <th>CO</th>\n",
              "      <th>PM10</th>\n",
              "      <th>PM2.5</th>\n",
              "      <th>date</th>\n",
              "      <th>time</th>\n",
              "      <th>day</th>\n",
              "      <th>month</th>\n",
              "      <th>year</th>\n",
              "    </tr>\n",
              "  </thead>\n",
              "  <tbody>\n",
              "    <tr>\n",
              "      <th>0</th>\n",
              "      <td>2017-01-01 00:00:00</td>\n",
              "      <td>101</td>\n",
              "      <td>19, Jong-ro 35ga-gil, Jongno-gu, Seoul, Republ...</td>\n",
              "      <td>37.572016</td>\n",
              "      <td>127.005007</td>\n",
              "      <td>0.004</td>\n",
              "      <td>0.059</td>\n",
              "      <td>0.002</td>\n",
              "      <td>1.2</td>\n",
              "      <td>73.0</td>\n",
              "      <td>57.0</td>\n",
              "      <td>2019-12-31</td>\n",
              "      <td>23:00:00</td>\n",
              "      <td>1</td>\n",
              "      <td>1</td>\n",
              "      <td>2017</td>\n",
              "    </tr>\n",
              "    <tr>\n",
              "      <th>1</th>\n",
              "      <td>2017-01-01 01:00:00</td>\n",
              "      <td>101</td>\n",
              "      <td>19, Jong-ro 35ga-gil, Jongno-gu, Seoul, Republ...</td>\n",
              "      <td>37.572016</td>\n",
              "      <td>127.005007</td>\n",
              "      <td>0.004</td>\n",
              "      <td>0.058</td>\n",
              "      <td>0.002</td>\n",
              "      <td>1.2</td>\n",
              "      <td>71.0</td>\n",
              "      <td>59.0</td>\n",
              "      <td>2019-12-31</td>\n",
              "      <td>23:00:00</td>\n",
              "      <td>1</td>\n",
              "      <td>1</td>\n",
              "      <td>2017</td>\n",
              "    </tr>\n",
              "    <tr>\n",
              "      <th>2</th>\n",
              "      <td>2017-01-01 02:00:00</td>\n",
              "      <td>101</td>\n",
              "      <td>19, Jong-ro 35ga-gil, Jongno-gu, Seoul, Republ...</td>\n",
              "      <td>37.572016</td>\n",
              "      <td>127.005007</td>\n",
              "      <td>0.004</td>\n",
              "      <td>0.056</td>\n",
              "      <td>0.002</td>\n",
              "      <td>1.2</td>\n",
              "      <td>70.0</td>\n",
              "      <td>59.0</td>\n",
              "      <td>2019-12-31</td>\n",
              "      <td>23:00:00</td>\n",
              "      <td>1</td>\n",
              "      <td>1</td>\n",
              "      <td>2017</td>\n",
              "    </tr>\n",
              "    <tr>\n",
              "      <th>3</th>\n",
              "      <td>2017-01-01 03:00:00</td>\n",
              "      <td>101</td>\n",
              "      <td>19, Jong-ro 35ga-gil, Jongno-gu, Seoul, Republ...</td>\n",
              "      <td>37.572016</td>\n",
              "      <td>127.005007</td>\n",
              "      <td>0.004</td>\n",
              "      <td>0.056</td>\n",
              "      <td>0.002</td>\n",
              "      <td>1.2</td>\n",
              "      <td>70.0</td>\n",
              "      <td>58.0</td>\n",
              "      <td>2019-12-31</td>\n",
              "      <td>23:00:00</td>\n",
              "      <td>1</td>\n",
              "      <td>1</td>\n",
              "      <td>2017</td>\n",
              "    </tr>\n",
              "    <tr>\n",
              "      <th>4</th>\n",
              "      <td>2017-01-01 04:00:00</td>\n",
              "      <td>101</td>\n",
              "      <td>19, Jong-ro 35ga-gil, Jongno-gu, Seoul, Republ...</td>\n",
              "      <td>37.572016</td>\n",
              "      <td>127.005007</td>\n",
              "      <td>0.003</td>\n",
              "      <td>0.051</td>\n",
              "      <td>0.002</td>\n",
              "      <td>1.2</td>\n",
              "      <td>69.0</td>\n",
              "      <td>61.0</td>\n",
              "      <td>2019-12-31</td>\n",
              "      <td>23:00:00</td>\n",
              "      <td>1</td>\n",
              "      <td>1</td>\n",
              "      <td>2017</td>\n",
              "    </tr>\n",
              "  </tbody>\n",
              "</table>\n",
              "</div>"
            ],
            "text/plain": [
              "     Measurement date  Station code  ... month  year\n",
              "0 2017-01-01 00:00:00           101  ...     1  2017\n",
              "1 2017-01-01 01:00:00           101  ...     1  2017\n",
              "2 2017-01-01 02:00:00           101  ...     1  2017\n",
              "3 2017-01-01 03:00:00           101  ...     1  2017\n",
              "4 2017-01-01 04:00:00           101  ...     1  2017\n",
              "\n",
              "[5 rows x 16 columns]"
            ]
          },
          "metadata": {},
          "execution_count": 46
        }
      ]
    },
    {
      "cell_type": "code",
      "metadata": {
        "colab": {
          "base_uri": "https://localhost:8080/"
        },
        "id": "PKDm8GjQ6U1U",
        "outputId": "f3ed32d3-3520-4509-e4ec-317d353b78ca"
      },
      "source": [
        "clients[101].columns"
      ],
      "execution_count": null,
      "outputs": [
        {
          "output_type": "execute_result",
          "data": {
            "text/plain": [
              "Index(['Measurement date', 'Station code', 'Address', 'Latitude', 'Longitude',\n",
              "       'SO2', 'NO2', 'O3', 'CO', 'PM10', 'PM2.5', 'date', 'time', 'day',\n",
              "       'month', 'year'],\n",
              "      dtype='object')"
            ]
          },
          "metadata": {},
          "execution_count": 9
        }
      ]
    },
    {
      "cell_type": "code",
      "metadata": {
        "colab": {
          "base_uri": "https://localhost:8080/"
        },
        "id": "gjpBpzc47tpH",
        "outputId": "9451b49e-1985-4207-e061-2899c980ee43"
      },
      "source": [
        "clients[101].info()"
      ],
      "execution_count": null,
      "outputs": [
        {
          "output_type": "stream",
          "name": "stdout",
          "text": [
            "<class 'pandas.core.frame.DataFrame'>\n",
            "Int64Index: 25905 entries, 0 to 25904\n",
            "Data columns (total 16 columns):\n",
            " #   Column            Non-Null Count  Dtype         \n",
            "---  ------            --------------  -----         \n",
            " 0   Measurement date  25905 non-null  datetime64[ns]\n",
            " 1   Station code      25905 non-null  int64         \n",
            " 2   Address           25905 non-null  object        \n",
            " 3   Latitude          25905 non-null  float64       \n",
            " 4   Longitude         25905 non-null  float64       \n",
            " 5   SO2               25905 non-null  float64       \n",
            " 6   NO2               25905 non-null  float64       \n",
            " 7   O3                25905 non-null  float64       \n",
            " 8   CO                25905 non-null  float64       \n",
            " 9   PM10              25905 non-null  float64       \n",
            " 10  PM2.5             25905 non-null  float64       \n",
            " 11  date              25905 non-null  object        \n",
            " 12  time              25905 non-null  object        \n",
            " 13  day               25905 non-null  int64         \n",
            " 14  month             25905 non-null  int64         \n",
            " 15  year              25905 non-null  int64         \n",
            "dtypes: datetime64[ns](1), float64(8), int64(4), object(3)\n",
            "memory usage: 3.4+ MB\n"
          ]
        }
      ]
    },
    {
      "cell_type": "code",
      "metadata": {
        "id": "1jcFFQn157jC"
      },
      "source": [
        "# taking required featuring and dropping rest\n",
        "for station_id in range(101,126):\n",
        "  clients[station_id] = clients[station_id][['Latitude', 'Longitude','day', 'month', 'year','CO']].copy()"
      ],
      "execution_count": null,
      "outputs": []
    },
    {
      "cell_type": "code",
      "metadata": {
        "colab": {
          "base_uri": "https://localhost:8080/"
        },
        "id": "eiyUXIeW9W3D",
        "outputId": "e0aebc73-e3e2-481d-ade9-b18554c23ebe"
      },
      "source": [
        "t = pd.to_datetime(\"2017-04-21 05:00\")\n",
        "type(t.month)\n",
        "# t.day\n",
        "# type(t.year)\n",
        "# t.time()"
      ],
      "execution_count": null,
      "outputs": [
        {
          "output_type": "execute_result",
          "data": {
            "text/plain": [
              "int"
            ]
          },
          "metadata": {},
          "execution_count": 49
        }
      ]
    },
    {
      "cell_type": "code",
      "metadata": {
        "colab": {
          "base_uri": "https://localhost:8080/",
          "height": 419
        },
        "id": "weiHreju7P5S",
        "outputId": "40564bcd-9c2b-451d-c238-2685033e0d18"
      },
      "source": [
        "clients[101]"
      ],
      "execution_count": null,
      "outputs": [
        {
          "output_type": "execute_result",
          "data": {
            "text/html": [
              "<div>\n",
              "<style scoped>\n",
              "    .dataframe tbody tr th:only-of-type {\n",
              "        vertical-align: middle;\n",
              "    }\n",
              "\n",
              "    .dataframe tbody tr th {\n",
              "        vertical-align: top;\n",
              "    }\n",
              "\n",
              "    .dataframe thead th {\n",
              "        text-align: right;\n",
              "    }\n",
              "</style>\n",
              "<table border=\"1\" class=\"dataframe\">\n",
              "  <thead>\n",
              "    <tr style=\"text-align: right;\">\n",
              "      <th></th>\n",
              "      <th>Latitude</th>\n",
              "      <th>Longitude</th>\n",
              "      <th>time</th>\n",
              "      <th>date</th>\n",
              "      <th>CO</th>\n",
              "    </tr>\n",
              "  </thead>\n",
              "  <tbody>\n",
              "    <tr>\n",
              "      <th>0</th>\n",
              "      <td>37.572016</td>\n",
              "      <td>127.005007</td>\n",
              "      <td>23:00:00</td>\n",
              "      <td>2019-12-31</td>\n",
              "      <td>1.2</td>\n",
              "    </tr>\n",
              "    <tr>\n",
              "      <th>1</th>\n",
              "      <td>37.572016</td>\n",
              "      <td>127.005007</td>\n",
              "      <td>23:00:00</td>\n",
              "      <td>2019-12-31</td>\n",
              "      <td>1.2</td>\n",
              "    </tr>\n",
              "    <tr>\n",
              "      <th>2</th>\n",
              "      <td>37.572016</td>\n",
              "      <td>127.005007</td>\n",
              "      <td>23:00:00</td>\n",
              "      <td>2019-12-31</td>\n",
              "      <td>1.2</td>\n",
              "    </tr>\n",
              "    <tr>\n",
              "      <th>3</th>\n",
              "      <td>37.572016</td>\n",
              "      <td>127.005007</td>\n",
              "      <td>23:00:00</td>\n",
              "      <td>2019-12-31</td>\n",
              "      <td>1.2</td>\n",
              "    </tr>\n",
              "    <tr>\n",
              "      <th>4</th>\n",
              "      <td>37.572016</td>\n",
              "      <td>127.005007</td>\n",
              "      <td>23:00:00</td>\n",
              "      <td>2019-12-31</td>\n",
              "      <td>1.2</td>\n",
              "    </tr>\n",
              "    <tr>\n",
              "      <th>...</th>\n",
              "      <td>...</td>\n",
              "      <td>...</td>\n",
              "      <td>...</td>\n",
              "      <td>...</td>\n",
              "      <td>...</td>\n",
              "    </tr>\n",
              "    <tr>\n",
              "      <th>25900</th>\n",
              "      <td>37.572016</td>\n",
              "      <td>127.005007</td>\n",
              "      <td>23:00:00</td>\n",
              "      <td>2019-12-31</td>\n",
              "      <td>0.5</td>\n",
              "    </tr>\n",
              "    <tr>\n",
              "      <th>25901</th>\n",
              "      <td>37.572016</td>\n",
              "      <td>127.005007</td>\n",
              "      <td>23:00:00</td>\n",
              "      <td>2019-12-31</td>\n",
              "      <td>0.4</td>\n",
              "    </tr>\n",
              "    <tr>\n",
              "      <th>25902</th>\n",
              "      <td>37.572016</td>\n",
              "      <td>127.005007</td>\n",
              "      <td>23:00:00</td>\n",
              "      <td>2019-12-31</td>\n",
              "      <td>0.4</td>\n",
              "    </tr>\n",
              "    <tr>\n",
              "      <th>25903</th>\n",
              "      <td>37.572016</td>\n",
              "      <td>127.005007</td>\n",
              "      <td>23:00:00</td>\n",
              "      <td>2019-12-31</td>\n",
              "      <td>0.5</td>\n",
              "    </tr>\n",
              "    <tr>\n",
              "      <th>25904</th>\n",
              "      <td>37.572016</td>\n",
              "      <td>127.005007</td>\n",
              "      <td>23:00:00</td>\n",
              "      <td>2019-12-31</td>\n",
              "      <td>0.5</td>\n",
              "    </tr>\n",
              "  </tbody>\n",
              "</table>\n",
              "<p>25905 rows × 5 columns</p>\n",
              "</div>"
            ],
            "text/plain": [
              "        Latitude   Longitude      time        date   CO\n",
              "0      37.572016  127.005007  23:00:00  2019-12-31  1.2\n",
              "1      37.572016  127.005007  23:00:00  2019-12-31  1.2\n",
              "2      37.572016  127.005007  23:00:00  2019-12-31  1.2\n",
              "3      37.572016  127.005007  23:00:00  2019-12-31  1.2\n",
              "4      37.572016  127.005007  23:00:00  2019-12-31  1.2\n",
              "...          ...         ...       ...         ...  ...\n",
              "25900  37.572016  127.005007  23:00:00  2019-12-31  0.5\n",
              "25901  37.572016  127.005007  23:00:00  2019-12-31  0.4\n",
              "25902  37.572016  127.005007  23:00:00  2019-12-31  0.4\n",
              "25903  37.572016  127.005007  23:00:00  2019-12-31  0.5\n",
              "25904  37.572016  127.005007  23:00:00  2019-12-31  0.5\n",
              "\n",
              "[25905 rows x 5 columns]"
            ]
          },
          "metadata": {},
          "execution_count": 50
        }
      ]
    },
    {
      "cell_type": "code",
      "metadata": {
        "id": "5Qupnipw5C8m"
      },
      "source": [
        "# ClientUpdate(k, w): // Run on client k\n",
        "def Client(client_idx, model):\n",
        "# B ← (split P_k into batches of size B) # what is p_K --> each clients' sample size\n",
        "  B = len(clients[client_idx]) / 1000 # so for each client the batch size would be different depending upon the total sample size\n",
        "  E = 30 + B # number of local epochs; it will also depend on sample size (indirectly)\n",
        "  learning_rate = 0.1 # initial learning rate\n",
        "  decay_rate = 0.1\n",
        "  momentum = 0.8\n",
        "\n",
        "  # define the optimizer function\n",
        "  sgd = SGD(lr = learning_rate, momentum = momentum, decay = decay_rate, nesterov = False)\n",
        "\n",
        "  # compile the model\n",
        "  model.compile(loss='mse', \n",
        "                optimizer=sgd, \n",
        "                metrics=['mse'])\n",
        "  \n",
        "\n",
        "# for each local epoch i from 1 to E do\n",
        "#   for batch b ∈ B do\n",
        "#     w ← w − η O l(w; b) # this seems the SGD process\n",
        "\n",
        "  # fitting the model: same as above two for loops\n",
        "  dataset = clients[client_idx]\n",
        "  X, y = dataset[['Latitude', 'Longitude','day', 'month', 'year']].copy(),  dataset['CO']\n",
        "\n",
        "  x_train, x_test, y_train, y_test = train_test_split(X, y, test_size = 0.1, random_state=1)\n",
        "\n",
        "  model.fit(x_train, y_train, \n",
        "                  epochs = E, \n",
        "                  batch_size=B,\n",
        "                  validation_data=(x_test, y_test),\n",
        "                  verbose=True)\n",
        "\n",
        "  # return w to server\n",
        "  # in our case no need for any explicit return; as the model is pass by value\n",
        "  return dataset.shape[0] # this will return the number of total sample\n"
      ],
      "execution_count": null,
      "outputs": []
    },
    {
      "cell_type": "code",
      "metadata": {
        "id": "Dzusaow2CDN4"
      },
      "source": [
        "# Server executes: \n",
        "def Server():\n",
        "  # initialize w_0\n",
        "  model = Sequential()\n",
        "\n",
        "  # model.add(Dense(64, kernel_initializer='zeros', bias_initializer='zeros', activation=tf.nn.relu, input_dim=6)) # first dense/hidden layer\n",
        "  model.add(Dense(64, kernel_initializer='he_uniform', bias_initializer=\"zeros\", activation=tf.nn.relu, input_dim=2))\n",
        "  model.add(Dropout(0.1))\n",
        "\n",
        "  model.add(Dense(64, kernel_initializer='he_uniform', bias_initializer=\"zeros\", activation=tf.nn.relu)) # second dense/hidden layer\n",
        "  model.add(Dropout(0.2))\n",
        "\n",
        "  model.add(Dense(1, kernel_initializer= 'he_uniform', activation=tf.nn.softmax)) # output layer\n",
        "\n",
        "  # initial_weights = model.get_weights() # setting initial weights; should be same for all clients\n",
        "\n",
        "\n",
        "  # for each round t = 1, 2, . . . do\n",
        "  for t in range(1, 5):\n",
        "    C = np.random.random(1)[0] # random number between 0 and 1.\n",
        "\n",
        "    # m ← max(C  K, 1)\n",
        "    m = max(int(C*K), 1) # m == random number of client selected\n",
        "    weight_t_plus_1 = [None] * m # matrix to store the weights of all client in each t-round\n",
        "    n_k = [None] * m # parameters for weighted sum \n",
        "\n",
        "\n",
        "    # S_t ← (random set of m clients)\n",
        "    # S = {} # dictionary\n",
        "    S_t = np.random.uniform(low=101, high=126, size=(m)).astype(int)\n",
        "\n",
        "    # No need for below loop, as server don't need access to client data, server only need clients' number\n",
        "    # for client in m_clients:\n",
        "    #   S[client] = clients[client]\n",
        "    \n",
        "    initial_weights = model.get_weights() # setting initial weights; should be same for all clients\n",
        "    # for t= 1 to T, initial_weights would be t-1th's final weights\n",
        "\n",
        "    # for each client k ∈ S_t in parallel do\n",
        "    client_idx = 0\n",
        "    for client in S_t:\n",
        "      # w^(k)_(t+1) ← ClientUpdate(k, model)\n",
        "      n_k[client_idx] = Client(client, model) # pass by reference\n",
        "      weight_t_plus_1[client_idx] = model.get_weights()\n",
        "      client_idx += 1\n",
        "      \n",
        "      # setting weights back to initial weights\n",
        "      model.set_weights(initial_weights)\n",
        "\n",
        "    # finding the weighted sum\n",
        "    final_weights_t = np.array(weight_t_plus_1[0]) * (n_k[0] / sum(n_k))\n",
        "\n",
        "    for idx in range(1, m):\n",
        "      # w_(t+1) ← summation(k=1 to K){(n_k/n) * w^(k)_(t+1)} #n_k - no. of training sample in each client K; n - total training samples;\n",
        "      final_weights_t += np.array(weight_t_plus_1[idx]) * (n_k[idx]/ sum(n_k))\n",
        "\n",
        "    # setting the aggregated weights\n",
        "    model.set_weights(final_weights_t)\n",
        "\n",
        "  print(model.get_weights())"
      ],
      "execution_count": null,
      "outputs": []
    },
    {
      "cell_type": "code",
      "metadata": {
        "colab": {
          "base_uri": "https://localhost:8080/",
          "height": 340
        },
        "id": "a5VgIsXuD3ZJ",
        "outputId": "e175b940-7f9b-4605-dbd7-3148da055226"
      },
      "source": [
        "Server()"
      ],
      "execution_count": null,
      "outputs": [
        {
          "output_type": "stream",
          "name": "stderr",
          "text": [
            "/usr/local/lib/python3.7/dist-packages/keras/optimizer_v2/optimizer_v2.py:356: UserWarning: The `lr` argument is deprecated, use `learning_rate` instead.\n",
            "  \"The `lr` argument is deprecated, use `learning_rate` instead.\")\n"
          ]
        },
        {
          "output_type": "error",
          "ename": "TypeError",
          "evalue": "ignored",
          "traceback": [
            "\u001b[0;31m---------------------------------------------------------------------------\u001b[0m",
            "\u001b[0;31mTypeError\u001b[0m                                 Traceback (most recent call last)",
            "\u001b[0;32m<ipython-input-70-ea80530cd932>\u001b[0m in \u001b[0;36m<module>\u001b[0;34m()\u001b[0m\n\u001b[0;32m----> 1\u001b[0;31m \u001b[0mServer\u001b[0m\u001b[0;34m(\u001b[0m\u001b[0;34m)\u001b[0m\u001b[0;34m\u001b[0m\u001b[0;34m\u001b[0m\u001b[0m\n\u001b[0m",
            "\u001b[0;32m<ipython-input-69-fe6b2f8c59e8>\u001b[0m in \u001b[0;36mServer\u001b[0;34m()\u001b[0m\n\u001b[1;32m     41\u001b[0m     \u001b[0;32mfor\u001b[0m \u001b[0mclient\u001b[0m \u001b[0;32min\u001b[0m \u001b[0mS_t\u001b[0m\u001b[0;34m:\u001b[0m\u001b[0;34m\u001b[0m\u001b[0;34m\u001b[0m\u001b[0m\n\u001b[1;32m     42\u001b[0m       \u001b[0;31m# w^(k)_(t+1) ← ClientUpdate(k, model)\u001b[0m\u001b[0;34m\u001b[0m\u001b[0;34m\u001b[0m\u001b[0;34m\u001b[0m\u001b[0m\n\u001b[0;32m---> 43\u001b[0;31m       \u001b[0mn_k\u001b[0m\u001b[0;34m[\u001b[0m\u001b[0mclient_idx\u001b[0m\u001b[0;34m]\u001b[0m \u001b[0;34m=\u001b[0m \u001b[0mClient\u001b[0m\u001b[0;34m(\u001b[0m\u001b[0mclient\u001b[0m\u001b[0;34m,\u001b[0m \u001b[0mmodel\u001b[0m\u001b[0;34m)\u001b[0m \u001b[0;31m# pass by reference\u001b[0m\u001b[0;34m\u001b[0m\u001b[0;34m\u001b[0m\u001b[0m\n\u001b[0m\u001b[1;32m     44\u001b[0m       \u001b[0mweight_t_plus_1\u001b[0m\u001b[0;34m[\u001b[0m\u001b[0mclient_idx\u001b[0m\u001b[0;34m]\u001b[0m \u001b[0;34m=\u001b[0m \u001b[0mmodel\u001b[0m\u001b[0;34m.\u001b[0m\u001b[0mget_weights\u001b[0m\u001b[0;34m(\u001b[0m\u001b[0;34m)\u001b[0m\u001b[0;34m\u001b[0m\u001b[0;34m\u001b[0m\u001b[0m\n\u001b[1;32m     45\u001b[0m       \u001b[0mclient_idx\u001b[0m \u001b[0;34m+=\u001b[0m \u001b[0;36m1\u001b[0m\u001b[0;34m\u001b[0m\u001b[0;34m\u001b[0m\u001b[0m\n",
            "\u001b[0;32m<ipython-input-68-7d15f1f5bb57>\u001b[0m in \u001b[0;36mClient\u001b[0;34m(client_idx, model)\u001b[0m\n\u001b[1;32m     31\u001b[0m                   \u001b[0mbatch_size\u001b[0m\u001b[0;34m=\u001b[0m\u001b[0mB\u001b[0m\u001b[0;34m,\u001b[0m\u001b[0;34m\u001b[0m\u001b[0;34m\u001b[0m\u001b[0m\n\u001b[1;32m     32\u001b[0m                   \u001b[0mvalidation_data\u001b[0m\u001b[0;34m=\u001b[0m\u001b[0;34m(\u001b[0m\u001b[0mx_test\u001b[0m\u001b[0;34m,\u001b[0m \u001b[0my_test\u001b[0m\u001b[0;34m)\u001b[0m\u001b[0;34m,\u001b[0m\u001b[0;34m\u001b[0m\u001b[0;34m\u001b[0m\u001b[0m\n\u001b[0;32m---> 33\u001b[0;31m                   verbose=True)\n\u001b[0m\u001b[1;32m     34\u001b[0m \u001b[0;34m\u001b[0m\u001b[0m\n\u001b[1;32m     35\u001b[0m   \u001b[0;31m# return w to server\u001b[0m\u001b[0;34m\u001b[0m\u001b[0;34m\u001b[0m\u001b[0;34m\u001b[0m\u001b[0m\n",
            "\u001b[0;32m/usr/local/lib/python3.7/dist-packages/keras/engine/training.py\u001b[0m in \u001b[0;36mfit\u001b[0;34m(self, x, y, batch_size, epochs, verbose, callbacks, validation_split, validation_data, shuffle, class_weight, sample_weight, initial_epoch, steps_per_epoch, validation_steps, validation_batch_size, validation_freq, max_queue_size, workers, use_multiprocessing)\u001b[0m\n\u001b[1;32m   1146\u001b[0m           \u001b[0muse_multiprocessing\u001b[0m\u001b[0;34m=\u001b[0m\u001b[0muse_multiprocessing\u001b[0m\u001b[0;34m,\u001b[0m\u001b[0;34m\u001b[0m\u001b[0;34m\u001b[0m\u001b[0m\n\u001b[1;32m   1147\u001b[0m           \u001b[0mmodel\u001b[0m\u001b[0;34m=\u001b[0m\u001b[0mself\u001b[0m\u001b[0;34m,\u001b[0m\u001b[0;34m\u001b[0m\u001b[0;34m\u001b[0m\u001b[0m\n\u001b[0;32m-> 1148\u001b[0;31m           steps_per_execution=self._steps_per_execution)\n\u001b[0m\u001b[1;32m   1149\u001b[0m \u001b[0;34m\u001b[0m\u001b[0m\n\u001b[1;32m   1150\u001b[0m       \u001b[0;31m# Container that configures and calls `tf.keras.Callback`s.\u001b[0m\u001b[0;34m\u001b[0m\u001b[0;34m\u001b[0m\u001b[0;34m\u001b[0m\u001b[0m\n",
            "\u001b[0;32m/usr/local/lib/python3.7/dist-packages/keras/engine/data_adapter.py\u001b[0m in \u001b[0;36mget_data_handler\u001b[0;34m(*args, **kwargs)\u001b[0m\n\u001b[1;32m   1381\u001b[0m   \u001b[0;32mif\u001b[0m \u001b[0mgetattr\u001b[0m\u001b[0;34m(\u001b[0m\u001b[0mkwargs\u001b[0m\u001b[0;34m[\u001b[0m\u001b[0;34m\"model\"\u001b[0m\u001b[0;34m]\u001b[0m\u001b[0;34m,\u001b[0m \u001b[0;34m\"_cluster_coordinator\"\u001b[0m\u001b[0;34m,\u001b[0m \u001b[0;32mNone\u001b[0m\u001b[0;34m)\u001b[0m\u001b[0;34m:\u001b[0m\u001b[0;34m\u001b[0m\u001b[0;34m\u001b[0m\u001b[0m\n\u001b[1;32m   1382\u001b[0m     \u001b[0;32mreturn\u001b[0m \u001b[0m_ClusterCoordinatorDataHandler\u001b[0m\u001b[0;34m(\u001b[0m\u001b[0;34m*\u001b[0m\u001b[0margs\u001b[0m\u001b[0;34m,\u001b[0m \u001b[0;34m**\u001b[0m\u001b[0mkwargs\u001b[0m\u001b[0;34m)\u001b[0m\u001b[0;34m\u001b[0m\u001b[0;34m\u001b[0m\u001b[0m\n\u001b[0;32m-> 1383\u001b[0;31m   \u001b[0;32mreturn\u001b[0m \u001b[0mDataHandler\u001b[0m\u001b[0;34m(\u001b[0m\u001b[0;34m*\u001b[0m\u001b[0margs\u001b[0m\u001b[0;34m,\u001b[0m \u001b[0;34m**\u001b[0m\u001b[0mkwargs\u001b[0m\u001b[0;34m)\u001b[0m\u001b[0;34m\u001b[0m\u001b[0;34m\u001b[0m\u001b[0m\n\u001b[0m\u001b[1;32m   1384\u001b[0m \u001b[0;34m\u001b[0m\u001b[0m\n\u001b[1;32m   1385\u001b[0m \u001b[0;34m\u001b[0m\u001b[0m\n",
            "\u001b[0;32m/usr/local/lib/python3.7/dist-packages/keras/engine/data_adapter.py\u001b[0m in \u001b[0;36m__init__\u001b[0;34m(self, x, y, sample_weight, batch_size, steps_per_epoch, initial_epoch, epochs, shuffle, class_weight, max_queue_size, workers, use_multiprocessing, model, steps_per_execution, distribute)\u001b[0m\n\u001b[1;32m   1148\u001b[0m         \u001b[0muse_multiprocessing\u001b[0m\u001b[0;34m=\u001b[0m\u001b[0muse_multiprocessing\u001b[0m\u001b[0;34m,\u001b[0m\u001b[0;34m\u001b[0m\u001b[0;34m\u001b[0m\u001b[0m\n\u001b[1;32m   1149\u001b[0m         \u001b[0mdistribution_strategy\u001b[0m\u001b[0;34m=\u001b[0m\u001b[0mtf\u001b[0m\u001b[0;34m.\u001b[0m\u001b[0mdistribute\u001b[0m\u001b[0;34m.\u001b[0m\u001b[0mget_strategy\u001b[0m\u001b[0;34m(\u001b[0m\u001b[0;34m)\u001b[0m\u001b[0;34m,\u001b[0m\u001b[0;34m\u001b[0m\u001b[0;34m\u001b[0m\u001b[0m\n\u001b[0;32m-> 1150\u001b[0;31m         model=model)\n\u001b[0m\u001b[1;32m   1151\u001b[0m \u001b[0;34m\u001b[0m\u001b[0m\n\u001b[1;32m   1152\u001b[0m     \u001b[0mstrategy\u001b[0m \u001b[0;34m=\u001b[0m \u001b[0mtf\u001b[0m\u001b[0;34m.\u001b[0m\u001b[0mdistribute\u001b[0m\u001b[0;34m.\u001b[0m\u001b[0mget_strategy\u001b[0m\u001b[0;34m(\u001b[0m\u001b[0;34m)\u001b[0m\u001b[0;34m\u001b[0m\u001b[0;34m\u001b[0m\u001b[0m\n",
            "\u001b[0;32m/usr/local/lib/python3.7/dist-packages/keras/engine/data_adapter.py\u001b[0m in \u001b[0;36m__init__\u001b[0;34m(self, x, y, sample_weights, sample_weight_modes, batch_size, epochs, steps, shuffle, **kwargs)\u001b[0m\n\u001b[1;32m    269\u001b[0m     \u001b[0mindices_dataset\u001b[0m \u001b[0;34m=\u001b[0m \u001b[0mtf\u001b[0m\u001b[0;34m.\u001b[0m\u001b[0mdata\u001b[0m\u001b[0;34m.\u001b[0m\u001b[0mDataset\u001b[0m\u001b[0;34m.\u001b[0m\u001b[0mrange\u001b[0m\u001b[0;34m(\u001b[0m\u001b[0;36m1\u001b[0m\u001b[0;34m)\u001b[0m\u001b[0;34m\u001b[0m\u001b[0;34m\u001b[0m\u001b[0m\n\u001b[1;32m    270\u001b[0m     \u001b[0;32mif\u001b[0m \u001b[0mshuffle\u001b[0m \u001b[0;34m!=\u001b[0m \u001b[0;34m\"batch\"\u001b[0m\u001b[0;34m:\u001b[0m\u001b[0;34m\u001b[0m\u001b[0;34m\u001b[0m\u001b[0m\n\u001b[0;32m--> 271\u001b[0;31m       \u001b[0mindices_dataset\u001b[0m \u001b[0;34m=\u001b[0m \u001b[0mindices_dataset\u001b[0m\u001b[0;34m.\u001b[0m\u001b[0mrepeat\u001b[0m\u001b[0;34m(\u001b[0m\u001b[0mepochs\u001b[0m\u001b[0;34m)\u001b[0m\u001b[0;34m\u001b[0m\u001b[0;34m\u001b[0m\u001b[0m\n\u001b[0m\u001b[1;32m    272\u001b[0m \u001b[0;34m\u001b[0m\u001b[0m\n\u001b[1;32m    273\u001b[0m     \u001b[0;32mdef\u001b[0m \u001b[0mpermutation\u001b[0m\u001b[0;34m(\u001b[0m\u001b[0m_\u001b[0m\u001b[0;34m)\u001b[0m\u001b[0;34m:\u001b[0m\u001b[0;34m\u001b[0m\u001b[0;34m\u001b[0m\u001b[0m\n",
            "\u001b[0;32m/usr/local/lib/python3.7/dist-packages/tensorflow/python/data/ops/dataset_ops.py\u001b[0m in \u001b[0;36mrepeat\u001b[0;34m(self, count)\u001b[0m\n\u001b[1;32m   1260\u001b[0m       \u001b[0mDataset\u001b[0m\u001b[0;34m:\u001b[0m \u001b[0mA\u001b[0m\u001b[0;31m \u001b[0m\u001b[0;31m`\u001b[0m\u001b[0mDataset\u001b[0m\u001b[0;31m`\u001b[0m\u001b[0;34m.\u001b[0m\u001b[0;34m\u001b[0m\u001b[0;34m\u001b[0m\u001b[0m\n\u001b[1;32m   1261\u001b[0m     \"\"\"\n\u001b[0;32m-> 1262\u001b[0;31m     \u001b[0;32mreturn\u001b[0m \u001b[0mRepeatDataset\u001b[0m\u001b[0;34m(\u001b[0m\u001b[0mself\u001b[0m\u001b[0;34m,\u001b[0m \u001b[0mcount\u001b[0m\u001b[0;34m)\u001b[0m\u001b[0;34m\u001b[0m\u001b[0;34m\u001b[0m\u001b[0m\n\u001b[0m\u001b[1;32m   1263\u001b[0m \u001b[0;34m\u001b[0m\u001b[0m\n\u001b[1;32m   1264\u001b[0m   \u001b[0;32mdef\u001b[0m \u001b[0menumerate\u001b[0m\u001b[0;34m(\u001b[0m\u001b[0mself\u001b[0m\u001b[0;34m,\u001b[0m \u001b[0mstart\u001b[0m\u001b[0;34m=\u001b[0m\u001b[0;36m0\u001b[0m\u001b[0;34m)\u001b[0m\u001b[0;34m:\u001b[0m\u001b[0;34m\u001b[0m\u001b[0;34m\u001b[0m\u001b[0m\n",
            "\u001b[0;32m/usr/local/lib/python3.7/dist-packages/tensorflow/python/data/ops/dataset_ops.py\u001b[0m in \u001b[0;36m__init__\u001b[0;34m(self, input_dataset, count)\u001b[0m\n\u001b[1;32m   4408\u001b[0m     \u001b[0;32melse\u001b[0m\u001b[0;34m:\u001b[0m\u001b[0;34m\u001b[0m\u001b[0;34m\u001b[0m\u001b[0m\n\u001b[1;32m   4409\u001b[0m       self._count = ops.convert_to_tensor(\n\u001b[0;32m-> 4410\u001b[0;31m           count, dtype=dtypes.int64, name=\"count\")\n\u001b[0m\u001b[1;32m   4411\u001b[0m     variant_tensor = gen_dataset_ops.repeat_dataset(\n\u001b[1;32m   4412\u001b[0m         \u001b[0minput_dataset\u001b[0m\u001b[0;34m.\u001b[0m\u001b[0m_variant_tensor\u001b[0m\u001b[0;34m,\u001b[0m  \u001b[0;31m# pylint: disable=protected-access\u001b[0m\u001b[0;34m\u001b[0m\u001b[0;34m\u001b[0m\u001b[0m\n",
            "\u001b[0;32m/usr/local/lib/python3.7/dist-packages/tensorflow/python/profiler/trace.py\u001b[0m in \u001b[0;36mwrapped\u001b[0;34m(*args, **kwargs)\u001b[0m\n\u001b[1;32m    161\u001b[0m         \u001b[0;32mwith\u001b[0m \u001b[0mTrace\u001b[0m\u001b[0;34m(\u001b[0m\u001b[0mtrace_name\u001b[0m\u001b[0;34m,\u001b[0m \u001b[0;34m**\u001b[0m\u001b[0mtrace_kwargs\u001b[0m\u001b[0;34m)\u001b[0m\u001b[0;34m:\u001b[0m\u001b[0;34m\u001b[0m\u001b[0;34m\u001b[0m\u001b[0m\n\u001b[1;32m    162\u001b[0m           \u001b[0;32mreturn\u001b[0m \u001b[0mfunc\u001b[0m\u001b[0;34m(\u001b[0m\u001b[0;34m*\u001b[0m\u001b[0margs\u001b[0m\u001b[0;34m,\u001b[0m \u001b[0;34m**\u001b[0m\u001b[0mkwargs\u001b[0m\u001b[0;34m)\u001b[0m\u001b[0;34m\u001b[0m\u001b[0;34m\u001b[0m\u001b[0m\n\u001b[0;32m--> 163\u001b[0;31m       \u001b[0;32mreturn\u001b[0m \u001b[0mfunc\u001b[0m\u001b[0;34m(\u001b[0m\u001b[0;34m*\u001b[0m\u001b[0margs\u001b[0m\u001b[0;34m,\u001b[0m \u001b[0;34m**\u001b[0m\u001b[0mkwargs\u001b[0m\u001b[0;34m)\u001b[0m\u001b[0;34m\u001b[0m\u001b[0;34m\u001b[0m\u001b[0m\n\u001b[0m\u001b[1;32m    164\u001b[0m \u001b[0;34m\u001b[0m\u001b[0m\n\u001b[1;32m    165\u001b[0m     \u001b[0;32mreturn\u001b[0m \u001b[0mwrapped\u001b[0m\u001b[0;34m\u001b[0m\u001b[0;34m\u001b[0m\u001b[0m\n",
            "\u001b[0;32m/usr/local/lib/python3.7/dist-packages/tensorflow/python/framework/ops.py\u001b[0m in \u001b[0;36mconvert_to_tensor\u001b[0;34m(value, dtype, name, as_ref, preferred_dtype, dtype_hint, ctx, accepted_result_types)\u001b[0m\n\u001b[1;32m   1564\u001b[0m \u001b[0;34m\u001b[0m\u001b[0m\n\u001b[1;32m   1565\u001b[0m     \u001b[0;32mif\u001b[0m \u001b[0mret\u001b[0m \u001b[0;32mis\u001b[0m \u001b[0;32mNone\u001b[0m\u001b[0;34m:\u001b[0m\u001b[0;34m\u001b[0m\u001b[0;34m\u001b[0m\u001b[0m\n\u001b[0;32m-> 1566\u001b[0;31m       \u001b[0mret\u001b[0m \u001b[0;34m=\u001b[0m \u001b[0mconversion_func\u001b[0m\u001b[0;34m(\u001b[0m\u001b[0mvalue\u001b[0m\u001b[0;34m,\u001b[0m \u001b[0mdtype\u001b[0m\u001b[0;34m=\u001b[0m\u001b[0mdtype\u001b[0m\u001b[0;34m,\u001b[0m \u001b[0mname\u001b[0m\u001b[0;34m=\u001b[0m\u001b[0mname\u001b[0m\u001b[0;34m,\u001b[0m \u001b[0mas_ref\u001b[0m\u001b[0;34m=\u001b[0m\u001b[0mas_ref\u001b[0m\u001b[0;34m)\u001b[0m\u001b[0;34m\u001b[0m\u001b[0;34m\u001b[0m\u001b[0m\n\u001b[0m\u001b[1;32m   1567\u001b[0m \u001b[0;34m\u001b[0m\u001b[0m\n\u001b[1;32m   1568\u001b[0m     \u001b[0;32mif\u001b[0m \u001b[0mret\u001b[0m \u001b[0;32mis\u001b[0m \u001b[0mNotImplemented\u001b[0m\u001b[0;34m:\u001b[0m\u001b[0;34m\u001b[0m\u001b[0;34m\u001b[0m\u001b[0m\n",
            "\u001b[0;32m/usr/local/lib/python3.7/dist-packages/tensorflow/python/framework/tensor_conversion_registry.py\u001b[0m in \u001b[0;36m_default_conversion_function\u001b[0;34m(***failed resolving arguments***)\u001b[0m\n\u001b[1;32m     50\u001b[0m \u001b[0;32mdef\u001b[0m \u001b[0m_default_conversion_function\u001b[0m\u001b[0;34m(\u001b[0m\u001b[0mvalue\u001b[0m\u001b[0;34m,\u001b[0m \u001b[0mdtype\u001b[0m\u001b[0;34m,\u001b[0m \u001b[0mname\u001b[0m\u001b[0;34m,\u001b[0m \u001b[0mas_ref\u001b[0m\u001b[0;34m)\u001b[0m\u001b[0;34m:\u001b[0m\u001b[0;34m\u001b[0m\u001b[0;34m\u001b[0m\u001b[0m\n\u001b[1;32m     51\u001b[0m   \u001b[0;32mdel\u001b[0m \u001b[0mas_ref\u001b[0m  \u001b[0;31m# Unused.\u001b[0m\u001b[0;34m\u001b[0m\u001b[0;34m\u001b[0m\u001b[0m\n\u001b[0;32m---> 52\u001b[0;31m   \u001b[0;32mreturn\u001b[0m \u001b[0mconstant_op\u001b[0m\u001b[0;34m.\u001b[0m\u001b[0mconstant\u001b[0m\u001b[0;34m(\u001b[0m\u001b[0mvalue\u001b[0m\u001b[0;34m,\u001b[0m \u001b[0mdtype\u001b[0m\u001b[0;34m,\u001b[0m \u001b[0mname\u001b[0m\u001b[0;34m=\u001b[0m\u001b[0mname\u001b[0m\u001b[0;34m)\u001b[0m\u001b[0;34m\u001b[0m\u001b[0;34m\u001b[0m\u001b[0m\n\u001b[0m\u001b[1;32m     53\u001b[0m \u001b[0;34m\u001b[0m\u001b[0m\n\u001b[1;32m     54\u001b[0m \u001b[0;34m\u001b[0m\u001b[0m\n",
            "\u001b[0;32m/usr/local/lib/python3.7/dist-packages/tensorflow/python/framework/constant_op.py\u001b[0m in \u001b[0;36mconstant\u001b[0;34m(value, dtype, shape, name)\u001b[0m\n\u001b[1;32m    270\u001b[0m   \"\"\"\n\u001b[1;32m    271\u001b[0m   return _constant_impl(value, dtype, shape, name, verify_shape=False,\n\u001b[0;32m--> 272\u001b[0;31m                         allow_broadcast=True)\n\u001b[0m\u001b[1;32m    273\u001b[0m \u001b[0;34m\u001b[0m\u001b[0m\n\u001b[1;32m    274\u001b[0m \u001b[0;34m\u001b[0m\u001b[0m\n",
            "\u001b[0;32m/usr/local/lib/python3.7/dist-packages/tensorflow/python/framework/constant_op.py\u001b[0m in \u001b[0;36m_constant_impl\u001b[0;34m(value, dtype, shape, name, verify_shape, allow_broadcast)\u001b[0m\n\u001b[1;32m    281\u001b[0m       \u001b[0;32mwith\u001b[0m \u001b[0mtrace\u001b[0m\u001b[0;34m.\u001b[0m\u001b[0mTrace\u001b[0m\u001b[0;34m(\u001b[0m\u001b[0;34m\"tf.constant\"\u001b[0m\u001b[0;34m)\u001b[0m\u001b[0;34m:\u001b[0m\u001b[0;34m\u001b[0m\u001b[0;34m\u001b[0m\u001b[0m\n\u001b[1;32m    282\u001b[0m         \u001b[0;32mreturn\u001b[0m \u001b[0m_constant_eager_impl\u001b[0m\u001b[0;34m(\u001b[0m\u001b[0mctx\u001b[0m\u001b[0;34m,\u001b[0m \u001b[0mvalue\u001b[0m\u001b[0;34m,\u001b[0m \u001b[0mdtype\u001b[0m\u001b[0;34m,\u001b[0m \u001b[0mshape\u001b[0m\u001b[0;34m,\u001b[0m \u001b[0mverify_shape\u001b[0m\u001b[0;34m)\u001b[0m\u001b[0;34m\u001b[0m\u001b[0;34m\u001b[0m\u001b[0m\n\u001b[0;32m--> 283\u001b[0;31m     \u001b[0;32mreturn\u001b[0m \u001b[0m_constant_eager_impl\u001b[0m\u001b[0;34m(\u001b[0m\u001b[0mctx\u001b[0m\u001b[0;34m,\u001b[0m \u001b[0mvalue\u001b[0m\u001b[0;34m,\u001b[0m \u001b[0mdtype\u001b[0m\u001b[0;34m,\u001b[0m \u001b[0mshape\u001b[0m\u001b[0;34m,\u001b[0m \u001b[0mverify_shape\u001b[0m\u001b[0;34m)\u001b[0m\u001b[0;34m\u001b[0m\u001b[0;34m\u001b[0m\u001b[0m\n\u001b[0m\u001b[1;32m    284\u001b[0m \u001b[0;34m\u001b[0m\u001b[0m\n\u001b[1;32m    285\u001b[0m   \u001b[0mg\u001b[0m \u001b[0;34m=\u001b[0m \u001b[0mops\u001b[0m\u001b[0;34m.\u001b[0m\u001b[0mget_default_graph\u001b[0m\u001b[0;34m(\u001b[0m\u001b[0;34m)\u001b[0m\u001b[0;34m\u001b[0m\u001b[0;34m\u001b[0m\u001b[0m\n",
            "\u001b[0;32m/usr/local/lib/python3.7/dist-packages/tensorflow/python/framework/constant_op.py\u001b[0m in \u001b[0;36m_constant_eager_impl\u001b[0;34m(ctx, value, dtype, shape, verify_shape)\u001b[0m\n\u001b[1;32m    306\u001b[0m \u001b[0;32mdef\u001b[0m \u001b[0m_constant_eager_impl\u001b[0m\u001b[0;34m(\u001b[0m\u001b[0mctx\u001b[0m\u001b[0;34m,\u001b[0m \u001b[0mvalue\u001b[0m\u001b[0;34m,\u001b[0m \u001b[0mdtype\u001b[0m\u001b[0;34m,\u001b[0m \u001b[0mshape\u001b[0m\u001b[0;34m,\u001b[0m \u001b[0mverify_shape\u001b[0m\u001b[0;34m)\u001b[0m\u001b[0;34m:\u001b[0m\u001b[0;34m\u001b[0m\u001b[0;34m\u001b[0m\u001b[0m\n\u001b[1;32m    307\u001b[0m   \u001b[0;34m\"\"\"Creates a constant on the current device.\"\"\"\u001b[0m\u001b[0;34m\u001b[0m\u001b[0;34m\u001b[0m\u001b[0m\n\u001b[0;32m--> 308\u001b[0;31m   \u001b[0mt\u001b[0m \u001b[0;34m=\u001b[0m \u001b[0mconvert_to_eager_tensor\u001b[0m\u001b[0;34m(\u001b[0m\u001b[0mvalue\u001b[0m\u001b[0;34m,\u001b[0m \u001b[0mctx\u001b[0m\u001b[0;34m,\u001b[0m \u001b[0mdtype\u001b[0m\u001b[0;34m)\u001b[0m\u001b[0;34m\u001b[0m\u001b[0;34m\u001b[0m\u001b[0m\n\u001b[0m\u001b[1;32m    309\u001b[0m   \u001b[0;32mif\u001b[0m \u001b[0mshape\u001b[0m \u001b[0;32mis\u001b[0m \u001b[0;32mNone\u001b[0m\u001b[0;34m:\u001b[0m\u001b[0;34m\u001b[0m\u001b[0;34m\u001b[0m\u001b[0m\n\u001b[1;32m    310\u001b[0m     \u001b[0;32mreturn\u001b[0m \u001b[0mt\u001b[0m\u001b[0;34m\u001b[0m\u001b[0;34m\u001b[0m\u001b[0m\n",
            "\u001b[0;32m/usr/local/lib/python3.7/dist-packages/tensorflow/python/framework/constant_op.py\u001b[0m in \u001b[0;36mconvert_to_eager_tensor\u001b[0;34m(value, ctx, dtype)\u001b[0m\n\u001b[1;32m    104\u001b[0m       \u001b[0mdtype\u001b[0m \u001b[0;34m=\u001b[0m \u001b[0mdtypes\u001b[0m\u001b[0;34m.\u001b[0m\u001b[0mas_dtype\u001b[0m\u001b[0;34m(\u001b[0m\u001b[0mdtype\u001b[0m\u001b[0;34m)\u001b[0m\u001b[0;34m.\u001b[0m\u001b[0mas_datatype_enum\u001b[0m\u001b[0;34m\u001b[0m\u001b[0;34m\u001b[0m\u001b[0m\n\u001b[1;32m    105\u001b[0m   \u001b[0mctx\u001b[0m\u001b[0;34m.\u001b[0m\u001b[0mensure_initialized\u001b[0m\u001b[0;34m(\u001b[0m\u001b[0;34m)\u001b[0m\u001b[0;34m\u001b[0m\u001b[0;34m\u001b[0m\u001b[0m\n\u001b[0;32m--> 106\u001b[0;31m   \u001b[0;32mreturn\u001b[0m \u001b[0mops\u001b[0m\u001b[0;34m.\u001b[0m\u001b[0mEagerTensor\u001b[0m\u001b[0;34m(\u001b[0m\u001b[0mvalue\u001b[0m\u001b[0;34m,\u001b[0m \u001b[0mctx\u001b[0m\u001b[0;34m.\u001b[0m\u001b[0mdevice_name\u001b[0m\u001b[0;34m,\u001b[0m \u001b[0mdtype\u001b[0m\u001b[0;34m)\u001b[0m\u001b[0;34m\u001b[0m\u001b[0;34m\u001b[0m\u001b[0m\n\u001b[0m\u001b[1;32m    107\u001b[0m \u001b[0;34m\u001b[0m\u001b[0m\n\u001b[1;32m    108\u001b[0m \u001b[0;34m\u001b[0m\u001b[0m\n",
            "\u001b[0;31mTypeError\u001b[0m: Cannot convert 55.903999999999996 to EagerTensor of dtype int64"
          ]
        }
      ]
    },
    {
      "cell_type": "markdown",
      "metadata": {
        "id": "k5fhoAZTImJO"
      },
      "source": [
        "# 30th sept, 2021"
      ]
    },
    {
      "cell_type": "code",
      "metadata": {
        "id": "xHHvWNJmI3dc"
      },
      "source": [
        "# Details of FedAvg\n",
        "  # FedAvg Loss: aim is to minimize overall global loss \n",
        "  # f(w) = summation(k=1 to K){(n_k / n) * F_k(w)}\n",
        "  # K - number of clients\n",
        "  # F_k - Client k's loss function; this is getting calculated on each client's individual devices\n",
        "  # n_k - weighted by size of client k's dataset; devices with larger dataset will have more losses\n",
        "  # Algorithm: FederatedAveraging. The K clients are\n",
        "            # indexed by k; B is the local mini-batch size, E is the number\n",
        "            # of local epochs, and η is the learning rate.\n",
        "\n",
        "K = 25 # as we have 25 clients\n",
        "clients = {} # dictionary\n",
        "\n",
        "# reading all the clients\n",
        "for st_code in range(101,126):\n",
        "    clients[st_code] = pd.read_csv(\"/content/drive/MyDrive/Colab Notebooks/dataNew/station_code\"+str(st_code)+\".csv\", index_col = 0)\n"
      ],
      "execution_count": null,
      "outputs": []
    },
    {
      "cell_type": "code",
      "metadata": {
        "id": "5csCtyMFJEzK"
      },
      "source": [
        "# taking required featuring and dropping rest\n",
        "for station_id in range(101,126):\n",
        "  clients[station_id] = clients[station_id][['Latitude', 'Longitude','day', 'month', 'year','CO']].copy()"
      ],
      "execution_count": null,
      "outputs": []
    },
    {
      "cell_type": "code",
      "metadata": {
        "id": "YD5vv7FZJVYo"
      },
      "source": [
        "# ClientUpdate(k, w): // Run on client k\n",
        "def Client(client_idx, model):\n",
        "# B ← (split P_k into batches of size B) # what is p_K --> each clients' sample size\n",
        "  B = 1 #int(len(clients[client_idx]) * 0.1) # so for each client the batch size would be different depending upon the total sample size\n",
        "  E = 1 #max(30, B/1 # number of local epochs; it will also depend on sample size (indirectly)\n",
        "  learning_rate = 0.1 # initial learning rate\n",
        "  decay_rate = 0.1\n",
        "  momentum = 0.8\n",
        "\n",
        "  # define the optimizer function\n",
        "  sgd = SGD(lr = learning_rate, momentum = momentum, decay = decay_rate, nesterov = False)\n",
        "\n",
        "  # compile the model\n",
        "  model.compile(loss='mse', \n",
        "                optimizer=sgd, \n",
        "                metrics=['mse'])\n",
        "  \n",
        "\n",
        "# for each local epoch i from 1 to E do\n",
        "#   for batch b ∈ B do\n",
        "#     w ← w − η O l(w; b) # this seems the SGD process\n",
        "\n",
        "  # fitting the model: same as above two for loops\n",
        "  dataset = clients[client_idx]\n",
        "  \n",
        "  X, y = dataset[['Latitude', 'Longitude','day', 'month', 'year']].copy(),  dataset['CO']\n",
        "\n",
        "  x_train, x_test, y_train, y_test = train_test_split(X, y, test_size = 0.1, random_state=1)\n",
        "\n",
        "  try:\n",
        "    model.fit(x_train, y_train, \n",
        "                    epochs = E, \n",
        "                    batch_size=B,\n",
        "                    validation_data=(x_test, y_test),\n",
        "                    verbose=True)\n",
        "  except Exception as e:\n",
        "    print(e)\n",
        "    print(\"tata bye bye\")\n",
        "\n",
        "  # return w to server\n",
        "  # in our case no need for any explicit return; as the model is pass by value\n",
        "  return dataset.shape[0] # this will return the number of total sample\n"
      ],
      "execution_count": null,
      "outputs": []
    },
    {
      "cell_type": "code",
      "metadata": {
        "id": "kz0H0x_qJeC0"
      },
      "source": [
        "# Server executes: \n",
        "def Server():\n",
        "  # initialize w_0\n",
        "  model = Sequential()\n",
        "\n",
        "  # model.add(Dense(64, kernel_initializer='zeros', bias_initializer='zeros', activation=tf.nn.relu, input_dim=6)) # first dense/hidden layer\n",
        "  model.add(Dense(64, kernel_initializer='he_uniform', bias_initializer=\"zeros\", activation=tf.nn.relu, input_dim=5))\n",
        "  model.add(Dropout(0.1))\n",
        "\n",
        "  model.add(Dense(64, kernel_initializer='he_uniform', bias_initializer=\"zeros\", activation=tf.nn.relu)) # second dense/hidden layer\n",
        "  model.add(Dropout(0.2))\n",
        "\n",
        "  model.add(Dense(1, kernel_initializer= 'he_uniform', activation=tf.nn.softmax)) # output layer\n",
        "\n",
        "  # initial_weights = model.get_weights() # setting initial weights; should be same for all clients\n",
        "\n",
        "\n",
        "  # for each round t = 1, 2, . . . do\n",
        "  for t in range(1, 5):\n",
        "    C = np.random.random(1)[0] # random number between 0 and 1.\n",
        "\n",
        "    # m ← max(C  K, 1)\n",
        "    m = max(int(C*K), 1) # m == random number of client selected\n",
        "    weight_t_plus_1 = [None] * m # matrix to store the weights of all client in each t-round\n",
        "    n_k = [None] * m # parameters for weighted sum \n",
        "\n",
        "\n",
        "    # S_t ← (random set of m clients)\n",
        "    # S = {} # dictionary\n",
        "    S_t = np.random.uniform(low=101, high=126, size=(m)).astype(int)\n",
        "\n",
        "    # No need for below loop, as server don't need access to client data, server only need clients' number\n",
        "    # for client in m_clients:\n",
        "    #   S[client] = clients[client]\n",
        "    \n",
        "    initial_weights = model.get_weights() # setting initial weights; should be same for all clients\n",
        "    # for t= 1 to T, initial_weights would be t-1th's final weights\n",
        "\n",
        "    # for each client k ∈ S_t in parallel do\n",
        "    client_idx = 0\n",
        "    for client in S_t:\n",
        "      # w^(k)_(t+1) ← ClientUpdate(k, model)\n",
        "      n_k[client_idx] = Client(client, model) # pass by reference\n",
        "      weight_t_plus_1[client_idx] = model.get_weights()\n",
        "      client_idx += 1\n",
        "      \n",
        "      # setting weights back to initial weights\n",
        "      model.set_weights(initial_weights)\n",
        "\n",
        "    # finding the weighted sum\n",
        "    final_weights_t = np.array(weight_t_plus_1[0]) * (n_k[0] / sum(n_k))\n",
        "\n",
        "    for idx in range(1, m):\n",
        "      # w_(t+1) ← summation(k=1 to K){(n_k/n) * w^(k)_(t+1)} #n_k - no. of training sample in each client K; n - total training samples;\n",
        "      final_weights_t += np.array(weight_t_plus_1[idx]) * (n_k[idx]/ sum(n_k))\n",
        "\n",
        "    # setting the aggregated weights\n",
        "    model.set_weights(final_weights_t)\n",
        "\n",
        "  print(model.get_weights())"
      ],
      "execution_count": null,
      "outputs": []
    },
    {
      "cell_type": "code",
      "metadata": {
        "id": "tWLrXbwwJfj3"
      },
      "source": [
        "Server()"
      ],
      "execution_count": null,
      "outputs": []
    },
    {
      "cell_type": "markdown",
      "metadata": {
        "id": "ioj4j6660PRN"
      },
      "source": [
        "\n",
        "\n",
        "---\n",
        "\n",
        "\n",
        "\n",
        "---\n",
        "\n"
      ]
    },
    {
      "cell_type": "code",
      "metadata": {
        "id": "5lzUPM-Hycjv"
      },
      "source": [
        "loss_probability = (missing values)/(total rows)\n",
        "# 0.1 --> 10/100\n",
        "NE = summation(abs(y_true - y_predicted)) / summation(y_true)"
      ],
      "execution_count": null,
      "outputs": []
    },
    {
      "cell_type": "markdown",
      "metadata": {
        "id": "inWQ-3OqkxG2"
      },
      "source": [
        "# 1st october : Both FL and Traditional ML"
      ]
    },
    {
      "cell_type": "code",
      "metadata": {
        "colab": {
          "base_uri": "https://localhost:8080/"
        },
        "id": "NbIEiKA9mDUO",
        "outputId": "fca63178-8df8-4db3-c3a1-6533119fc01a"
      },
      "source": [
        "from google.colab import drive\n",
        "drive.mount('/content/drive')"
      ],
      "execution_count": null,
      "outputs": [
        {
          "output_type": "stream",
          "name": "stdout",
          "text": [
            "Mounted at /content/drive\n"
          ]
        }
      ]
    },
    {
      "cell_type": "code",
      "metadata": {
        "colab": {
          "base_uri": "https://localhost:8080/"
        },
        "id": "W6leGAYFk4Dc",
        "outputId": "e8e46bd3-8965-43ae-fd66-d2e8fd8a7728"
      },
      "source": [
        "from tensorflow.keras import layers\n",
        "from tensorflow.keras import initializers\n",
        "import numpy as np\n",
        "import pandas as pd\n",
        "from sklearn.model_selection import train_test_split\n",
        "\n",
        "import tensorflow as tf\n",
        "# import keras\n",
        "from tensorflow.keras import layers\n",
        "from tensorflow.keras import models\n",
        "from tensorflow.keras import utils\n",
        "from tensorflow.keras.layers import Dense\n",
        "from tensorflow.keras.models import Sequential\n",
        "from tensorflow.keras.layers import Flatten\n",
        "from tensorflow.keras.layers import Dropout\n",
        "from tensorflow.keras.layers import Activation\n",
        "from tensorflow.keras.regularizers import l2\n",
        "from tensorflow.keras.optimizers import SGD # from keras.optimizers import SGD\n",
        "from tensorflow.keras.optimizers import RMSprop # instead of from keras.optimizers import RMSprop\n",
        "# from keras import datasets\n",
        "\n",
        "# from keras.callbacks import LearningRateScheduler\n",
        "# from keras.callbacks import History\n",
        "\n",
        "from tensorflow.keras import losses\n",
        "from sklearn.utils import shuffle\n",
        "\n",
        "print(tf.__version__)\n",
        "print(tf.keras.__version__)"
      ],
      "execution_count": null,
      "outputs": [
        {
          "output_type": "stream",
          "name": "stdout",
          "text": [
            "2.6.0\n",
            "2.6.0\n"
          ]
        }
      ]
    },
    {
      "cell_type": "code",
      "metadata": {
        "colab": {
          "base_uri": "https://localhost:8080/"
        },
        "id": "SlsNS5L1licl",
        "outputId": "36bb7474-799d-4749-8e64-a01ddd05c078"
      },
      "source": [
        "%%time\n",
        "# getting input data\n",
        "K = 25 # as we have 25 clients\n",
        "clients = {} # dictionary\n",
        "\n",
        "# reading all the clients\n",
        "for st_code in range(101,126):\n",
        "    clients[st_code] = pd.read_csv(\"/content/drive/MyDrive/Colab Notebooks/dataNew/station_code\"+str(st_code)+\".csv\", index_col = 0)\n",
        "\n",
        "    clients[st_code]['Measurement date'] = pd.to_datetime(clients[st_code]['Measurement date'])\n",
        "\n",
        "    clients[st_code]['year'] = clients[st_code]['Measurement date'].dt.year\n",
        "    clients[st_code]['month'] = clients[st_code]['Measurement date'].dt.month\n",
        "    clients[st_code]['week'] = clients[st_code]['Measurement date'].dt.week\n",
        "    clients[st_code]['day'] = clients[st_code]['Measurement date'].dt.day\n",
        "    clients[st_code]['hour'] = clients[st_code]['Measurement date'].dt.hour\n",
        "    clients[st_code]['minute'] = clients[st_code]['Measurement date'].dt.minute # minute is not significant; as only 0 values\n",
        "    clients[st_code]['dayOfWeek'] = clients[st_code]['Measurement date'].dt.dayofweek\n",
        "\n",
        "    # choosing features\n",
        "    clients[st_code] = clients[st_code][['Latitude', 'Longitude','year', 'month', 'week', 'day', 'hour', 'dayOfWeek', 'CO']]\n",
        "\n",
        "\n",
        "\n",
        "# dataset['date'], dataset['time'] = dataset['Measurement date'].dt.date, dataset['Measurement date'].dt.time\n",
        "\n"
      ],
      "execution_count": null,
      "outputs": [
        {
          "output_type": "stream",
          "name": "stderr",
          "text": [
            "/usr/local/lib/python3.7/dist-packages/ipykernel_launcher.py:13: FutureWarning: Series.dt.weekofyear and Series.dt.week have been deprecated.  Please use Series.dt.isocalendar().week instead.\n",
            "  del sys.path[0]\n"
          ]
        },
        {
          "output_type": "stream",
          "name": "stdout",
          "text": [
            "CPU times: user 2.59 s, sys: 233 ms, total: 2.82 s\n",
            "Wall time: 20.8 s\n"
          ]
        }
      ]
    },
    {
      "cell_type": "code",
      "metadata": {
        "colab": {
          "base_uri": "https://localhost:8080/",
          "height": 424
        },
        "id": "ZN2oEn1qnOF7",
        "outputId": "b2ce59f9-c7ef-4faa-f052-0b845ffed835"
      },
      "source": [
        "# merging all the clients data\n",
        "import pandas as pd\n",
        "\n",
        "frames = list(clients.values())\n",
        "\n",
        "dataset = pd.concat(frames)\n",
        "display(dataset)\n"
      ],
      "execution_count": null,
      "outputs": [
        {
          "output_type": "display_data",
          "data": {
            "text/html": [
              "<div>\n",
              "<style scoped>\n",
              "    .dataframe tbody tr th:only-of-type {\n",
              "        vertical-align: middle;\n",
              "    }\n",
              "\n",
              "    .dataframe tbody tr th {\n",
              "        vertical-align: top;\n",
              "    }\n",
              "\n",
              "    .dataframe thead th {\n",
              "        text-align: right;\n",
              "    }\n",
              "</style>\n",
              "<table border=\"1\" class=\"dataframe\">\n",
              "  <thead>\n",
              "    <tr style=\"text-align: right;\">\n",
              "      <th></th>\n",
              "      <th>Latitude</th>\n",
              "      <th>Longitude</th>\n",
              "      <th>year</th>\n",
              "      <th>month</th>\n",
              "      <th>week</th>\n",
              "      <th>day</th>\n",
              "      <th>hour</th>\n",
              "      <th>dayOfWeek</th>\n",
              "      <th>CO</th>\n",
              "    </tr>\n",
              "  </thead>\n",
              "  <tbody>\n",
              "    <tr>\n",
              "      <th>0</th>\n",
              "      <td>37.572016</td>\n",
              "      <td>127.005007</td>\n",
              "      <td>2017</td>\n",
              "      <td>1</td>\n",
              "      <td>52</td>\n",
              "      <td>1</td>\n",
              "      <td>0</td>\n",
              "      <td>6</td>\n",
              "      <td>1.2</td>\n",
              "    </tr>\n",
              "    <tr>\n",
              "      <th>1</th>\n",
              "      <td>37.572016</td>\n",
              "      <td>127.005007</td>\n",
              "      <td>2017</td>\n",
              "      <td>1</td>\n",
              "      <td>52</td>\n",
              "      <td>1</td>\n",
              "      <td>1</td>\n",
              "      <td>6</td>\n",
              "      <td>1.2</td>\n",
              "    </tr>\n",
              "    <tr>\n",
              "      <th>2</th>\n",
              "      <td>37.572016</td>\n",
              "      <td>127.005007</td>\n",
              "      <td>2017</td>\n",
              "      <td>1</td>\n",
              "      <td>52</td>\n",
              "      <td>1</td>\n",
              "      <td>2</td>\n",
              "      <td>6</td>\n",
              "      <td>1.2</td>\n",
              "    </tr>\n",
              "    <tr>\n",
              "      <th>3</th>\n",
              "      <td>37.572016</td>\n",
              "      <td>127.005007</td>\n",
              "      <td>2017</td>\n",
              "      <td>1</td>\n",
              "      <td>52</td>\n",
              "      <td>1</td>\n",
              "      <td>3</td>\n",
              "      <td>6</td>\n",
              "      <td>1.2</td>\n",
              "    </tr>\n",
              "    <tr>\n",
              "      <th>4</th>\n",
              "      <td>37.572016</td>\n",
              "      <td>127.005007</td>\n",
              "      <td>2017</td>\n",
              "      <td>1</td>\n",
              "      <td>52</td>\n",
              "      <td>1</td>\n",
              "      <td>4</td>\n",
              "      <td>6</td>\n",
              "      <td>1.2</td>\n",
              "    </tr>\n",
              "    <tr>\n",
              "      <th>...</th>\n",
              "      <td>...</td>\n",
              "      <td>...</td>\n",
              "      <td>...</td>\n",
              "      <td>...</td>\n",
              "      <td>...</td>\n",
              "      <td>...</td>\n",
              "      <td>...</td>\n",
              "      <td>...</td>\n",
              "      <td>...</td>\n",
              "    </tr>\n",
              "    <tr>\n",
              "      <th>647506</th>\n",
              "      <td>37.544962</td>\n",
              "      <td>127.136792</td>\n",
              "      <td>2019</td>\n",
              "      <td>12</td>\n",
              "      <td>1</td>\n",
              "      <td>31</td>\n",
              "      <td>19</td>\n",
              "      <td>1</td>\n",
              "      <td>0.5</td>\n",
              "    </tr>\n",
              "    <tr>\n",
              "      <th>647507</th>\n",
              "      <td>37.544962</td>\n",
              "      <td>127.136792</td>\n",
              "      <td>2019</td>\n",
              "      <td>12</td>\n",
              "      <td>1</td>\n",
              "      <td>31</td>\n",
              "      <td>20</td>\n",
              "      <td>1</td>\n",
              "      <td>0.4</td>\n",
              "    </tr>\n",
              "    <tr>\n",
              "      <th>647508</th>\n",
              "      <td>37.544962</td>\n",
              "      <td>127.136792</td>\n",
              "      <td>2019</td>\n",
              "      <td>12</td>\n",
              "      <td>1</td>\n",
              "      <td>31</td>\n",
              "      <td>21</td>\n",
              "      <td>1</td>\n",
              "      <td>0.4</td>\n",
              "    </tr>\n",
              "    <tr>\n",
              "      <th>647509</th>\n",
              "      <td>37.544962</td>\n",
              "      <td>127.136792</td>\n",
              "      <td>2019</td>\n",
              "      <td>12</td>\n",
              "      <td>1</td>\n",
              "      <td>31</td>\n",
              "      <td>22</td>\n",
              "      <td>1</td>\n",
              "      <td>0.5</td>\n",
              "    </tr>\n",
              "    <tr>\n",
              "      <th>647510</th>\n",
              "      <td>37.544962</td>\n",
              "      <td>127.136792</td>\n",
              "      <td>2019</td>\n",
              "      <td>12</td>\n",
              "      <td>1</td>\n",
              "      <td>31</td>\n",
              "      <td>23</td>\n",
              "      <td>1</td>\n",
              "      <td>0.5</td>\n",
              "    </tr>\n",
              "  </tbody>\n",
              "</table>\n",
              "<p>647511 rows × 9 columns</p>\n",
              "</div>"
            ],
            "text/plain": [
              "         Latitude   Longitude  year  month  week  day  hour  dayOfWeek   CO\n",
              "0       37.572016  127.005007  2017      1    52    1     0          6  1.2\n",
              "1       37.572016  127.005007  2017      1    52    1     1          6  1.2\n",
              "2       37.572016  127.005007  2017      1    52    1     2          6  1.2\n",
              "3       37.572016  127.005007  2017      1    52    1     3          6  1.2\n",
              "4       37.572016  127.005007  2017      1    52    1     4          6  1.2\n",
              "...           ...         ...   ...    ...   ...  ...   ...        ...  ...\n",
              "647506  37.544962  127.136792  2019     12     1   31    19          1  0.5\n",
              "647507  37.544962  127.136792  2019     12     1   31    20          1  0.4\n",
              "647508  37.544962  127.136792  2019     12     1   31    21          1  0.4\n",
              "647509  37.544962  127.136792  2019     12     1   31    22          1  0.5\n",
              "647510  37.544962  127.136792  2019     12     1   31    23          1  0.5\n",
              "\n",
              "[647511 rows x 9 columns]"
            ]
          },
          "metadata": {}
        }
      ]
    },
    {
      "cell_type": "code",
      "metadata": {
        "colab": {
          "base_uri": "https://localhost:8080/"
        },
        "id": "Xy-VNMXl2Vw7",
        "outputId": "ba00a7fa-4eef-44f3-d61d-ee8ebdf8eef7"
      },
      "source": [
        "X, y = dataset.drop('CO', axis=1),  dataset['CO']\n",
        "x_train, x_test, y_train, y_test = train_test_split(X, y, test_size = 0.1, random_state=0)\n",
        "x_test, y_test = x_test.to_numpy(), y_test.to_numpy()\n",
        "x_test[0].shape"
      ],
      "execution_count": null,
      "outputs": [
        {
          "output_type": "execute_result",
          "data": {
            "text/plain": [
              "(8,)"
            ]
          },
          "metadata": {},
          "execution_count": 5
        }
      ]
    },
    {
      "cell_type": "code",
      "metadata": {
        "id": "hIoTgWrUmi7X"
      },
      "source": [
        "# ClientUpdate(k, w): // Run on client k\n",
        "def Client(client_idx, model, loss_p):\n",
        "    # B ← (split P_k into batches of size B) # what is p_K --> each clients' sample size\n",
        "    B = 1000 #int(len(clients[client_idx]) * 0.01) # so for each client the batch size would be different depending upon the total sample size\n",
        "    E = 12 #max(30, B//10) # number of local epochs; it will also depend on sample size (indirectly)\n",
        "    learning_rate = 0.1 # initial learning rate\n",
        "    decay_rate = 0.1\n",
        "    momentum = 0.8\n",
        "\n",
        "    # define the optimizer function\n",
        "    sgd = SGD(learning_rate = learning_rate, momentum = momentum, decay = decay_rate, nesterov = False)\n",
        "\n",
        "    # compile the model\n",
        "    model.compile(loss='mse', \n",
        "                optimizer=sgd, \n",
        "                metrics=['mse'])\n",
        "\n",
        "\n",
        "    # for each local epoch i from 1 to E do\n",
        "    #   for batch b ∈ B do\n",
        "    #     w ← w − η O l(w; b) # this seems the SGD process\n",
        "\n",
        "    # fitting the model: same as above two for loops\n",
        "    data = clients[client_idx]\n",
        "    # data = dataset.loc[dataset['Station code'] == client_idx]\n",
        "\n",
        "    X, y = data[['Latitude', 'Longitude','year', 'month', 'week', 'day', 'hour', 'dayOfWeek']],  data['CO']\n",
        "\n",
        "    x_train, x_test, y_train, y_test = train_test_split(X, y, test_size = loss_p, random_state=1)\n",
        "\n",
        "    try:\n",
        "        model.fit(x_train, y_train, \n",
        "                    epochs = E, \n",
        "                    batch_size=B,\n",
        "    #                     validation_data=(x_test, y_test),\n",
        "                    verbose=False)\n",
        "    except Exception as e:\n",
        "        print(e)\n",
        "        print(\"tata bye bye\")\n",
        "\n",
        "    # return w to server\n",
        "    # in our case no need for any explicit return; as the model is pass by value\n",
        "    return data.shape[0] # this will return the number of total sample\n"
      ],
      "execution_count": null,
      "outputs": []
    },
    {
      "cell_type": "code",
      "metadata": {
        "id": "SxL5tN-bo2jh"
      },
      "source": [
        "# Server executes: \n",
        "def Server(loss_p):\n",
        "    # initialize w_0\n",
        "    model = Sequential()\n",
        "    \n",
        "    # model.add(Dense(64, kernel_initializer='zeros', bias_initializer='zeros', activation=tf.nn.relu, input_dim=6)) # first dense/hidden layer\n",
        "    model.add(Dense(64, kernel_initializer='he_uniform', bias_initializer=\"zeros\", activation=tf.nn.relu, input_dim=8))\n",
        "    model.add(Dropout(0.1))\n",
        "\n",
        "    model.add(Dense(64, kernel_initializer='he_uniform', bias_initializer=\"zeros\", activation=tf.nn.relu)) # second dense/hidden layer\n",
        "    model.add(Dropout(0.2))\n",
        "\n",
        "    model.add(Dense(1, kernel_initializer= 'he_uniform', activation=tf.nn.softmax)) # output layer\n",
        "\n",
        "    # initial_weights = model.get_weights() # setting initial weights; should be same for all clients\n",
        "\n",
        "\n",
        "# for each round t = 1, 2, . . . do\n",
        "    for t in range(1, 5):\n",
        "        C = np.random.random(1)[0] # random number between 0 and 1.\n",
        "\n",
        "        # m ← max(C  K, 1)\n",
        "        m = max(int(C*K), 1) # m == random number of client selected\n",
        "        weight_t_plus_1 = [None] * m # matrix to store the weights of all client in each t-round\n",
        "        n_k = [None] * m # parameters for weighted sum \n",
        "\n",
        "\n",
        "        # S_t ← (random set of m clients)\n",
        "        # S = {} # dictionary\n",
        "        S_t = np.random.uniform(low=101, high=126, size=(m)).astype(int)\n",
        "\n",
        "        # No need for below loop, as server don't need access to client data, server only need clients' number\n",
        "        # for client in m_clients:\n",
        "        #   S[client] = clients[client]\n",
        "\n",
        "        initial_weights = model.get_weights() # setting initial weights; should be same for all clients\n",
        "        # for t= 1 to T, initial_weights would be t-1th's final weights\n",
        "\n",
        "        # for each client k ∈ S_t in parallel do\n",
        "        client_idx = 0\n",
        "        for client in S_t:\n",
        "            # w^(k)_(t+1) ← ClientUpdate(k, model)\n",
        "            n_k[client_idx] = Client(client, model, loss_p) # pass by reference\n",
        "            weight_t_plus_1[client_idx] = model.get_weights()\n",
        "            client_idx += 1\n",
        "\n",
        "            # setting weights back to initial weights\n",
        "            model.set_weights(initial_weights)\n",
        "\n",
        "        # finding the weighted sum\n",
        "        final_weights_t = np.array(weight_t_plus_1[0]) * (n_k[0] / sum(n_k))\n",
        "\n",
        "        for idx in range(1, m):\n",
        "          # w_(t+1) ← summation(k=1 to K){(n_k/n) * w^(k)_(t+1)} #n_k - no. of training sample in each client K; n - total training samples;\n",
        "          final_weights_t += np.array(weight_t_plus_1[idx]) * (n_k[idx]/ sum(n_k))\n",
        "\n",
        "        # setting the aggregated weights\n",
        "        model.set_weights(final_weights_t)\n",
        "\n",
        "\n",
        "#         print(model.get_weights())\n",
        "    # return error_clients(model, loss_p)) # THIS LINE WON'T BE THERE IN REAL SERVER\n",
        "    return model"
      ],
      "execution_count": null,
      "outputs": []
    },
    {
      "cell_type": "code",
      "metadata": {
        "id": "pzzufX8enF4K"
      },
      "source": [
        "def error_clients(model, loss_p):\n",
        "    \n",
        "    X, y = dataset.drop('CO', axis=1),  dataset['CO']\n",
        "    \n",
        "#     for loss_p in loss_prob:\n",
        "    x_train, x_test, y_train, y_test = train_test_split(X, y, test_size = loss_p, random_state=0)\n",
        "   \n",
        "    # adjusting the dimensions\n",
        "    x_test, y_test = x_test.to_numpy(), y_test.to_numpy()\n",
        "    x_test = x_test.reshape(x_test.shape[0], 1,  x_test.shape[1])\n",
        "    y_test = y_test.reshape(y_test.shape[0],1,1)\n",
        "\n",
        "    y_predicted = model.predict(x_test)\n",
        "        \n",
        "    NE = sum(abs(y_test - y_predicted)) / sum(y_test)\n",
        "    return NE  \n",
        "          "
      ],
      "execution_count": null,
      "outputs": []
    },
    {
      "cell_type": "code",
      "metadata": {
        "id": "fAyM0nH2qig3"
      },
      "source": [
        "# Final plotting\n",
        "K = 25 # as we have 25 clients\n",
        "\n",
        "loss_prob = [0.1, 0.2, 0.3, 0.4, 0.5, 0.6, 0.7, 0.8, 0.9]\n",
        "models = []\n",
        "errors = []\n",
        "\n",
        "for loss_p in loss_prob:\n",
        "  model = Server(loss_p)\n",
        "  errors.append(error_clients(model, loss_p))\n",
        "\n",
        "# import seaborn as sns\n",
        "# sns.lineplot(x = loss_prob, y = errors, markers=True, dashes=False)"
      ],
      "execution_count": null,
      "outputs": []
    },
    {
      "cell_type": "code",
      "metadata": {
        "colab": {
          "base_uri": "https://localhost:8080/"
        },
        "id": "e2dbI7pP8aN0",
        "outputId": "68da4310-9bcb-4c23-f5d2-cdae1a6dc5e0"
      },
      "source": [
        "errors[0]"
      ],
      "execution_count": null,
      "outputs": [
        {
          "output_type": "execute_result",
          "data": {
            "text/plain": [
              "array([[1.02276379]])"
            ]
          },
          "metadata": {},
          "execution_count": 10
        }
      ]
    },
    {
      "cell_type": "code",
      "metadata": {
        "colab": {
          "base_uri": "https://localhost:8080/"
        },
        "id": "OimeRntH-Yax",
        "outputId": "22164916-8999-4ff8-b6cd-8bb6b6c7a698"
      },
      "source": [
        "errors[0].ravel()[0]"
      ],
      "execution_count": null,
      "outputs": [
        {
          "output_type": "execute_result",
          "data": {
            "text/plain": [
              "1.0227637921798483"
            ]
          },
          "metadata": {},
          "execution_count": 11
        }
      ]
    },
    {
      "cell_type": "code",
      "metadata": {
        "id": "Zhh83xyU-IEM"
      },
      "source": [
        "# reshaping errors\n",
        "for err_idx in range(len(errors)):\n",
        "  errors[err_idx] = errors[err_idx].ravel()[0]"
      ],
      "execution_count": null,
      "outputs": []
    },
    {
      "cell_type": "code",
      "metadata": {
        "colab": {
          "base_uri": "https://localhost:8080/"
        },
        "id": "DI6ucUOp-qKw",
        "outputId": "fc1c0b65-a69b-4746-a9f3-7fb499c0174a"
      },
      "source": [
        "errors"
      ],
      "execution_count": null,
      "outputs": [
        {
          "output_type": "execute_result",
          "data": {
            "text/plain": [
              "[1.0227637921798483,\n",
              " 1.0231448768600002,\n",
              " 1.0219129321046316,\n",
              " 1.0227209476040346,\n",
              " 1.0226674799061215,\n",
              " 1.0220998885081014,\n",
              " 1.02239743534543,\n",
              " 1.0222275615431877,\n",
              " 1.0221784548709607]"
            ]
          },
          "metadata": {},
          "execution_count": 13
        }
      ]
    },
    {
      "cell_type": "code",
      "metadata": {
        "colab": {
          "base_uri": "https://localhost:8080/",
          "height": 285
        },
        "id": "XOItTjqd8wKq",
        "outputId": "92d7af01-2ab1-4f21-fb4f-cb8a685a5cff"
      },
      "source": [
        "import seaborn as sns\n",
        "sns.lineplot(x = loss_prob, y = errors, markers=True, dashes=False)"
      ],
      "execution_count": null,
      "outputs": [
        {
          "output_type": "execute_result",
          "data": {
            "text/plain": [
              "<matplotlib.axes._subplots.AxesSubplot at 0x7f2c7e2382d0>"
            ]
          },
          "metadata": {},
          "execution_count": 14
        },
        {
          "output_type": "display_data",
          "data": {
            "image/png": "[encoded data removed]",
            "text/plain": [
              "<Figure size 432x288 with 1 Axes>"
            ]
          },
          "metadata": {
            "needs_background": "light"
          }
        }
      ]
    },
    {
      "cell_type": "code",
      "metadata": {
        "id": "LRLHH_OC-19B"
      },
      "source": [
        "def traditional_ML(loss_p):\n",
        "  # initialize w_0\n",
        "  model = Sequential()\n",
        "\n",
        "  # model.add(Dense(64, kernel_initializer='zeros', bias_initializer='zeros', activation=tf.nn.relu, input_dim=6)) # first dense/hidden layer\n",
        "  model.add(Dense(64, kernel_initializer='he_uniform', bias_initializer=\"zeros\", activation=tf.nn.relu, input_dim=8))\n",
        "  model.add(Dropout(0.1))\n",
        "\n",
        "  model.add(Dense(64, kernel_initializer='he_uniform', bias_initializer=\"zeros\", activation=tf.nn.relu)) # second dense/hidden layer\n",
        "  model.add(Dropout(0.2))\n",
        "\n",
        "  model.add(Dense(1, kernel_initializer= 'he_uniform', activation=tf.nn.softmax)) # output layer\n",
        "\n",
        "  # initial_weights = model.get_weights() # setting initial weights; should be same for all clients\n",
        "\n",
        "\n",
        "  B = 1000 #int(len(clients[client_idx]) * 0.01) # so for each client the batch size would be different depending upon the total sample size\n",
        "  E = 25 #max(30, B//10) # number of local epochs; it will also depend on sample size (indirectly)\n",
        "  learning_rate = 0.1 # initial learning rate\n",
        "  decay_rate = 0.1\n",
        "  momentum = 0.8\n",
        "\n",
        "  # define the optimizer function\n",
        "  sgd = SGD(learning_rate = learning_rate, momentum = momentum, decay = decay_rate, nesterov = False)\n",
        "\n",
        "  # compile the model\n",
        "  model.compile(loss='mse', \n",
        "              optimizer=sgd, \n",
        "              metrics=['mse'])\n",
        "\n",
        "\n",
        "  # for each local epoch i from 1 to E do\n",
        "  #   for batch b ∈ B do\n",
        "  #     w ← w − η O l(w; b) # this seems the SGD process\n",
        "\n",
        "  # fitting the model: same as above two for loops\n",
        "\n",
        "  # data = dataset.loc[dataset['Station code'] == client_idx]\n",
        "\n",
        "  X, y = dataset[['Latitude', 'Longitude','year', 'month', 'week', 'day', 'hour', 'dayOfWeek']],  dataset['CO']\n",
        "\n",
        "  x_train, x_test, y_train, y_test = train_test_split(X, y, test_size = loss_p, random_state=1)\n",
        "\n",
        "  model.fit(x_train, y_train, \n",
        "                  epochs = E, \n",
        "                  batch_size=B,\n",
        "  #                     validation_data=(x_test, y_test),\n",
        "                  verbose=False)\n",
        "      \n",
        "  x_test, y_test = x_test.to_numpy(), y_test.to_numpy()\n",
        "\n",
        "  # adjusting the dimensions\n",
        "  x_test = x_test.reshape(x_test.shape[0], 1,  x_test.shape[1])\n",
        "  y_test = y_test.reshape(y_test.shape[0],1,1)\n",
        "  y_predicted = model.predict(x_test)\n",
        "      \n",
        "  NE = sum(abs(y_test - y_predicted)) / sum(y_test)\n",
        "  return NE\n"
      ],
      "execution_count": null,
      "outputs": []
    },
    {
      "cell_type": "code",
      "metadata": {
        "colab": {
          "base_uri": "https://localhost:8080/",
          "height": 459
        },
        "id": "kdKt6Vs4_tK_",
        "outputId": "0a68461c-d0bc-4513-f84a-ad0d21573e80"
      },
      "source": [
        "# Final plotting\n",
        "K = 25 # as we have 25 clients\n",
        "\n",
        "loss_prob = [0.1, 0.2, 0.3, 0.4, 0.5, 0.6, 0.7, 0.8, 0.9]\n",
        "errors = []\n",
        "\n",
        "for loss_p in loss_prob:\n",
        "  error = traditional_ML(loss_p)\n",
        "  errors.append(error)\n",
        "\n",
        "# reshaping errors\n",
        "for err_idx in range(len(errors)):\n",
        "  errors[err_idx] = errors[err_idx].ravel()[0]\n",
        "\n",
        "import seaborn as sns\n",
        "sns.lineplot(x = loss_prob, y = errors, markers=True, dashes=False)"
      ],
      "execution_count": null,
      "outputs": [
        {
          "output_type": "stream",
          "name": "stdout",
          "text": [
            "WARNING:tensorflow:Model was constructed with shape (None, 8) for input KerasTensor(type_spec=TensorSpec(shape=(None, 8), dtype=tf.float32, name='dense_27_input'), name='dense_27_input', description=\"created by layer 'dense_27_input'\"), but it was called on an input with incompatible shape (None, 1, 8).\n",
            "WARNING:tensorflow:Model was constructed with shape (None, 8) for input KerasTensor(type_spec=TensorSpec(shape=(None, 8), dtype=tf.float32, name='dense_30_input'), name='dense_30_input', description=\"created by layer 'dense_30_input'\"), but it was called on an input with incompatible shape (None, 1, 8).\n",
            "WARNING:tensorflow:Model was constructed with shape (None, 8) for input KerasTensor(type_spec=TensorSpec(shape=(None, 8), dtype=tf.float32, name='dense_33_input'), name='dense_33_input', description=\"created by layer 'dense_33_input'\"), but it was called on an input with incompatible shape (None, 1, 8).\n",
            "WARNING:tensorflow:Model was constructed with shape (None, 8) for input KerasTensor(type_spec=TensorSpec(shape=(None, 8), dtype=tf.float32, name='dense_36_input'), name='dense_36_input', description=\"created by layer 'dense_36_input'\"), but it was called on an input with incompatible shape (None, 1, 8).\n",
            "WARNING:tensorflow:Model was constructed with shape (None, 8) for input KerasTensor(type_spec=TensorSpec(shape=(None, 8), dtype=tf.float32, name='dense_39_input'), name='dense_39_input', description=\"created by layer 'dense_39_input'\"), but it was called on an input with incompatible shape (None, 1, 8).\n",
            "WARNING:tensorflow:Model was constructed with shape (None, 8) for input KerasTensor(type_spec=TensorSpec(shape=(None, 8), dtype=tf.float32, name='dense_42_input'), name='dense_42_input', description=\"created by layer 'dense_42_input'\"), but it was called on an input with incompatible shape (None, 1, 8).\n",
            "WARNING:tensorflow:Model was constructed with shape (None, 8) for input KerasTensor(type_spec=TensorSpec(shape=(None, 8), dtype=tf.float32, name='dense_45_input'), name='dense_45_input', description=\"created by layer 'dense_45_input'\"), but it was called on an input with incompatible shape (None, 1, 8).\n",
            "WARNING:tensorflow:Model was constructed with shape (None, 8) for input KerasTensor(type_spec=TensorSpec(shape=(None, 8), dtype=tf.float32, name='dense_48_input'), name='dense_48_input', description=\"created by layer 'dense_48_input'\"), but it was called on an input with incompatible shape (None, 1, 8).\n",
            "WARNING:tensorflow:Model was constructed with shape (None, 8) for input KerasTensor(type_spec=TensorSpec(shape=(None, 8), dtype=tf.float32, name='dense_51_input'), name='dense_51_input', description=\"created by layer 'dense_51_input'\"), but it was called on an input with incompatible shape (None, 1, 8).\n"
          ]
        },
        {
          "output_type": "execute_result",
          "data": {
            "text/plain": [
              "<matplotlib.axes._subplots.AxesSubplot at 0x7f2cb0168750>"
            ]
          },
          "metadata": {},
          "execution_count": 16
        },
        {
          "output_type": "display_data",
          "data": {
            "image/png": "[encoded data removed]",
            "text/plain": [
              "<Figure size 432x288 with 1 Axes>"
            ]
          },
          "metadata": {
            "needs_background": "light"
          }
        }
      ]
    },
    {
      "cell_type": "markdown",
      "metadata": {
        "id": "Pt4LmYyAuO7q"
      },
      "source": [
        "#### for each loss prob, as it explodes memory"
      ]
    },
    {
      "cell_type": "code",
      "metadata": {
        "id": "Le3Lu4Xp3NjO"
      },
      "source": [
        "# X, y = dataset.drop('CO', axis=1),  dataset['CO']\n",
        "\n",
        "# #     for loss_p in loss_prob:\n",
        "# x_train, x_test, y_train, y_test = train_test_split(X, y, test_size = 0.1, random_state=0)\n",
        "# x_test, y_test = x_test.to_numpy(), y_test.to_numpy()\n",
        "# x_test = x_test.reshape(x_test.shape[0], 1,  x_test.shape[1])\n",
        "# # x_test[0].shape\n",
        "# y_predicted = models[0].predict(x_test)\n",
        "    \n"
      ],
      "execution_count": null,
      "outputs": []
    },
    {
      "cell_type": "code",
      "metadata": {
        "id": "3km4zUfU6w51"
      },
      "source": [
        "# y_predicted.shape"
      ],
      "execution_count": null,
      "outputs": []
    },
    {
      "cell_type": "code",
      "metadata": {
        "id": "rfZqB-4g60k3"
      },
      "source": [
        "# y_test = y_test.reshape(y_test.shape[0], 1,1)"
      ],
      "execution_count": null,
      "outputs": []
    },
    {
      "cell_type": "code",
      "metadata": {
        "id": "AfuFcN1R6IL6"
      },
      "source": [
        "# error = sum(abs(y_test - y_predicted)) / sum(y_test)\n",
        "# # error"
      ],
      "execution_count": null,
      "outputs": []
    },
    {
      "cell_type": "code",
      "metadata": {
        "id": "6xPjFuF45bXw"
      },
      "source": [
        "# sum(y_test)"
      ],
      "execution_count": null,
      "outputs": []
    },
    {
      "cell_type": "code",
      "metadata": {
        "id": "3KznvhSE33nC"
      },
      "source": [
        "# x_test.reshape(x_test.shape[0], x_test.shape[1], 1).shape"
      ],
      "execution_count": null,
      "outputs": []
    },
    {
      "cell_type": "code",
      "metadata": {
        "id": "lqlIoy67t-zW"
      },
      "source": [
        "# errors.append(error_clients(models[0], loss_prob[0]))"
      ],
      "execution_count": null,
      "outputs": []
    },
    {
      "cell_type": "markdown",
      "metadata": {
        "id": "vw5j1OdVAbpB"
      },
      "source": [
        "# 3rd October\n",
        "* Changed the NE's denominator to absolute values"
      ]
    },
    {
      "cell_type": "code",
      "metadata": {
        "colab": {
          "base_uri": "https://localhost:8080/"
        },
        "id": "HVXqRyhVAiUc",
        "outputId": "0459f1f4-78c7-44e8-d29a-8ef2fbe7668a"
      },
      "source": [
        "from google.colab import drive\n",
        "drive.mount('/content/drive')"
      ],
      "execution_count": null,
      "outputs": [
        {
          "output_type": "stream",
          "name": "stdout",
          "text": [
            "Drive already mounted at /content/drive; to attempt to forcibly remount, call drive.mount(\"/content/drive\", force_remount=True).\n"
          ]
        }
      ]
    },
    {
      "cell_type": "code",
      "metadata": {
        "colab": {
          "base_uri": "https://localhost:8080/"
        },
        "id": "Ye-S8SqFAiUc",
        "outputId": "9fd7107f-6f73-4aa1-9608-b00c4be96513"
      },
      "source": [
        "from tensorflow.keras import layers\n",
        "from tensorflow.keras import initializers\n",
        "import numpy as np\n",
        "import pandas as pd\n",
        "from sklearn.model_selection import train_test_split\n",
        "\n",
        "import tensorflow as tf\n",
        "# import keras\n",
        "from tensorflow.keras import layers\n",
        "from tensorflow.keras import models\n",
        "from tensorflow.keras import utils\n",
        "from tensorflow.keras.layers import Dense\n",
        "from tensorflow.keras.models import Sequential\n",
        "from tensorflow.keras.layers import Flatten\n",
        "from tensorflow.keras.layers import Dropout\n",
        "from tensorflow.keras.layers import Activation\n",
        "from tensorflow.keras.regularizers import l2\n",
        "from tensorflow.keras.optimizers import SGD # from keras.optimizers import SGD\n",
        "from tensorflow.keras.optimizers import RMSprop # instead of from keras.optimizers import RMSprop\n",
        "# from keras import datasets\n",
        "\n",
        "# from keras.callbacks import LearningRateScheduler\n",
        "# from keras.callbacks import History\n",
        "\n",
        "from tensorflow.keras import losses\n",
        "from sklearn.utils import shuffle\n",
        "\n",
        "print(tf.__version__)\n",
        "print(tf.keras.__version__)"
      ],
      "execution_count": null,
      "outputs": [
        {
          "output_type": "stream",
          "name": "stdout",
          "text": [
            "2.6.0\n",
            "2.6.0\n"
          ]
        }
      ]
    },
    {
      "cell_type": "code",
      "metadata": {
        "id": "xvVkBCG4AiUd"
      },
      "source": [
        "# ClientUpdate(k, w): // Run on client k\n",
        "def Client(client_idx, model, loss_p):\n",
        "    # B ← (split P_k into batches of size B) # what is p_K --> each clients' sample size\n",
        "    B = 1000 #int(len(clients[client_idx]) * 0.01) # so for each client the batch size would be different depending upon the total sample size\n",
        "    E = 12 #max(30, B//10) # number of local epochs; it will also depend on sample size (indirectly)\n",
        "    learning_rate = 0.1 # initial learning rate\n",
        "    decay_rate = 0.1\n",
        "    momentum = 0.8\n",
        "\n",
        "    # define the optimizer function\n",
        "    sgd = SGD(learning_rate = learning_rate, momentum = momentum, decay = decay_rate, nesterov = False)\n",
        "\n",
        "    # compile the model\n",
        "    model.compile(loss='mse', \n",
        "                optimizer=sgd, \n",
        "                metrics=['mse'])\n",
        "\n",
        "\n",
        "    # for each local epoch i from 1 to E do\n",
        "    #   for batch b ∈ B do\n",
        "    #     w ← w − η O l(w; b) # this seems the SGD process\n",
        "\n",
        "    # fitting the model: same as above two for loops\n",
        "    data = clients[client_idx]\n",
        "    # data = dataset.loc[dataset['Station code'] == client_idx]\n",
        "\n",
        "    X, y = data[['Latitude', 'Longitude','year', 'month', 'week', 'day', 'hour', 'dayOfWeek']],  data['CO']\n",
        "\n",
        "    x_train, x_test, y_train, y_test = train_test_split(X, y, test_size = loss_p, random_state=1)\n",
        "\n",
        "    try:\n",
        "        model.fit(x_train, y_train, \n",
        "                    epochs = E, \n",
        "                    batch_size=B,\n",
        "    #                     validation_data=(x_test, y_test),\n",
        "                    verbose=False)\n",
        "    except Exception as e:\n",
        "        print(e)\n",
        "        print(\"tata bye bye\")\n",
        "\n",
        "    # return w to server\n",
        "    # in our case no need for any explicit return; as the model is pass by value\n",
        "    return data.shape[0] # this will return the number of total sample\n"
      ],
      "execution_count": null,
      "outputs": []
    },
    {
      "cell_type": "code",
      "metadata": {
        "id": "g1aCz_H2AiUd"
      },
      "source": [
        "# Server executes: \n",
        "def Server(loss_p):\n",
        "    # initialize w_0\n",
        "    model = Sequential()\n",
        "    \n",
        "    # model.add(Dense(64, kernel_initializer='zeros', bias_initializer='zeros', activation=tf.nn.relu, input_dim=6)) # first dense/hidden layer\n",
        "    model.add(Dense(64, kernel_initializer='he_uniform', bias_initializer=\"zeros\", activation=tf.nn.relu, input_dim=8))\n",
        "    model.add(Dropout(0.1))\n",
        "\n",
        "    model.add(Dense(64, kernel_initializer='he_uniform', bias_initializer=\"zeros\", activation=tf.nn.relu)) # second dense/hidden layer\n",
        "    model.add(Dropout(0.2))\n",
        "\n",
        "    model.add(Dense(1, kernel_initializer= 'he_uniform', activation=tf.nn.softmax)) # output layer\n",
        "\n",
        "    # initial_weights = model.get_weights() # setting initial weights; should be same for all clients\n",
        "\n",
        "\n",
        "# for each round t = 1, 2, . . . do\n",
        "    for t in range(1, 20):\n",
        "        C = np.random.random(1)[0] # random number between 0 and 1.\n",
        "\n",
        "        # m ← max(C  K, 1)\n",
        "        m = max(int(C*K), 1) # m == random number of client selected\n",
        "        weight_t_plus_1 = [None] * m # matrix to store the weights of all client in each t-round\n",
        "        n_k = [None] * m # parameters for weighted sum \n",
        "\n",
        "\n",
        "        # S_t ← (random set of m clients)\n",
        "        # S = {} # dictionary\n",
        "        S_t = np.random.uniform(low=101, high=126, size=(m)).astype(int)\n",
        "\n",
        "        # No need for below loop, as server don't need access to client data, server only need clients' number\n",
        "        # for client in m_clients:\n",
        "        #   S[client] = clients[client]\n",
        "\n",
        "        initial_weights = model.get_weights() # setting initial weights; should be same for all clients\n",
        "        # for t= 1 to T, initial_weights would be t-1th's final weights\n",
        "\n",
        "        # for each client k ∈ S_t in parallel do\n",
        "        client_idx = 0\n",
        "        for client in S_t:\n",
        "            # w^(k)_(t+1) ← ClientUpdate(k, model)\n",
        "            n_k[client_idx] = Client(client, model, loss_p) # pass by reference\n",
        "            weight_t_plus_1[client_idx] = model.get_weights()\n",
        "            client_idx += 1\n",
        "\n",
        "            # setting weights back to initial weights\n",
        "            model.set_weights(initial_weights)\n",
        "\n",
        "        # finding the weighted sum\n",
        "        final_weights_t = np.array(weight_t_plus_1[0]) * (n_k[0] / sum(n_k))\n",
        "\n",
        "        for idx in range(1, m):\n",
        "          # w_(t+1) ← summation(k=1 to K){(n_k/n) * w^(k)_(t+1)} #n_k - no. of training sample in each client K; n - total training samples;\n",
        "          final_weights_t += np.array(weight_t_plus_1[idx]) * (n_k[idx]/ sum(n_k))\n",
        "\n",
        "        # setting the aggregated weights\n",
        "        model.set_weights(final_weights_t)\n",
        "\n",
        "\n",
        "#         print(model.get_weights())\n",
        "    # return error_clients(model, loss_p)) # THIS LINE WON'T BE THERE IN REAL SERVER\n",
        "    return model"
      ],
      "execution_count": null,
      "outputs": []
    },
    {
      "cell_type": "code",
      "metadata": {
        "id": "hCX5xjzUAiUe"
      },
      "source": [
        "def error_clients(model, loss_p):\n",
        "    \n",
        "    X, y = dataset.drop('CO', axis=1),  dataset['CO']\n",
        "    \n",
        "#     for loss_p in loss_prob:\n",
        "    x_train, x_test, y_train, y_test = train_test_split(X, y, test_size = loss_p, random_state=0)\n",
        "   \n",
        "    # adjusting the dimensions\n",
        "    x_test, y_test = x_test.to_numpy(), y_test.to_numpy()\n",
        "    x_test = x_test.reshape(x_test.shape[0], 1,  x_test.shape[1])\n",
        "    y_test = y_test.reshape(y_test.shape[0],1,1)\n",
        "\n",
        "    y_predicted = model.predict(x_test)\n",
        "        \n",
        "    NE = np.sum(abs(np.array(y_test) - np.array(y_predicted))) / np.sum(abs(np.array(y_test)))\n",
        "    return NE  \n",
        "          "
      ],
      "execution_count": null,
      "outputs": []
    },
    {
      "cell_type": "code",
      "metadata": {
        "id": "AhzGibMAAiUe"
      },
      "source": [
        "%%time\n",
        "# Final plotting\n",
        "K = 25 # as we have 25 clients\n",
        "\n",
        "loss_prob = [0.1, 0.2, 0.3, 0.4, 0.5, 0.6, 0.7, 0.8, 0.9]\n",
        "models = []\n",
        "errors = []\n",
        "\n",
        "clients = {} # dictionary\n",
        "\n",
        "# reading all the clients and building model\n",
        "for lp in loss_prob:\n",
        "    for st_code in range(101,126):\n",
        "        clients[st_code] = pd.read_csv(\"/content/drive/MyDrive/Colab Notebooks/dataNew/station_code\"+str(st_code)+\".csv\", index_col = 0)\n",
        "\n",
        "        clients[st_code]['Measurement date'] = pd.to_datetime(clients[st_code]['Measurement date'])\n",
        "\n",
        "        clients[st_code]['year'] = clients[st_code]['Measurement date'].dt.year\n",
        "        clients[st_code]['month'] = clients[st_code]['Measurement date'].dt.month\n",
        "        clients[st_code]['week'] = clients[st_code]['Measurement date'].dt.week\n",
        "        clients[st_code]['day'] = clients[st_code]['Measurement date'].dt.day\n",
        "        clients[st_code]['hour'] = clients[st_code]['Measurement date'].dt.hour\n",
        "        clients[st_code]['minute'] = clients[st_code]['Measurement date'].dt.minute # minute is not significant; as only 0 values\n",
        "        clients[st_code]['dayOfWeek'] = clients[st_code]['Measurement date'].dt.dayofweek\n",
        "\n",
        "        # choosing features\n",
        "        clients[st_code] = clients[st_code][['Latitude', 'Longitude','year', 'month', 'week', 'day', 'hour', 'dayOfWeek', 'CO']]\n",
        "\n",
        "\n",
        "        # splitting into train test split\n",
        "        X, y = dataset.drop('CO', axis=1),  dataset['CO']\n",
        "        x_train, x_test, y_train, y_test = train_test_split(X, y, test_size = lp, random_state=0)\n",
        "        x_test, y_test = x_test.to_numpy(), y_test.to_numpy()\n",
        "        \n",
        "\n",
        "# dataset['date'], dataset['time'] = dataset['Measurement date'].dt.date, dataset['Measurement date'].dt.time\n",
        "# merging all the clients data\n",
        "import pandas as pd\n",
        "\n",
        "frames = list(clients.values())\n",
        "\n",
        "dataset = pd.concat(frames)\n",
        "display(dataset)\n",
        "\n",
        "\n",
        "\n",
        "\n",
        "\n",
        "for loss_p in loss_prob:\n",
        "  model = Server(loss_p)\n",
        "  errors.append(error_clients(model, loss_p))\n",
        "\n",
        "# import seaborn as sns\n",
        "# sns.lineplot(x = loss_prob, y = errors, markers=True, dashes=False)"
      ],
      "execution_count": null,
      "outputs": []
    },
    {
      "cell_type": "code",
      "metadata": {
        "id": "ZbxA3UOvAiUe"
      },
      "source": [
        "errors[0]"
      ],
      "execution_count": null,
      "outputs": []
    },
    {
      "cell_type": "code",
      "metadata": {
        "id": "XDTCp-_cAiUe"
      },
      "source": [
        "errors[0].ravel()[0]"
      ],
      "execution_count": null,
      "outputs": []
    },
    {
      "cell_type": "code",
      "metadata": {
        "id": "WFKDWUeCAiUe"
      },
      "source": [
        "# reshaping errors\n",
        "for err_idx in range(len(errors)):\n",
        "  errors[err_idx] = errors[err_idx].ravel()[0]"
      ],
      "execution_count": null,
      "outputs": []
    },
    {
      "cell_type": "code",
      "metadata": {
        "id": "tIaUbqxlAiUe"
      },
      "source": [
        "errors"
      ],
      "execution_count": null,
      "outputs": []
    },
    {
      "cell_type": "code",
      "metadata": {
        "id": "VKiN8Je0AiUe"
      },
      "source": [
        "import seaborn as sns\n",
        "sns.lineplot(x = loss_prob, y = errors, markers=True, dashes=False)"
      ],
      "execution_count": null,
      "outputs": []
    },
    {
      "cell_type": "code",
      "metadata": {
        "id": "QvpDlGvhAiUf"
      },
      "source": [
        "def traditional_ML(loss_p):\n",
        "  # initialize w_0\n",
        "  model = Sequential()\n",
        "\n",
        "  # model.add(Dense(64, kernel_initializer='zeros', bias_initializer='zeros', activation=tf.nn.relu, input_dim=6)) # first dense/hidden layer\n",
        "  model.add(Dense(64, kernel_initializer='he_uniform', bias_initializer=\"zeros\", activation=tf.nn.relu, input_dim=8))\n",
        "  model.add(Dropout(0.1))\n",
        "\n",
        "  model.add(Dense(64, kernel_initializer='he_uniform', bias_initializer=\"zeros\", activation=tf.nn.relu)) # second dense/hidden layer\n",
        "  model.add(Dropout(0.2))\n",
        "\n",
        "  model.add(Dense(1, kernel_initializer= 'he_uniform', activation=tf.nn.softmax)) # output layer\n",
        "\n",
        "  # initial_weights = model.get_weights() # setting initial weights; should be same for all clients\n",
        "\n",
        "\n",
        "  B = 1000 #int(len(clients[client_idx]) * 0.01) # so for each client the batch size would be different depending upon the total sample size\n",
        "  E = 25 #max(30, B//10) # number of local epochs; it will also depend on sample size (indirectly)\n",
        "  learning_rate = 0.1 # initial learning rate\n",
        "  decay_rate = 0.1\n",
        "  momentum = 0.8\n",
        "\n",
        "  # define the optimizer function\n",
        "  sgd = SGD(learning_rate = learning_rate, momentum = momentum, decay = decay_rate, nesterov = False)\n",
        "\n",
        "  # compile the model\n",
        "  model.compile(loss='mse', \n",
        "              optimizer=sgd, \n",
        "              metrics=['mse'])\n",
        "\n",
        "\n",
        "  # for each local epoch i from 1 to E do\n",
        "  #   for batch b ∈ B do\n",
        "  #     w ← w − η O l(w; b) # this seems the SGD process\n",
        "\n",
        "  # fitting the model: same as above two for loops\n",
        "\n",
        "  # data = dataset.loc[dataset['Station code'] == client_idx]\n",
        "\n",
        "  X, y = dataset[['Latitude', 'Longitude','year', 'month', 'week', 'day', 'hour', 'dayOfWeek']],  dataset['CO']\n",
        "\n",
        "  x_train, x_test, y_train, y_test = train_test_split(X, y, test_size = loss_p, random_state=1)\n",
        "\n",
        "  model.fit(x_train, y_train, \n",
        "                  epochs = E, \n",
        "                  batch_size=B,\n",
        "  #                     validation_data=(x_test, y_test),\n",
        "                  verbose=False)\n",
        "      \n",
        "  x_test, y_test = x_test.to_numpy(), y_test.to_numpy()\n",
        "\n",
        "  # adjusting the dimensions\n",
        "  x_test = x_test.reshape(x_test.shape[0], 1,  x_test.shape[1])\n",
        "  y_test = y_test.reshape(y_test.shape[0],1,1)\n",
        "  y_predicted = model.predict(x_test)\n",
        "      \n",
        "  NE = np.sum(abs(np.array(y_test) - np.array(y_predicted))) / np.sum(abs(np.array(y_test)))\n",
        "  return NE\n"
      ],
      "execution_count": null,
      "outputs": []
    },
    {
      "cell_type": "code",
      "metadata": {
        "id": "OAsrCj35AiUf"
      },
      "source": [
        "# Final plotting\n",
        "K = 25 # as we have 25 clients\n",
        "\n",
        "loss_prob = [0.1, 0.2, 0.3, 0.4, 0.5, 0.6, 0.7, 0.8, 0.9]\n",
        "errors = []\n",
        "\n",
        "for loss_p in loss_prob:\n",
        "  error = traditional_ML(loss_p)\n",
        "  errors.append(error)\n",
        "\n",
        "# reshaping errors\n",
        "for err_idx in range(len(errors)):\n",
        "  errors[err_idx] = errors[err_idx].ravel()[0]\n",
        "\n",
        "import seaborn as sns\n",
        "sns.lineplot(x = loss_prob, y = errors, markers=True, dashes=False)"
      ],
      "execution_count": null,
      "outputs": []
    },
    {
      "cell_type": "markdown",
      "metadata": {
        "id": "_340Qw5UAiUf"
      },
      "source": [
        "#### for each loss prob, as it explodes memory"
      ]
    },
    {
      "cell_type": "code",
      "metadata": {
        "id": "AH1TX4RXAiUf"
      },
      "source": [
        "# X, y = dataset.drop('CO', axis=1),  dataset['CO']\n",
        "\n",
        "# #     for loss_p in loss_prob:\n",
        "# x_train, x_test, y_train, y_test = train_test_split(X, y, test_size = 0.1, random_state=0)\n",
        "# x_test, y_test = x_test.to_numpy(), y_test.to_numpy()\n",
        "# x_test = x_test.reshape(x_test.shape[0], 1,  x_test.shape[1])\n",
        "# # x_test[0].shape\n",
        "# y_predicted = models[0].predict(x_test)\n",
        "    \n"
      ],
      "execution_count": null,
      "outputs": []
    },
    {
      "cell_type": "code",
      "metadata": {
        "id": "7C3Ojxg_AiUf"
      },
      "source": [
        "# y_predicted.shape"
      ],
      "execution_count": null,
      "outputs": []
    },
    {
      "cell_type": "code",
      "metadata": {
        "id": "qgfSf2IbAiUf"
      },
      "source": [
        "# y_test = y_test.reshape(y_test.shape[0], 1,1)"
      ],
      "execution_count": null,
      "outputs": []
    },
    {
      "cell_type": "code",
      "metadata": {
        "id": "uqxKbwzNAiUf"
      },
      "source": [
        "# error = sum(abs(y_test - y_predicted)) / sum(y_test)\n",
        "# # error"
      ],
      "execution_count": null,
      "outputs": []
    },
    {
      "cell_type": "code",
      "metadata": {
        "id": "sJblAobBAiUf"
      },
      "source": [
        "# sum(y_test)"
      ],
      "execution_count": null,
      "outputs": []
    },
    {
      "cell_type": "code",
      "metadata": {
        "id": "AAfPQ_98AiUg"
      },
      "source": [
        "# x_test.reshape(x_test.shape[0], x_test.shape[1], 1).shape"
      ],
      "execution_count": null,
      "outputs": []
    },
    {
      "cell_type": "code",
      "metadata": {
        "id": "SSVRUrd2AiUg"
      },
      "source": [
        "# errors.append(error_clients(models[0], loss_prob[0]))"
      ],
      "execution_count": null,
      "outputs": []
    },
    {
      "cell_type": "markdown",
      "metadata": {
        "id": "EizJ6Dty6ux7"
      },
      "source": [
        "# Trial for FL"
      ]
    },
    {
      "cell_type": "code",
      "metadata": {
        "id": "nHK9VB1f-olk",
        "colab": {
          "base_uri": "https://localhost:8080/"
        },
        "outputId": "4e461cd7-83a6-4473-843b-5feae35159f6"
      },
      "source": [
        "# ## generating random number between start to end\n",
        "# import numpy as np\n",
        " \n",
        "# start = 101   # inclusive\n",
        "# end = 125    # exclusive\n",
        "\n",
        "# n = 12\n",
        "\n",
        "# x = np.random.uniform(low=101, high=126, size=(m)).astype(int)\n",
        "# print(x)"
      ],
      "execution_count": null,
      "outputs": [
        {
          "output_type": "stream",
          "name": "stdout",
          "text": [
            "[118 108 113 118 101 105 116 124 119 105 103 111]\n"
          ]
        }
      ]
    },
    {
      "cell_type": "code",
      "metadata": {
        "id": "4nQD9MQx6-ay"
      },
      "source": [
        "from tensorflow.keras import layers\n",
        "from tensorflow.keras import initializers\n",
        "import numpy as np\n",
        "import pandas as pd\n",
        "\n",
        "import matplotlib.pyplot as plt\n",
        "import tensorflow as tf\n",
        "from tensorflow.keras.layers import Activation\n",
        "from tensorflow.keras.layers import Dense\n",
        "from tensorflow.keras.models import Sequential\n",
        "from tensorflow.keras.callbacks import Callback\n",
        "from tensorflow.keras.optimizers import Adam"
      ],
      "execution_count": null,
      "outputs": []
    },
    {
      "cell_type": "code",
      "metadata": {
        "id": "DkeRI8uH_XYc",
        "colab": {
          "base_uri": "https://localhost:8080/"
        },
        "outputId": "247356cf-316b-47e2-ae80-6a36e5134c72"
      },
      "source": [
        "## clients\n",
        "clients = []\n",
        "\n",
        "for i in range(10): # number of clients = 10\n",
        "  client = []\n",
        "  client.append(np.random.uniform(low=1, high=12, size=(5)).astype(int))\n",
        "  client.append(2*client[0] + 5)\n",
        "  clients.append(client)\n",
        "\n",
        "weight_t_plus_1 = [None] * 10 #10 represents the number of clients\n",
        "\n",
        "clients"
      ],
      "execution_count": null,
      "outputs": [
        {
          "output_type": "execute_result",
          "data": {
            "text/plain": [
              "[[array([10,  5,  9,  1,  6]), array([25, 15, 23,  7, 17])],\n",
              " [array([ 4,  3,  3, 11,  6]), array([13, 11, 11, 27, 17])],\n",
              " [array([ 3,  3, 10,  9,  7]), array([11, 11, 25, 23, 19])],\n",
              " [array([ 6,  8,  9,  3, 11]), array([17, 21, 23, 11, 27])],\n",
              " [array([11,  4,  3,  7, 11]), array([27, 13, 11, 19, 27])],\n",
              " [array([ 8, 11,  9,  8,  1]), array([21, 27, 23, 21,  7])],\n",
              " [array([5, 9, 8, 1, 7]), array([15, 23, 21,  7, 19])],\n",
              " [array([ 2,  5, 11,  4,  8]), array([ 9, 15, 27, 13, 21])],\n",
              " [array([3, 7, 8, 1, 6]), array([11, 19, 21,  7, 17])],\n",
              " [array([2, 6, 6, 3, 2]), array([ 9, 17, 17, 11,  9])]]"
            ]
          },
          "metadata": {},
          "execution_count": 12
        }
      ]
    },
    {
      "cell_type": "code",
      "metadata": {
        "id": "AgC00t626zmA"
      },
      "source": [
        "def client(X, y, model):\n",
        "  adam = Adam(learning_rate = 0.01)\n",
        "  model.compile(optimizer = adam,\n",
        "              loss = 'mse',\n",
        "              metrics = ['mse'])\n",
        "  print(\"Before Training\")\n",
        "  print(model.get_weights())\n",
        "  print()\n",
        "  model.fit(X, y, epochs = 10, verbose=False)\n",
        "  print(\"After Training\")\n",
        "  print(model.get_weights())\n",
        "  print()\n",
        "\n",
        "  return model"
      ],
      "execution_count": null,
      "outputs": []
    },
    {
      "cell_type": "code",
      "metadata": {
        "id": "12GC6RQd7Msi"
      },
      "source": [
        "def server():\n",
        "  # Defining the architecture of NN model\n",
        "  model = Sequential()\n",
        "\n",
        "  model.add(Dense(5, input_dim = 1, activation = 'linear'))\n",
        "  # model.add(Dense(5,  activation = 'linear'))\n",
        "  print(\"initial weight :\", model.get_weights())\n",
        "  print()\n",
        "\n",
        "  # defining weight matrix for t+1th roung\n",
        "  # weight_t_plus_1 = [None] * 10 #10 represents the number of clients\n",
        "\n",
        "\n",
        "\n",
        "  import numpy as np\n",
        "\n",
        "  # update\n",
        "  initial_weights = model.get_weights() # setting initial weights\n",
        "\n",
        "  for i in range(10):\n",
        "    client(clients[i][0], clients[i][1], model) # pass by reference\n",
        "    print(str(i),\"th model's weights\", model.get_weights())\n",
        "    \n",
        "    weight_t_plus_1[i] = model.get_weights()\n",
        "\n",
        "    print()\n",
        "\n",
        "    # setting weights back to initial weights\n",
        "    model.set_weights(initial_weights)\n",
        "    \n"
      ],
      "execution_count": null,
      "outputs": []
    },
    {
      "cell_type": "code",
      "metadata": {
        "id": "JbQdwcBz7ULp"
      },
      "source": [
        "## Server running\n",
        "server()"
      ],
      "execution_count": null,
      "outputs": []
    },
    {
      "cell_type": "code",
      "metadata": {
        "id": "ddvyRRMb7fpX"
      },
      "source": [
        "## adding/ all the weights\n",
        "weights = np.array(weight_t_plus_1[0])\n",
        "\n",
        "for i in range(1,10):\n",
        "  weights += np.array(weight_t_plus_1[i])\n",
        "weights"
      ],
      "execution_count": null,
      "outputs": []
    },
    {
      "cell_type": "code",
      "metadata": {
        "colab": {
          "base_uri": "https://localhost:8080/"
        },
        "id": "tXTQltLx8QJz",
        "outputId": "a57a8501-d700-409e-f518-3efb5887d918"
      },
      "source": [
        "# checking whether we can add the elements\n",
        "a = 0\n",
        "for i in range(10):\n",
        "  a += weight_t_plus_1[i][0][0][1]\n",
        "a"
      ],
      "execution_count": null,
      "outputs": [
        {
          "output_type": "execute_result",
          "data": {
            "text/plain": [
              "-6.675058722496033"
            ]
          },
          "metadata": {},
          "execution_count": 10
        }
      ]
    },
    {
      "cell_type": "code",
      "metadata": {
        "id": "AGDSctyf8jwG"
      },
      "source": [
        "# checking if 0.5 gets multiplied will all the numbers\n",
        "np.array(weight_t_plus_1[1])* 0.5"
      ],
      "execution_count": null,
      "outputs": []
    },
    {
      "cell_type": "code",
      "metadata": {
        "id": "ITXwndrTnrK8"
      },
      "source": [
        "# merging all the data frames\n",
        "import pandas as pd\n",
        "# First DataFrame\n",
        "df1 = pd.DataFrame({'id': ['A01', 'A02', 'A03', 'A04'],\n",
        "\t\t\t\t\t'Name': ['ABC', 'PQR', 'DEF', 'GHI']})\n",
        "\n",
        "# Second DataFrame\n",
        "df2 = pd.DataFrame({'id': ['B05', 'B06', 'B07', 'B08'],\n",
        "\t\t\t\t\t'Name': ['XYZ', 'TUV', 'MNO', 'JKL']})\n",
        "\n",
        "df3 = pd.DataFrame({'id': ['B05', 'B06', 'B07', 'B08'],\n",
        "\t\t\t\t\t'Name': ['XYZ', 'TUV', 'MNO', 'JKL']})\n",
        "\n",
        "frames = [df1, df2, df3]\n",
        "\n",
        "result = pd.concat(frames)\n",
        "display(result)\n"
      ],
      "execution_count": null,
      "outputs": []
    }
  ]
}